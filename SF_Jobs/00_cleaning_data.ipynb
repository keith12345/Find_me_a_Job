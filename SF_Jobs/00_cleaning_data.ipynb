{
 "cells": [
  {
   "cell_type": "code",
   "execution_count": 1,
   "metadata": {},
   "outputs": [],
   "source": [
    "import numpy as np\n",
    "import pandas as pd\n",
    "\n",
    "import re\n",
    "import string\n",
    "\n",
    "import nltk\n",
    "# nltk.download('stopwords')\n",
    "# nltk.download('wordnet')\n",
    "from nltk.stem import WordNetLemmatizer\n",
    "from nltk.corpus import stopwords\n",
    "\n",
    "from pymongo import MongoClient"
   ]
  },
  {
   "cell_type": "markdown",
   "metadata": {},
   "source": [
    "### Load data from MongoDB in pandas dataframe"
   ]
  },
  {
   "cell_type": "code",
   "execution_count": 2,
   "metadata": {},
   "outputs": [
    {
     "data": {
      "text/plain": [
       "['admin', 'jobs_data', 'local']"
      ]
     },
     "execution_count": 2,
     "metadata": {},
     "output_type": "execute_result"
    }
   ],
   "source": [
    "client = MongoClient()\n",
    "client.list_database_names()"
   ]
  },
  {
   "cell_type": "code",
   "execution_count": 3,
   "metadata": {},
   "outputs": [
    {
     "data": {
      "text/plain": [
       "['Chicago_Jobs',\n",
       " 'Los_Angeles_Jobs',\n",
       " 'SF_Bay_Area_Jobs',\n",
       " 'Seattle_Jobs',\n",
       " 'New_York_Jobs']"
      ]
     },
     "execution_count": 3,
     "metadata": {},
     "output_type": "execute_result"
    }
   ],
   "source": [
    "db = client.jobs_data\n",
    "db.list_collection_names()"
   ]
  },
  {
   "cell_type": "code",
   "execution_count": 4,
   "metadata": {},
   "outputs": [
    {
     "data": {
      "text/html": [
       "<div>\n",
       "<style scoped>\n",
       "    .dataframe tbody tr th:only-of-type {\n",
       "        vertical-align: middle;\n",
       "    }\n",
       "\n",
       "    .dataframe tbody tr th {\n",
       "        vertical-align: top;\n",
       "    }\n",
       "\n",
       "    .dataframe thead th {\n",
       "        text-align: right;\n",
       "    }\n",
       "</style>\n",
       "<table border=\"1\" class=\"dataframe\">\n",
       "  <thead>\n",
       "    <tr style=\"text-align: right;\">\n",
       "      <th></th>\n",
       "      <th>company_name</th>\n",
       "      <th>job_title</th>\n",
       "      <th>listed_items</th>\n",
       "      <th>url</th>\n",
       "    </tr>\n",
       "  </thead>\n",
       "  <tbody>\n",
       "    <tr>\n",
       "      <th>0</th>\n",
       "      <td>24 Hour Fitness</td>\n",
       "      <td>Real Estate/Financial Analyst</td>\n",
       "      <td>Financial Analysis: 3 years (Preferred)</td>\n",
       "      <td>https://www.indeed.com/company/24-Hour-Fitness...</td>\n",
       "    </tr>\n",
       "    <tr>\n",
       "      <th>1</th>\n",
       "      <td>Affimedix Inc</td>\n",
       "      <td>Scientist - Molecular Biology</td>\n",
       "      <td>Molecular cloning of DNA libraries. Library sc...</td>\n",
       "      <td>https://www.indeed.com/company/Affimedix-Inc/j...</td>\n",
       "    </tr>\n",
       "    <tr>\n",
       "      <th>2</th>\n",
       "      <td>AllAccem, Inc.</td>\n",
       "      <td>Associate Chemist, Production Chemistry</td>\n",
       "      <td>Assist in carrying out SOP chemical reactions ...</td>\n",
       "      <td>https://www.indeed.com/company/AllAccem,-Inc./...</td>\n",
       "    </tr>\n",
       "    <tr>\n",
       "      <th>3</th>\n",
       "      <td>Alveo Technologies</td>\n",
       "      <td>Scientist I</td>\n",
       "      <td>Perform experiments at the bench and on protot...</td>\n",
       "      <td>https://www.indeed.com/company/Alveo-Technolog...</td>\n",
       "    </tr>\n",
       "    <tr>\n",
       "      <th>5</th>\n",
       "      <td>Alveo Technologies</td>\n",
       "      <td>Senior Scientist</td>\n",
       "      <td>Work closely with the Director of Assay Develo...</td>\n",
       "      <td>https://www.indeed.com/company/Alveo-Technolog...</td>\n",
       "    </tr>\n",
       "  </tbody>\n",
       "</table>\n",
       "</div>"
      ],
      "text/plain": [
       "         company_name                                job_title  \\\n",
       "0     24 Hour Fitness            Real Estate/Financial Analyst   \n",
       "1       Affimedix Inc            Scientist - Molecular Biology   \n",
       "2      AllAccem, Inc.  Associate Chemist, Production Chemistry   \n",
       "3  Alveo Technologies                              Scientist I   \n",
       "5  Alveo Technologies                         Senior Scientist   \n",
       "\n",
       "                                        listed_items  \\\n",
       "0            Financial Analysis: 3 years (Preferred)   \n",
       "1  Molecular cloning of DNA libraries. Library sc...   \n",
       "2  Assist in carrying out SOP chemical reactions ...   \n",
       "3  Perform experiments at the bench and on protot...   \n",
       "5  Work closely with the Director of Assay Develo...   \n",
       "\n",
       "                                                 url  \n",
       "0  https://www.indeed.com/company/24-Hour-Fitness...  \n",
       "1  https://www.indeed.com/company/Affimedix-Inc/j...  \n",
       "2  https://www.indeed.com/company/AllAccem,-Inc./...  \n",
       "3  https://www.indeed.com/company/Alveo-Technolog...  \n",
       "5  https://www.indeed.com/company/Alveo-Technolog...  "
      ]
     },
     "execution_count": 4,
     "metadata": {},
     "output_type": "execute_result"
    }
   ],
   "source": [
    "cursor = db.SF_Bay_Area_Jobs.find({}, \n",
    "    {'_id':0, 'url':1, 'job_title':1, 'company_name':1, 'listed_items':1})\n",
    "df = pd.DataFrame(list(cursor))\n",
    "df = df.drop_duplicates('listed_items')\n",
    "df.head()"
   ]
  },
  {
   "cell_type": "markdown",
   "metadata": {},
   "source": [
    "### Remove non-word characters and make lower\n",
    "Note that \"listed_items\" refers to anything that was bulleted/listed in the job description. Paragraph form text was not used."
   ]
  },
  {
   "cell_type": "code",
   "execution_count": 5,
   "metadata": {},
   "outputs": [
    {
     "data": {
      "text/html": [
       "<div>\n",
       "<style scoped>\n",
       "    .dataframe tbody tr th:only-of-type {\n",
       "        vertical-align: middle;\n",
       "    }\n",
       "\n",
       "    .dataframe tbody tr th {\n",
       "        vertical-align: top;\n",
       "    }\n",
       "\n",
       "    .dataframe thead th {\n",
       "        text-align: right;\n",
       "    }\n",
       "</style>\n",
       "<table border=\"1\" class=\"dataframe\">\n",
       "  <thead>\n",
       "    <tr style=\"text-align: right;\">\n",
       "      <th></th>\n",
       "      <th>company_name</th>\n",
       "      <th>job_title</th>\n",
       "      <th>listed_items</th>\n",
       "      <th>url</th>\n",
       "    </tr>\n",
       "  </thead>\n",
       "  <tbody>\n",
       "    <tr>\n",
       "      <th>0</th>\n",
       "      <td>24 Hour Fitness</td>\n",
       "      <td>Real Estate/Financial Analyst</td>\n",
       "      <td>financial analysis   years preferred</td>\n",
       "      <td>https://www.indeed.com/company/24-Hour-Fitness...</td>\n",
       "    </tr>\n",
       "    <tr>\n",
       "      <th>1</th>\n",
       "      <td>Affimedix Inc</td>\n",
       "      <td>Scientist - Molecular Biology</td>\n",
       "      <td>molecular cloning of dna libraries library scr...</td>\n",
       "      <td>https://www.indeed.com/company/Affimedix-Inc/j...</td>\n",
       "    </tr>\n",
       "    <tr>\n",
       "      <th>2</th>\n",
       "      <td>AllAccem, Inc.</td>\n",
       "      <td>Associate Chemist, Production Chemistry</td>\n",
       "      <td>assist in carrying out sop chemical reactions ...</td>\n",
       "      <td>https://www.indeed.com/company/AllAccem,-Inc./...</td>\n",
       "    </tr>\n",
       "    <tr>\n",
       "      <th>3</th>\n",
       "      <td>Alveo Technologies</td>\n",
       "      <td>Scientist I</td>\n",
       "      <td>perform experiments at the bench and on protot...</td>\n",
       "      <td>https://www.indeed.com/company/Alveo-Technolog...</td>\n",
       "    </tr>\n",
       "    <tr>\n",
       "      <th>5</th>\n",
       "      <td>Alveo Technologies</td>\n",
       "      <td>Senior Scientist</td>\n",
       "      <td>work closely with the director of assay develo...</td>\n",
       "      <td>https://www.indeed.com/company/Alveo-Technolog...</td>\n",
       "    </tr>\n",
       "  </tbody>\n",
       "</table>\n",
       "</div>"
      ],
      "text/plain": [
       "         company_name                                job_title  \\\n",
       "0     24 Hour Fitness            Real Estate/Financial Analyst   \n",
       "1       Affimedix Inc            Scientist - Molecular Biology   \n",
       "2      AllAccem, Inc.  Associate Chemist, Production Chemistry   \n",
       "3  Alveo Technologies                              Scientist I   \n",
       "5  Alveo Technologies                         Senior Scientist   \n",
       "\n",
       "                                        listed_items  \\\n",
       "0              financial analysis   years preferred    \n",
       "1  molecular cloning of dna libraries library scr...   \n",
       "2  assist in carrying out sop chemical reactions ...   \n",
       "3  perform experiments at the bench and on protot...   \n",
       "5  work closely with the director of assay develo...   \n",
       "\n",
       "                                                 url  \n",
       "0  https://www.indeed.com/company/24-Hour-Fitness...  \n",
       "1  https://www.indeed.com/company/Affimedix-Inc/j...  \n",
       "2  https://www.indeed.com/company/AllAccem,-Inc./...  \n",
       "3  https://www.indeed.com/company/Alveo-Technolog...  \n",
       "5  https://www.indeed.com/company/Alveo-Technolog...  "
      ]
     },
     "execution_count": 5,
     "metadata": {},
     "output_type": "execute_result"
    }
   ],
   "source": [
    "alphabet = lambda x: re.sub('[\\W]+|[0-9]+', ' ', x)\n",
    "punc_lower = lambda x: re.sub('[%s]' % re.escape(string.punctuation), ' ', x.lower())\n",
    "double_space = lambda X: re.sub(' +', ' ',string4)\n",
    "\n",
    "df['listed_items'] = df.listed_items.map(alphabet).map(punc_lower)\n",
    "df.head()"
   ]
  },
  {
   "cell_type": "markdown",
   "metadata": {},
   "source": [
    "Some listed_items fields are blank so we'll just get rid of them."
   ]
  },
  {
   "cell_type": "code",
   "execution_count": 6,
   "metadata": {},
   "outputs": [],
   "source": [
    "blank_indeces = df[df.listed_items == ''].index\n",
    "df = df.drop(blank_indeces)"
   ]
  },
  {
   "cell_type": "markdown",
   "metadata": {},
   "source": [
    "### Remove common english stop words"
   ]
  },
  {
   "cell_type": "code",
   "execution_count": 7,
   "metadata": {},
   "outputs": [],
   "source": [
    "stop = set(stopwords.words('english'))"
   ]
  },
  {
   "cell_type": "code",
   "execution_count": 8,
   "metadata": {},
   "outputs": [
    {
     "data": {
      "text/html": [
       "<div>\n",
       "<style scoped>\n",
       "    .dataframe tbody tr th:only-of-type {\n",
       "        vertical-align: middle;\n",
       "    }\n",
       "\n",
       "    .dataframe tbody tr th {\n",
       "        vertical-align: top;\n",
       "    }\n",
       "\n",
       "    .dataframe thead th {\n",
       "        text-align: right;\n",
       "    }\n",
       "</style>\n",
       "<table border=\"1\" class=\"dataframe\">\n",
       "  <thead>\n",
       "    <tr style=\"text-align: right;\">\n",
       "      <th></th>\n",
       "      <th>company_name</th>\n",
       "      <th>job_title</th>\n",
       "      <th>listed_items</th>\n",
       "      <th>url</th>\n",
       "    </tr>\n",
       "  </thead>\n",
       "  <tbody>\n",
       "    <tr>\n",
       "      <th>0</th>\n",
       "      <td>24 Hour Fitness</td>\n",
       "      <td>Real Estate/Financial Analyst</td>\n",
       "      <td>financial analysis years preferred</td>\n",
       "      <td>https://www.indeed.com/company/24-Hour-Fitness...</td>\n",
       "    </tr>\n",
       "    <tr>\n",
       "      <th>1</th>\n",
       "      <td>Affimedix Inc</td>\n",
       "      <td>Scientist - Molecular Biology</td>\n",
       "      <td>molecular cloning dna libraries library screen...</td>\n",
       "      <td>https://www.indeed.com/company/Affimedix-Inc/j...</td>\n",
       "    </tr>\n",
       "    <tr>\n",
       "      <th>2</th>\n",
       "      <td>AllAccem, Inc.</td>\n",
       "      <td>Associate Chemist, Production Chemistry</td>\n",
       "      <td>assist carrying sop chemical reactions gram mu...</td>\n",
       "      <td>https://www.indeed.com/company/AllAccem,-Inc./...</td>\n",
       "    </tr>\n",
       "    <tr>\n",
       "      <th>3</th>\n",
       "      <td>Alveo Technologies</td>\n",
       "      <td>Scientist I</td>\n",
       "      <td>perform experiments bench prototype devices su...</td>\n",
       "      <td>https://www.indeed.com/company/Alveo-Technolog...</td>\n",
       "    </tr>\n",
       "    <tr>\n",
       "      <th>5</th>\n",
       "      <td>Alveo Technologies</td>\n",
       "      <td>Senior Scientist</td>\n",
       "      <td>work closely director assay development achiev...</td>\n",
       "      <td>https://www.indeed.com/company/Alveo-Technolog...</td>\n",
       "    </tr>\n",
       "  </tbody>\n",
       "</table>\n",
       "</div>"
      ],
      "text/plain": [
       "         company_name                                job_title  \\\n",
       "0     24 Hour Fitness            Real Estate/Financial Analyst   \n",
       "1       Affimedix Inc            Scientist - Molecular Biology   \n",
       "2      AllAccem, Inc.  Associate Chemist, Production Chemistry   \n",
       "3  Alveo Technologies                              Scientist I   \n",
       "5  Alveo Technologies                         Senior Scientist   \n",
       "\n",
       "                                        listed_items  \\\n",
       "0                 financial analysis years preferred   \n",
       "1  molecular cloning dna libraries library screen...   \n",
       "2  assist carrying sop chemical reactions gram mu...   \n",
       "3  perform experiments bench prototype devices su...   \n",
       "5  work closely director assay development achiev...   \n",
       "\n",
       "                                                 url  \n",
       "0  https://www.indeed.com/company/24-Hour-Fitness...  \n",
       "1  https://www.indeed.com/company/Affimedix-Inc/j...  \n",
       "2  https://www.indeed.com/company/AllAccem,-Inc./...  \n",
       "3  https://www.indeed.com/company/Alveo-Technolog...  \n",
       "5  https://www.indeed.com/company/Alveo-Technolog...  "
      ]
     },
     "execution_count": 8,
     "metadata": {},
     "output_type": "execute_result"
    }
   ],
   "source": [
    "df['listed_items'] = df.listed_items.apply(lambda x: \n",
    "                [item for item in x.split() if item not in stop])\n",
    "df['listed_items'] = df.listed_items.str.join(' ')\n",
    "df.head()"
   ]
  },
  {
   "cell_type": "markdown",
   "metadata": {},
   "source": [
    "### Stemming and Lemmatization\n",
    "Lemmatization was chosen over stemming for the sake of interpreting ngrams.  \n",
    "I felt comfortable doing this despite how expensive lemmatization is compared to stemming due to the fact that my dataset was not particularly large."
   ]
  },
  {
   "cell_type": "code",
   "execution_count": 11,
   "metadata": {},
   "outputs": [],
   "source": [
    "lem = WordNetLemmatizer()"
   ]
  },
  {
   "cell_type": "code",
   "execution_count": 12,
   "metadata": {},
   "outputs": [],
   "source": [
    "def description_lemmatizer(description):\n",
    "    tokens = description.split()\n",
    "    stemmed_tokens = [lem.lemmatize(token) for token in tokens]\n",
    "    return ' '.join(stemmed_tokens)"
   ]
  },
  {
   "cell_type": "code",
   "execution_count": 13,
   "metadata": {
    "scrolled": true
   },
   "outputs": [
    {
     "data": {
      "text/html": [
       "<div>\n",
       "<style scoped>\n",
       "    .dataframe tbody tr th:only-of-type {\n",
       "        vertical-align: middle;\n",
       "    }\n",
       "\n",
       "    .dataframe tbody tr th {\n",
       "        vertical-align: top;\n",
       "    }\n",
       "\n",
       "    .dataframe thead th {\n",
       "        text-align: right;\n",
       "    }\n",
       "</style>\n",
       "<table border=\"1\" class=\"dataframe\">\n",
       "  <thead>\n",
       "    <tr style=\"text-align: right;\">\n",
       "      <th></th>\n",
       "      <th>company_name</th>\n",
       "      <th>job_title</th>\n",
       "      <th>listed_items</th>\n",
       "      <th>url</th>\n",
       "    </tr>\n",
       "  </thead>\n",
       "  <tbody>\n",
       "    <tr>\n",
       "      <th>0</th>\n",
       "      <td>24 Hour Fitness</td>\n",
       "      <td>Real Estate/Financial Analyst</td>\n",
       "      <td>financial analysis year preferred</td>\n",
       "      <td>https://www.indeed.com/company/24-Hour-Fitness...</td>\n",
       "    </tr>\n",
       "    <tr>\n",
       "      <th>1</th>\n",
       "      <td>Affimedix Inc</td>\n",
       "      <td>Scientist - Molecular Biology</td>\n",
       "      <td>molecular cloning dna library library screenin...</td>\n",
       "      <td>https://www.indeed.com/company/Affimedix-Inc/j...</td>\n",
       "    </tr>\n",
       "    <tr>\n",
       "      <th>2</th>\n",
       "      <td>AllAccem, Inc.</td>\n",
       "      <td>Associate Chemist, Production Chemistry</td>\n",
       "      <td>assist carrying sop chemical reaction gram mul...</td>\n",
       "      <td>https://www.indeed.com/company/AllAccem,-Inc./...</td>\n",
       "    </tr>\n",
       "    <tr>\n",
       "      <th>3</th>\n",
       "      <td>Alveo Technologies</td>\n",
       "      <td>Scientist I</td>\n",
       "      <td>perform experiment bench prototype device supp...</td>\n",
       "      <td>https://www.indeed.com/company/Alveo-Technolog...</td>\n",
       "    </tr>\n",
       "    <tr>\n",
       "      <th>5</th>\n",
       "      <td>Alveo Technologies</td>\n",
       "      <td>Senior Scientist</td>\n",
       "      <td>work closely director assay development achiev...</td>\n",
       "      <td>https://www.indeed.com/company/Alveo-Technolog...</td>\n",
       "    </tr>\n",
       "  </tbody>\n",
       "</table>\n",
       "</div>"
      ],
      "text/plain": [
       "         company_name                                job_title  \\\n",
       "0     24 Hour Fitness            Real Estate/Financial Analyst   \n",
       "1       Affimedix Inc            Scientist - Molecular Biology   \n",
       "2      AllAccem, Inc.  Associate Chemist, Production Chemistry   \n",
       "3  Alveo Technologies                              Scientist I   \n",
       "5  Alveo Technologies                         Senior Scientist   \n",
       "\n",
       "                                        listed_items  \\\n",
       "0                  financial analysis year preferred   \n",
       "1  molecular cloning dna library library screenin...   \n",
       "2  assist carrying sop chemical reaction gram mul...   \n",
       "3  perform experiment bench prototype device supp...   \n",
       "5  work closely director assay development achiev...   \n",
       "\n",
       "                                                 url  \n",
       "0  https://www.indeed.com/company/24-Hour-Fitness...  \n",
       "1  https://www.indeed.com/company/Affimedix-Inc/j...  \n",
       "2  https://www.indeed.com/company/AllAccem,-Inc./...  \n",
       "3  https://www.indeed.com/company/Alveo-Technolog...  \n",
       "5  https://www.indeed.com/company/Alveo-Technolog...  "
      ]
     },
     "execution_count": 13,
     "metadata": {},
     "output_type": "execute_result"
    }
   ],
   "source": [
    "df['listed_items'] = df.listed_items.apply(description_lemmatizer)\n",
    "df.head()"
   ]
  },
  {
   "cell_type": "markdown",
   "metadata": {},
   "source": [
    "The below were added much later on after KMeans clustering and NMF topic modeling had been performed. You'll notice that the middle section is composed mostly of 'perk' terms and actually had their own topic when doing topic modeling with both LDA and NMF."
   ]
  },
  {
   "cell_type": "code",
   "execution_count": 15,
   "metadata": {},
   "outputs": [],
   "source": [
    "nmf_tfidf_stopwords = ['market', 'roadmap', 'experience', 'need',\n",
    " 'solution', 'technology', 'requirement', 'ability', 'user',\n",
    " 'new', 'science', 'scientist', 'service', 'organization', 'working',\n",
    " 'year', 'uber', 'system', 'software', 'technology', 'year', 'service',\n",
    " 'computer', 'working', 'etc', 'equivalent', 'modern', 'degree',\n",
    " 'feature', 'good', 'skill', 'google', 'sample', 'including', 'ng',\n",
    " 'benefit', 'dental', 'paid', 'vision', 'medical', 'lunch', 'employee',\n",
    " 'insurance', 'medical_dental', 'commuter', 'company', 'health',\n",
    " 'flexible', 'snack', 'discount', '401k', 'catered', 'commuter_benefit',\n",
    " 'leave', 'vacation', 'competitive', 'plan', 'holiday', 'equity',\n",
    " 'time', 'coverage', 'salary', 'free', 'office', 'gym', 'drink',\n",
    " 'program', 'fully', 'generous', 'parental', 'competitive_salary',\n",
    " '401', 'day', 'catered_lunch', '100', 'wellness', 'dependent', 'week',\n",
    " 'daily', 'stipend', 'stocked', 'pto', 'reimbursement', 'membership',\n",
    " 'family', 'matching', 'monthly', 'disability', 'help', 'kitchen',\n",
    " 'world', 'francisco', 'bonus', 'life', 'opportunity', 'career', 'san',\n",
    " 'hour', 'people', 'open', 'unlimited', 'every', 'tax', 'location',\n",
    " 'phone', 'term', 'volunteer', 'juul', 'subsidy', 'great', 'site',\n",
    " 'breakfast', 'policy', 'dinner', 'parking', 'talented', 'growth',\n",
    " 'option', 'compensation', 'experience', 'grow', 'stock', 'supportive',\n",
    " 'contribution', 'place', 'maternity', 'pre', 'one', 'offer', 'premium',\n",
    " 'growing', 'match', 'annual', 'fun', 'culture', 'happy', 'retirement',\n",
    " 'long', 'care', 'healthy', 'heart', 'fsa', 'committed', 'coffee',\n",
    " 'take', 'environment', 'goal', 'teammate', 'transportation', 'spending',\n",
    " 'food', 'dress', 'exceed', 'short', 'boundless', 'package', 'full', \n",
    " 'sponsored', 'get', 'tech', 'twitch', 'plus', 'schedule', 'event', \n",
    " 'meaningful', 'massage', 'greatest', 'comprehensive', 'choice', 'brand', \n",
    " 'year', 'downtown', 'excellent', 'real', 'healthcare', 'per', 'perk', \n",
    " 'talk', 'fast', 'success', 'consumer', 'pay', 'top', 'big', 'assistance', \n",
    " 'engineering', 'casual', 'home', 'professional', 'best', 'view', \n",
    " 'served', 'performance', 'set', 'tuition', 'class', 'friday', '10', \n",
    " 'always', 'regular', 'amazon', 'smart', 'give', 'want', 'including', \n",
    " 'meet', 'month', 'tap', 'rate', 'employer', 'station', 'talent', 'space', \n",
    " 'high', 'monday', 'non', 'bi', 'skill', 'must', 'manufacturing', 'able',\n",
    " 'sexual', 'orientation',  'gender',  'identity', 'www', 'linkedin', 'com',\n",
    " 'data', 'code', 'team', 'work']"
   ]
  },
  {
   "cell_type": "code",
   "execution_count": 17,
   "metadata": {},
   "outputs": [
    {
     "data": {
      "text/html": [
       "<div>\n",
       "<style scoped>\n",
       "    .dataframe tbody tr th:only-of-type {\n",
       "        vertical-align: middle;\n",
       "    }\n",
       "\n",
       "    .dataframe tbody tr th {\n",
       "        vertical-align: top;\n",
       "    }\n",
       "\n",
       "    .dataframe thead th {\n",
       "        text-align: right;\n",
       "    }\n",
       "</style>\n",
       "<table border=\"1\" class=\"dataframe\">\n",
       "  <thead>\n",
       "    <tr style=\"text-align: right;\">\n",
       "      <th></th>\n",
       "      <th>company_name</th>\n",
       "      <th>job_title</th>\n",
       "      <th>listed_items</th>\n",
       "      <th>url</th>\n",
       "    </tr>\n",
       "  </thead>\n",
       "  <tbody>\n",
       "    <tr>\n",
       "      <th>0</th>\n",
       "      <td>24 Hour Fitness</td>\n",
       "      <td>Real Estate/Financial Analyst</td>\n",
       "      <td>financial analysis preferred</td>\n",
       "      <td>https://www.indeed.com/company/24-Hour-Fitness...</td>\n",
       "    </tr>\n",
       "    <tr>\n",
       "      <th>1</th>\n",
       "      <td>Affimedix Inc</td>\n",
       "      <td>Scientist - Molecular Biology</td>\n",
       "      <td>molecular cloning dna library library screenin...</td>\n",
       "      <td>https://www.indeed.com/company/Affimedix-Inc/j...</td>\n",
       "    </tr>\n",
       "    <tr>\n",
       "      <th>2</th>\n",
       "      <td>AllAccem, Inc.</td>\n",
       "      <td>Associate Chemist, Production Chemistry</td>\n",
       "      <td>assist carrying sop chemical reaction gram mul...</td>\n",
       "      <td>https://www.indeed.com/company/AllAccem,-Inc./...</td>\n",
       "    </tr>\n",
       "    <tr>\n",
       "      <th>3</th>\n",
       "      <td>Alveo Technologies</td>\n",
       "      <td>Scientist I</td>\n",
       "      <td>perform experiment bench prototype device supp...</td>\n",
       "      <td>https://www.indeed.com/company/Alveo-Technolog...</td>\n",
       "    </tr>\n",
       "    <tr>\n",
       "      <th>5</th>\n",
       "      <td>Alveo Technologies</td>\n",
       "      <td>Senior Scientist</td>\n",
       "      <td>closely director assay development achieve pro...</td>\n",
       "      <td>https://www.indeed.com/company/Alveo-Technolog...</td>\n",
       "    </tr>\n",
       "  </tbody>\n",
       "</table>\n",
       "</div>"
      ],
      "text/plain": [
       "         company_name                                job_title  \\\n",
       "0     24 Hour Fitness            Real Estate/Financial Analyst   \n",
       "1       Affimedix Inc            Scientist - Molecular Biology   \n",
       "2      AllAccem, Inc.  Associate Chemist, Production Chemistry   \n",
       "3  Alveo Technologies                              Scientist I   \n",
       "5  Alveo Technologies                         Senior Scientist   \n",
       "\n",
       "                                        listed_items  \\\n",
       "0                       financial analysis preferred   \n",
       "1  molecular cloning dna library library screenin...   \n",
       "2  assist carrying sop chemical reaction gram mul...   \n",
       "3  perform experiment bench prototype device supp...   \n",
       "5  closely director assay development achieve pro...   \n",
       "\n",
       "                                                 url  \n",
       "0  https://www.indeed.com/company/24-Hour-Fitness...  \n",
       "1  https://www.indeed.com/company/Affimedix-Inc/j...  \n",
       "2  https://www.indeed.com/company/AllAccem,-Inc./...  \n",
       "3  https://www.indeed.com/company/Alveo-Technolog...  \n",
       "5  https://www.indeed.com/company/Alveo-Technolog...  "
      ]
     },
     "execution_count": 17,
     "metadata": {},
     "output_type": "execute_result"
    }
   ],
   "source": [
    "df['listed_items'] = df.listed_items.apply(lambda x: \n",
    "                [item for item in x.split() if item not in nmf_tfidf_stopwords])\n",
    "df['listed_items'] = df.listed_items.str.join(' ')\n",
    "df.head()"
   ]
  },
  {
   "cell_type": "code",
   "execution_count": 19,
   "metadata": {},
   "outputs": [
    {
     "data": {
      "text/plain": [
       "3811"
      ]
     },
     "execution_count": 19,
     "metadata": {},
     "output_type": "execute_result"
    }
   ],
   "source": [
    "df['string_len'] = df.listed_items.apply(lambda x: len(x.split()))\n",
    "len(df)"
   ]
  },
  {
   "cell_type": "code",
   "execution_count": 21,
   "metadata": {},
   "outputs": [
    {
     "data": {
      "text/plain": [
       "3760"
      ]
     },
     "execution_count": 21,
     "metadata": {},
     "output_type": "execute_result"
    }
   ],
   "source": [
    "# Removes descriptions with only a few words\n",
    "df = df[df.string_len > 20]\n",
    "len(df)"
   ]
  },
  {
   "cell_type": "code",
   "execution_count": 24,
   "metadata": {},
   "outputs": [],
   "source": [
    "df.drop('string_len', axis=1, inplace=True)\n",
    "df.reset_index(inplace=True, drop=True)\n",
    "df.to_pickle('../Data/01_clean_sf')"
   ]
  }
 ],
 "metadata": {
  "kernelspec": {
   "display_name": "Python 3",
   "language": "python",
   "name": "python3"
  },
  "language_info": {
   "codemirror_mode": {
    "name": "ipython",
    "version": 3
   },
   "file_extension": ".py",
   "mimetype": "text/x-python",
   "name": "python",
   "nbconvert_exporter": "python",
   "pygments_lexer": "ipython3",
   "version": "3.7.3"
  }
 },
 "nbformat": 4,
 "nbformat_minor": 4
}
