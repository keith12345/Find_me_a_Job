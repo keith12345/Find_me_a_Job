{
 "cells": [
  {
   "cell_type": "code",
   "execution_count": 1,
   "metadata": {},
   "outputs": [],
   "source": [
    "import numpy as np\n",
    "import pandas as pd\n",
    "\n",
    "import gensim\n",
    "from sklearn.feature_extraction.text import TfidfVectorizer\n",
    "\n",
    "import pickle"
   ]
  },
  {
   "cell_type": "code",
   "execution_count": 3,
   "metadata": {},
   "outputs": [
    {
     "data": {
      "text/plain": [
       "3760"
      ]
     },
     "execution_count": 3,
     "metadata": {},
     "output_type": "execute_result"
    }
   ],
   "source": [
    "df = pd.read_pickle('../Data/01_clean_sf')\n",
    "len(df)"
   ]
  },
  {
   "cell_type": "markdown",
   "metadata": {},
   "source": [
    "## N-grams process flow\n",
    "_(For creating custom ngram tools)_"
   ]
  },
  {
   "cell_type": "markdown",
   "metadata": {},
   "source": [
    "* create ngrams for corpus  \n",
    "* create ngrams for individual documents  \n",
    "* get value counts of ngram appearances\n",
    "* check which ngrams appear most in the entire corpus - set arbitrary cutoff for number of bigrams based on quality\n",
    "* Remove redundant bigrams, trigrams, and quadgrams\n",
    "* check which of those selected ngrams are in each document\n",
    "* combine with existing documents"
   ]
  },
  {
   "cell_type": "markdown",
   "metadata": {},
   "source": [
    "### Combine documents and split into one list of words"
   ]
  },
  {
   "cell_type": "code",
   "execution_count": 4,
   "metadata": {},
   "outputs": [],
   "source": [
    "def sent_to_words(sentences):\n",
    "    for sentence in sentences:\n",
    "        yield(gensim.utils.simple_preprocess(str(sentence), deacc=True))"
   ]
  },
  {
   "cell_type": "code",
   "execution_count": 5,
   "metadata": {},
   "outputs": [],
   "source": [
    "clean_sents = list(sent_to_words(df.listed_items))\n",
    "all_words = [item for sublist in clean_sents for item in sublist]"
   ]
  },
  {
   "cell_type": "markdown",
   "metadata": {},
   "source": [
    "### Create ngrams from corpus"
   ]
  },
  {
   "cell_type": "markdown",
   "metadata": {},
   "source": [
    "#### Bigrams"
   ]
  },
  {
   "cell_type": "code",
   "execution_count": 6,
   "metadata": {},
   "outputs": [
    {
     "data": {
      "text/plain": [
       "521252"
      ]
     },
     "execution_count": 6,
     "metadata": {},
     "output_type": "execute_result"
    }
   ],
   "source": [
    "bigrams = ['_'.join(x) for x in zip(all_words, all_words[1:])]\n",
    "len(bigrams)"
   ]
  },
  {
   "cell_type": "code",
   "execution_count": 7,
   "metadata": {},
   "outputs": [
    {
     "data": {
      "text/plain": [
       "['machine_learning',\n",
       " 'related_field',\n",
       " 'cross_functional',\n",
       " 'problem_solving',\n",
       " 'project_management']"
      ]
     },
     "execution_count": 7,
     "metadata": {},
     "output_type": "execute_result"
    }
   ],
   "source": [
    "top_bigrams = pd.Series(bigrams).value_counts()[:100].index\n",
    "list(top_bigrams[:5])"
   ]
  },
  {
   "cell_type": "markdown",
   "metadata": {},
   "source": [
    "#### Trigrams"
   ]
  },
  {
   "cell_type": "code",
   "execution_count": 8,
   "metadata": {},
   "outputs": [
    {
     "data": {
      "text/plain": [
       "521251"
      ]
     },
     "execution_count": 8,
     "metadata": {},
     "output_type": "execute_result"
    }
   ],
   "source": [
    "trigrams = ['_'.join(x) for x in zip(all_words, all_words[1:], all_words[2:])]\n",
    "len(trigrams)"
   ]
  },
  {
   "cell_type": "code",
   "execution_count": 9,
   "metadata": {},
   "outputs": [
    {
     "data": {
      "text/plain": [
       "['cross_functional_team',\n",
       " 'verbal_written_communication',\n",
       " 'proven_track_record',\n",
       " 'analytical_problem_solving',\n",
       " 'machine_learning_model',\n",
       " 'related_technical_field',\n",
       " 'oral_written_communication',\n",
       " 'subject_matter_expert',\n",
       " 'written_oral_communication',\n",
       " 'natural_language_processing',\n",
       " 'stakeholder_cell_product',\n",
       " 'machine_learning_technique',\n",
       " 'machine_learning_algorithm',\n",
       " 'programming_language_python',\n",
       " 'bachelor_related_field',\n",
       " 'cell_product_city',\n",
       " 'strong_analytical_problem',\n",
       " 'strong_written_verbal',\n",
       " 'product_manager_engineer',\n",
       " 'strong_problem_solving',\n",
       " 'learning_deep_learning',\n",
       " 'machine_learning_deep',\n",
       " 'strong_attention_detail',\n",
       " 'ad_hoc_analysis']"
      ]
     },
     "execution_count": 9,
     "metadata": {},
     "output_type": "execute_result"
    }
   ],
   "source": [
    "list(pd.Series(trigrams).value_counts()[1:25].index)"
   ]
  },
  {
   "cell_type": "code",
   "execution_count": 10,
   "metadata": {},
   "outputs": [
    {
     "data": {
      "text/plain": [
       "['cross_functional_team',\n",
       " 'verbal_written_communication',\n",
       " 'proven_track_record',\n",
       " 'analytical_problem_solving',\n",
       " 'machine_learning_model']"
      ]
     },
     "execution_count": 10,
     "metadata": {},
     "output_type": "execute_result"
    }
   ],
   "source": [
    "top_trigrams = pd.Series(trigrams).value_counts()[1:25].index\n",
    "list(top_trigrams[:5])"
   ]
  },
  {
   "cell_type": "markdown",
   "metadata": {},
   "source": [
    "#### Quadgrams"
   ]
  },
  {
   "cell_type": "code",
   "execution_count": 11,
   "metadata": {},
   "outputs": [
    {
     "data": {
      "text/plain": [
       "521250"
      ]
     },
     "execution_count": 11,
     "metadata": {},
     "output_type": "execute_result"
    }
   ],
   "source": [
    "quadgrams = ['_'.join(x) for x in zip(all_words, all_words[1:], all_words[2:], all_words[3:])]\n",
    "len(quadgrams)"
   ]
  },
  {
   "cell_type": "code",
   "execution_count": 12,
   "metadata": {},
   "outputs": [
    {
     "data": {
      "text/plain": [
       "['stakeholder_cell_product_city',\n",
       " 'strong_analytical_problem_solving',\n",
       " 'strong_written_verbal_communication',\n",
       " 'machine_learning_deep_learning',\n",
       " 'strong_verbal_written_communication',\n",
       " 'general_purpose_programming_language',\n",
       " 'may_subject_background_check',\n",
       " 'history_automatically_disqualify_applicant',\n",
       " 'subject_background_check_conviction',\n",
       " 'background_check_conviction_evaluated']"
      ]
     },
     "execution_count": 12,
     "metadata": {},
     "output_type": "execute_result"
    }
   ],
   "source": [
    "list(pd.Series(quadgrams).value_counts().index[:10])"
   ]
  },
  {
   "cell_type": "code",
   "execution_count": 13,
   "metadata": {},
   "outputs": [
    {
     "data": {
      "text/plain": [
       "['stakeholder_cell_product_city',\n",
       " 'strong_analytical_problem_solving',\n",
       " 'strong_written_verbal_communication',\n",
       " 'machine_learning_deep_learning',\n",
       " 'strong_verbal_written_communication']"
      ]
     },
     "execution_count": 13,
     "metadata": {},
     "output_type": "execute_result"
    }
   ],
   "source": [
    "top_quadgrams = list(pd.Series(quadgrams).value_counts().index[:10])\n",
    "top_quadgrams[:5]"
   ]
  },
  {
   "cell_type": "markdown",
   "metadata": {},
   "source": [
    "### Remove redundant bigrams, trigrams, and quadgrams and combine to create a single list"
   ]
  },
  {
   "cell_type": "code",
   "execution_count": 14,
   "metadata": {},
   "outputs": [
    {
     "name": "stdout",
     "output_type": "stream",
     "text": [
      "There are 70 non-redundant bigrams\n"
     ]
    },
    {
     "data": {
      "text/plain": [
       "['project_management',\n",
       " 'large_scale',\n",
       " 'product_management',\n",
       " 'product_development',\n",
       " 'internal_external']"
      ]
     },
     "execution_count": 14,
     "metadata": {},
     "output_type": "execute_result"
    }
   ],
   "source": [
    "non_redundant_bigrams = []\n",
    "trigrams_string = ' '.join(top_trigrams)\n",
    "\n",
    "for bigram in top_bigrams:\n",
    "    if bigram in trigrams_string:\n",
    "        pass\n",
    "    else:\n",
    "        non_redundant_bigrams.append(bigram)\n",
    "print('There are', len(non_redundant_bigrams), 'non-redundant bigrams')\n",
    "non_redundant_bigrams[:5]"
   ]
  },
  {
   "cell_type": "code",
   "execution_count": 15,
   "metadata": {},
   "outputs": [
    {
     "name": "stdout",
     "output_type": "stream",
     "text": [
      "There are 16 non-redundant trigrams\n"
     ]
    },
    {
     "data": {
      "text/plain": [
       "['cross_functional_team',\n",
       " 'proven_track_record',\n",
       " 'machine_learning_model',\n",
       " 'related_technical_field',\n",
       " 'oral_written_communication']"
      ]
     },
     "execution_count": 15,
     "metadata": {},
     "output_type": "execute_result"
    }
   ],
   "source": [
    "non_redundant_trigrams = []\n",
    "quadgrams_string = ' '.join(top_quadgrams)\n",
    "\n",
    "for trigram in top_trigrams:\n",
    "    if trigram in quadgrams_string:\n",
    "        pass\n",
    "    else:\n",
    "        non_redundant_trigrams.append(trigram)\n",
    "print('There are', len(non_redundant_trigrams), 'non-redundant trigrams')\n",
    "non_redundant_trigrams[:5]"
   ]
  },
  {
   "cell_type": "code",
   "execution_count": 16,
   "metadata": {},
   "outputs": [],
   "source": [
    "top_ngrams = ' '.join([' '.join(non_redundant_bigrams),\n",
    "                       ' '.join(non_redundant_trigrams),\n",
    "                       ' '.join(top_quadgrams)])"
   ]
  },
  {
   "cell_type": "code",
   "execution_count": 17,
   "metadata": {},
   "outputs": [],
   "source": [
    "pickle_out = open(\"../Tools_and_models/top_ngrams\",\"wb\")\n",
    "pickle.dump(top_ngrams, pickle_out)\n",
    "pickle_out.close()"
   ]
  },
  {
   "cell_type": "markdown",
   "metadata": {},
   "source": [
    "### Convert documents to ngrams"
   ]
  },
  {
   "cell_type": "code",
   "execution_count": 18,
   "metadata": {},
   "outputs": [],
   "source": [
    "def to_ngram(text):\n",
    "    \n",
    "    out = []\n",
    "    \n",
    "    for i, j in zip(text.split(), text.split()[1:]):\n",
    "        bigram = '_'.join([i, j])\n",
    "        out.append(bigram)\n",
    "        \n",
    "    for i, j, k in zip(text.split(), text.split()[1:], text.split()[2:]):\n",
    "        trigram = '_'.join([i, j, k])\n",
    "        out.append(trigram)\n",
    "        \n",
    "    for i, j, k, l in zip(text.split(), text.split()[1:],\n",
    "                          text.split()[2:], text.split()[3:]):\n",
    "        quadgram = '_'.join([i, j, k, l])\n",
    "        out.append(quadgram) \n",
    "        \n",
    "    return out        "
   ]
  },
  {
   "cell_type": "code",
   "execution_count": 19,
   "metadata": {},
   "outputs": [
    {
     "data": {
      "text/html": [
       "<div>\n",
       "<style scoped>\n",
       "    .dataframe tbody tr th:only-of-type {\n",
       "        vertical-align: middle;\n",
       "    }\n",
       "\n",
       "    .dataframe tbody tr th {\n",
       "        vertical-align: top;\n",
       "    }\n",
       "\n",
       "    .dataframe thead th {\n",
       "        text-align: right;\n",
       "    }\n",
       "</style>\n",
       "<table border=\"1\" class=\"dataframe\">\n",
       "  <thead>\n",
       "    <tr style=\"text-align: right;\">\n",
       "      <th></th>\n",
       "      <th>listed_items</th>\n",
       "    </tr>\n",
       "  </thead>\n",
       "  <tbody>\n",
       "    <tr>\n",
       "      <th>0</th>\n",
       "      <td>[molecular_cloning, cloning_dna, dna_library, ...</td>\n",
       "    </tr>\n",
       "    <tr>\n",
       "      <th>1</th>\n",
       "      <td>[assist_carrying, carrying_sop, sop_chemical, ...</td>\n",
       "    </tr>\n",
       "    <tr>\n",
       "      <th>2</th>\n",
       "      <td>[perform_experiment, experiment_bench, bench_p...</td>\n",
       "    </tr>\n",
       "    <tr>\n",
       "      <th>3</th>\n",
       "      <td>[closely_director, director_assay, assay_devel...</td>\n",
       "    </tr>\n",
       "    <tr>\n",
       "      <th>4</th>\n",
       "      <td>[collaborate_product, product_design, design_t...</td>\n",
       "    </tr>\n",
       "  </tbody>\n",
       "</table>\n",
       "</div>"
      ],
      "text/plain": [
       "                                        listed_items\n",
       "0  [molecular_cloning, cloning_dna, dna_library, ...\n",
       "1  [assist_carrying, carrying_sop, sop_chemical, ...\n",
       "2  [perform_experiment, experiment_bench, bench_p...\n",
       "3  [closely_director, director_assay, assay_devel...\n",
       "4  [collaborate_product, product_design, design_t..."
      ]
     },
     "execution_count": 19,
     "metadata": {},
     "output_type": "execute_result"
    }
   ],
   "source": [
    "ngram_df = pd.DataFrame(df.listed_items.apply(to_ngram))\n",
    "ngram_df.head()"
   ]
  },
  {
   "cell_type": "markdown",
   "metadata": {},
   "source": [
    "### Find matching ngrams"
   ]
  },
  {
   "cell_type": "code",
   "execution_count": 20,
   "metadata": {},
   "outputs": [],
   "source": [
    "def check_matching_ngrams(doc_ngrams):\n",
    "    \n",
    "    matching_ngrams = []\n",
    "    \n",
    "    top_ngrams_list = top_ngrams.split()\n",
    "    \n",
    "    for doc_ngram in doc_ngrams:\n",
    "        for top_ngram in top_ngrams_list:\n",
    "            if doc_ngram == top_ngram:\n",
    "                matching_ngrams.append(doc_ngram)\n",
    "            else:\n",
    "                pass\n",
    "    return ' '.join(matching_ngrams)"
   ]
  },
  {
   "cell_type": "markdown",
   "metadata": {},
   "source": [
    "Note that the below _listed_items_ is empty not because there are no listed_items, but because it had no matching ngrams."
   ]
  },
  {
   "cell_type": "code",
   "execution_count": 21,
   "metadata": {},
   "outputs": [
    {
     "data": {
      "text/html": [
       "<div>\n",
       "<style scoped>\n",
       "    .dataframe tbody tr th:only-of-type {\n",
       "        vertical-align: middle;\n",
       "    }\n",
       "\n",
       "    .dataframe tbody tr th {\n",
       "        vertical-align: top;\n",
       "    }\n",
       "\n",
       "    .dataframe thead th {\n",
       "        text-align: right;\n",
       "    }\n",
       "</style>\n",
       "<table border=\"1\" class=\"dataframe\">\n",
       "  <thead>\n",
       "    <tr style=\"text-align: right;\">\n",
       "      <th></th>\n",
       "      <th>listed_items</th>\n",
       "    </tr>\n",
       "  </thead>\n",
       "  <tbody>\n",
       "    <tr>\n",
       "      <th>0</th>\n",
       "      <td>product_development molecular_biology</td>\n",
       "    </tr>\n",
       "    <tr>\n",
       "      <th>1</th>\n",
       "      <td></td>\n",
       "    </tr>\n",
       "    <tr>\n",
       "      <th>2</th>\n",
       "      <td>manage_multiple related_discipline molecular_b...</td>\n",
       "    </tr>\n",
       "    <tr>\n",
       "      <th>3</th>\n",
       "      <td>next_generation molecular_biology molecular_bi...</td>\n",
       "    </tr>\n",
       "    <tr>\n",
       "      <th>4</th>\n",
       "      <td>product_design design_implementation</td>\n",
       "    </tr>\n",
       "  </tbody>\n",
       "</table>\n",
       "</div>"
      ],
      "text/plain": [
       "                                        listed_items\n",
       "0              product_development molecular_biology\n",
       "1                                                   \n",
       "2  manage_multiple related_discipline molecular_b...\n",
       "3  next_generation molecular_biology molecular_bi...\n",
       "4               product_design design_implementation"
      ]
     },
     "execution_count": 21,
     "metadata": {},
     "output_type": "execute_result"
    }
   ],
   "source": [
    "matching_ngram_df = pd.DataFrame(ngram_df.listed_items.apply(check_matching_ngrams))\n",
    "matching_ngram_df.head()"
   ]
  },
  {
   "cell_type": "markdown",
   "metadata": {},
   "source": [
    "### Combine ngrams with document text"
   ]
  },
  {
   "cell_type": "code",
   "execution_count": 22,
   "metadata": {},
   "outputs": [],
   "source": [
    "df['listed_items'] = df.listed_items + matching_ngram_df.listed_items\n",
    "df.reset_index(inplace=True, drop=True)\n",
    "df.to_pickle('../Data/01_clean_sf_custom_ngram')"
   ]
  }
 ],
 "metadata": {
  "kernelspec": {
   "display_name": "Python 3",
   "language": "python",
   "name": "python3"
  },
  "language_info": {
   "codemirror_mode": {
    "name": "ipython",
    "version": 3
   },
   "file_extension": ".py",
   "mimetype": "text/x-python",
   "name": "python",
   "nbconvert_exporter": "python",
   "pygments_lexer": "ipython3",
   "version": "3.7.3"
  }
 },
 "nbformat": 4,
 "nbformat_minor": 4
}
