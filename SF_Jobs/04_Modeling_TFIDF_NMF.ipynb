{
 "cells": [
  {
   "cell_type": "code",
   "execution_count": 1,
   "metadata": {},
   "outputs": [],
   "source": [
    "import numpy as np\n",
    "\n",
    "import nltk\n",
    "import pandas as pd\n",
    "\n",
    "from sklearn.decomposition import NMF\n",
    "from sklearn.decomposition import PCA\n",
    "from sklearn.feature_extraction.text import TfidfVectorizer\n",
    "\n",
    "import pickle"
   ]
  },
  {
   "cell_type": "markdown",
   "metadata": {},
   "source": [
    "## Import ngramed pickle, vectorize"
   ]
  },
  {
   "cell_type": "code",
   "execution_count": 2,
   "metadata": {},
   "outputs": [
    {
     "data": {
      "text/plain": [
       "(3760, 4)"
      ]
     },
     "execution_count": 2,
     "metadata": {},
     "output_type": "execute_result"
    }
   ],
   "source": [
    "df = pd.read_pickle('../Data/01_clean_sf_custom_ngram')\n",
    "df.shape"
   ]
  },
  {
   "cell_type": "code",
   "execution_count": 3,
   "metadata": {},
   "outputs": [
    {
     "data": {
      "text/plain": [
       "(3760, 17982)"
      ]
     },
     "execution_count": 3,
     "metadata": {},
     "output_type": "execute_result"
    }
   ],
   "source": [
    "tf_idf = TfidfVectorizer(max_df=0.95)\n",
    "tf_idf_array = tf_idf.fit_transform(df.listed_items).toarray()\n",
    "tf_idf_df = pd.DataFrame(tf_idf_array,columns=tf_idf.get_feature_names())\n",
    "tf_idf_df.shape"
   ]
  },
  {
   "cell_type": "markdown",
   "metadata": {},
   "source": [
    "## Pickling models/vectorizers for use in the Flask App"
   ]
  },
  {
   "cell_type": "code",
   "execution_count": 4,
   "metadata": {},
   "outputs": [],
   "source": [
    "pickle_out = open('../Tools_and_models/tf_idf_model',\"wb\")\n",
    "pickle.dump(tf_idf, pickle_out)\n",
    "pickle_out.close()"
   ]
  },
  {
   "cell_type": "code",
   "execution_count": 5,
   "metadata": {},
   "outputs": [],
   "source": [
    "pickle_out = open('../Tools_and_models/tf_idf_array',\"wb\")\n",
    "pickle.dump(tf_idf_array, pickle_out)\n",
    "pickle_out.close()"
   ]
  },
  {
   "cell_type": "code",
   "execution_count": 6,
   "metadata": {},
   "outputs": [],
   "source": [
    "df.columns = ['company_name', 'job_title', 'listed_items', 'posting_url']"
   ]
  },
  {
   "cell_type": "code",
   "execution_count": 7,
   "metadata": {},
   "outputs": [
    {
     "data": {
      "text/html": [
       "<div>\n",
       "<style scoped>\n",
       "    .dataframe tbody tr th:only-of-type {\n",
       "        vertical-align: middle;\n",
       "    }\n",
       "\n",
       "    .dataframe tbody tr th {\n",
       "        vertical-align: top;\n",
       "    }\n",
       "\n",
       "    .dataframe thead th {\n",
       "        text-align: right;\n",
       "    }\n",
       "</style>\n",
       "<table border=\"1\" class=\"dataframe\">\n",
       "  <thead>\n",
       "    <tr style=\"text-align: right;\">\n",
       "      <th></th>\n",
       "      <th>company_name</th>\n",
       "      <th>job_title</th>\n",
       "      <th>listed_items</th>\n",
       "      <th>posting_url</th>\n",
       "      <th>aa</th>\n",
       "      <th>aaa</th>\n",
       "      <th>aac</th>\n",
       "      <th>aadbstrong_organizational</th>\n",
       "      <th>aai</th>\n",
       "      <th>aalas</th>\n",
       "      <th>...</th>\n",
       "      <th>zoneroot_cause</th>\n",
       "      <th>zonestrong_organizational</th>\n",
       "      <th>zoning</th>\n",
       "      <th>zookeeper</th>\n",
       "      <th>zoom</th>\n",
       "      <th>zoura</th>\n",
       "      <th>zsfg</th>\n",
       "      <th>zuora</th>\n",
       "      <th>zweigwhite</th>\n",
       "      <th>zymergen</th>\n",
       "    </tr>\n",
       "  </thead>\n",
       "  <tbody>\n",
       "    <tr>\n",
       "      <th>0</th>\n",
       "      <td>Affimedix Inc</td>\n",
       "      <td>Scientist - Molecular Biology</td>\n",
       "      <td>molecular cloning dna library library screenin...</td>\n",
       "      <td>https://www.indeed.com/company/Affimedix-Inc/j...</td>\n",
       "      <td>0.0</td>\n",
       "      <td>0.0</td>\n",
       "      <td>0.0</td>\n",
       "      <td>0.0</td>\n",
       "      <td>0.0</td>\n",
       "      <td>0.0</td>\n",
       "      <td>...</td>\n",
       "      <td>0.0</td>\n",
       "      <td>0.0</td>\n",
       "      <td>0.0</td>\n",
       "      <td>0.0</td>\n",
       "      <td>0.0</td>\n",
       "      <td>0.0</td>\n",
       "      <td>0.0</td>\n",
       "      <td>0.0</td>\n",
       "      <td>0.0</td>\n",
       "      <td>0.0</td>\n",
       "    </tr>\n",
       "    <tr>\n",
       "      <th>1</th>\n",
       "      <td>AllAccem, Inc.</td>\n",
       "      <td>Associate Chemist, Production Chemistry</td>\n",
       "      <td>assist carrying sop chemical reaction gram mul...</td>\n",
       "      <td>https://www.indeed.com/company/AllAccem,-Inc./...</td>\n",
       "      <td>0.0</td>\n",
       "      <td>0.0</td>\n",
       "      <td>0.0</td>\n",
       "      <td>0.0</td>\n",
       "      <td>0.0</td>\n",
       "      <td>0.0</td>\n",
       "      <td>...</td>\n",
       "      <td>0.0</td>\n",
       "      <td>0.0</td>\n",
       "      <td>0.0</td>\n",
       "      <td>0.0</td>\n",
       "      <td>0.0</td>\n",
       "      <td>0.0</td>\n",
       "      <td>0.0</td>\n",
       "      <td>0.0</td>\n",
       "      <td>0.0</td>\n",
       "      <td>0.0</td>\n",
       "    </tr>\n",
       "  </tbody>\n",
       "</table>\n",
       "<p>2 rows × 17986 columns</p>\n",
       "</div>"
      ],
      "text/plain": [
       "     company_name                                job_title  \\\n",
       "0   Affimedix Inc            Scientist - Molecular Biology   \n",
       "1  AllAccem, Inc.  Associate Chemist, Production Chemistry   \n",
       "\n",
       "                                        listed_items  \\\n",
       "0  molecular cloning dna library library screenin...   \n",
       "1  assist carrying sop chemical reaction gram mul...   \n",
       "\n",
       "                                         posting_url   aa  aaa  aac  \\\n",
       "0  https://www.indeed.com/company/Affimedix-Inc/j...  0.0  0.0  0.0   \n",
       "1  https://www.indeed.com/company/AllAccem,-Inc./...  0.0  0.0  0.0   \n",
       "\n",
       "   aadbstrong_organizational  aai  aalas  ...  zoneroot_cause  \\\n",
       "0                        0.0  0.0    0.0  ...             0.0   \n",
       "1                        0.0  0.0    0.0  ...             0.0   \n",
       "\n",
       "   zonestrong_organizational  zoning  zookeeper  zoom  zoura  zsfg  zuora  \\\n",
       "0                        0.0     0.0        0.0   0.0    0.0   0.0    0.0   \n",
       "1                        0.0     0.0        0.0   0.0    0.0   0.0    0.0   \n",
       "\n",
       "   zweigwhite  zymergen  \n",
       "0         0.0       0.0  \n",
       "1         0.0       0.0  \n",
       "\n",
       "[2 rows x 17986 columns]"
      ]
     },
     "execution_count": 7,
     "metadata": {},
     "output_type": "execute_result"
    }
   ],
   "source": [
    "df = df.merge(tf_idf_df,left_index=True,right_index=True)\n",
    "df.to_pickle('../Data/01_tf_idf_and_features')\n",
    "df.head(2)"
   ]
  },
  {
   "cell_type": "markdown",
   "metadata": {},
   "source": [
    "# Topic Modeling based on elbows found in KMeans clustering Inertia"
   ]
  },
  {
   "cell_type": "markdown",
   "metadata": {},
   "source": [
    "Note that only the clustering of TF-IDF was used as word2vec did not provide salient elbows.  During my modeling I used the pretrained version of word2vec which was trained on google news. The lack of elbows in plotting inertia likely results from the fact that 'cloud', for example, was not used in relation to cloud computing in the training set. As a result, word2vec would not know to associate terms such 'cloud' and 'azure'. "
   ]
  },
  {
   "cell_type": "markdown",
   "metadata": {},
   "source": [
    "I ultimately decided to use 9 classes during topic modeling. While there was no elbow at 9 while plotting the inertia, it should not be surprising that the locations of elbows while plotting inertia did not correlate directly to the number of topics. Afterall, part of the difficulty in navigating data science job descriptions is that the different roles within the field of data science may require different skill sets (or in terms of how that translates to my modeling, how jobs require different _'topics'_)."
   ]
  },
  {
   "cell_type": "markdown",
   "metadata": {},
   "source": [
    "## 9 Classes"
   ]
  },
  {
   "cell_type": "code",
   "execution_count": 8,
   "metadata": {},
   "outputs": [],
   "source": [
    "nmf_model = NMF(n_components=9, random_state=42)\n",
    "nmf = nmf_model.fit_transform(tf_idf_df)"
   ]
  },
  {
   "cell_type": "code",
   "execution_count": 9,
   "metadata": {},
   "outputs": [],
   "source": [
    "W = nmf\n",
    "H = nmf_model.components_"
   ]
  },
  {
   "cell_type": "markdown",
   "metadata": {},
   "source": [
    "The W factor contains the document membership weights relative to each of the k topics. Each row corresponds to a single document, and each column correspond to a topic."
   ]
  },
  {
   "cell_type": "code",
   "execution_count": 10,
   "metadata": {},
   "outputs": [
    {
     "data": {
      "text/plain": [
       "(3760, 9)"
      ]
     },
     "execution_count": 10,
     "metadata": {},
     "output_type": "execute_result"
    }
   ],
   "source": [
    "W.shape"
   ]
  },
  {
   "cell_type": "markdown",
   "metadata": {},
   "source": [
    "The H factor contains the term weights relative to each of the k topics. In this case, each row corresponds to a topic, and each column corresponds to a unique term in the corpus vocabulary."
   ]
  },
  {
   "cell_type": "code",
   "execution_count": 11,
   "metadata": {},
   "outputs": [
    {
     "data": {
      "text/plain": [
       "(9, 17982)"
      ]
     },
     "execution_count": 11,
     "metadata": {},
     "output_type": "execute_result"
    }
   ],
   "source": [
    "H.shape"
   ]
  },
  {
   "cell_type": "code",
   "execution_count": 12,
   "metadata": {},
   "outputs": [],
   "source": [
    "def get_descriptor(terms, H, topic_index, top):\n",
    "    #reverse sort the values to sort the indices\n",
    "    top_indices = np.argsort(H[topic_index,:])[::-1]\n",
    "    top_terms = []\n",
    "    for term_index in top_indices[0:top]:\n",
    "        top_terms.append(terms[term_index])\n",
    "    return top_terms"
   ]
  },
  {
   "cell_type": "code",
   "execution_count": 13,
   "metadata": {},
   "outputs": [],
   "source": [
    "def list_top_wrods(model, feature_names, n_top_words):\n",
    "    top_words = []\n",
    "    for topic in model.components_:\n",
    "        top_words.append([feature_names[i] for i in topic.argsort()[:-n_top_words - 1:-1]])\n",
    "    return top_words"
   ]
  },
  {
   "cell_type": "code",
   "execution_count": 14,
   "metadata": {},
   "outputs": [],
   "source": [
    "def print_top_words(model, feature_names, n_top_words):\n",
    "    for topic_idx, topic in enumerate(model.components_):\n",
    "        print(\"Topic #%d:\" % topic_idx)\n",
    "        print(\" \".join([feature_names[i]\n",
    "                        for i in topic.argsort()[:-n_top_words - 1:-1]]))\n",
    "        \n",
    "    print()"
   ]
  },
  {
   "cell_type": "code",
   "execution_count": 15,
   "metadata": {},
   "outputs": [
    {
     "name": "stdout",
     "output_type": "stream",
     "text": [
      "Topic #0:\n",
      "business analysis analytics insight sql quantitative analytical decision reporting statistical\n",
      "Topic #1:\n",
      "learning machine algorithm model deep ml ai python tensorflow technique\n",
      "Topic #2:\n",
      "project management process support client technical assist required quality manage\n",
      "Topic #3:\n",
      "web test application testing javascript end development framework react cs\n",
      "Topic #4:\n",
      "design product research designer ux visual interaction engineer prototype mobile\n",
      "Topic #5:\n",
      "customer product sale marketing strategy technical partner team drive management\n",
      "Topic #6:\n",
      "biology assay cell clinical laboratory molecular scientific method analysis study\n",
      "Topic #7:\n",
      "security network vulnerability cloud threat application secure infrastructure incident technical\n",
      "Topic #8:\n",
      "pipeline aws spark cloud distributed platform infrastructure database scale java\n",
      "\n"
     ]
    }
   ],
   "source": [
    "print_top_words(nmf_model,tf_idf.get_feature_names(),10)"
   ]
  }
 ],
 "metadata": {
  "kernelspec": {
   "display_name": "Python 3",
   "language": "python",
   "name": "python3"
  },
  "language_info": {
   "codemirror_mode": {
    "name": "ipython",
    "version": 3
   },
   "file_extension": ".py",
   "mimetype": "text/x-python",
   "name": "python",
   "nbconvert_exporter": "python",
   "pygments_lexer": "ipython3",
   "version": "3.7.3"
  }
 },
 "nbformat": 4,
 "nbformat_minor": 4
}
