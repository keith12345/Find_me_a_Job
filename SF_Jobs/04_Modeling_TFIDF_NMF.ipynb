{
 "cells": [
  {
   "cell_type": "code",
   "execution_count": 1,
   "metadata": {},
   "outputs": [],
   "source": [
    "import numpy as np\n",
    "\n",
    "import nltk\n",
    "import pandas as pd\n",
    "\n",
    "from sklearn.decomposition import NMF\n",
    "from sklearn.decomposition import PCA\n",
    "from sklearn.feature_extraction.text import TfidfVectorizer\n",
    "\n",
    "import pickle"
   ]
  },
  {
   "cell_type": "markdown",
   "metadata": {},
   "source": [
    "## Import ngramed pickle, vectorize"
   ]
  },
  {
   "cell_type": "code",
   "execution_count": 2,
   "metadata": {},
   "outputs": [],
   "source": [
    "df = pd.read_pickle('../Data/01_clean_sf_custom_ngram')"
   ]
  },
  {
   "cell_type": "code",
   "execution_count": 3,
   "metadata": {},
   "outputs": [
    {
     "data": {
      "text/plain": [
       "(3364, 4)"
      ]
     },
     "execution_count": 3,
     "metadata": {},
     "output_type": "execute_result"
    }
   ],
   "source": [
    "df.shape"
   ]
  },
  {
   "cell_type": "code",
   "execution_count": 4,
   "metadata": {},
   "outputs": [
    {
     "data": {
      "text/plain": [
       "(3364, 15388)"
      ]
     },
     "execution_count": 4,
     "metadata": {},
     "output_type": "execute_result"
    }
   ],
   "source": [
    "tf_idf = TfidfVectorizer(max_df=0.95)\n",
    "tf_idf_array = tf_idf.fit_transform(df.listed_items).toarray()\n",
    "tf_idf_df = pd.DataFrame(tf_idf_array,columns=tf_idf.get_feature_names())\n",
    "tf_idf_df.shape"
   ]
  },
  {
   "cell_type": "markdown",
   "metadata": {},
   "source": [
    "## Pickling models/vectorizers for use in the Flask App"
   ]
  },
  {
   "cell_type": "code",
   "execution_count": 5,
   "metadata": {},
   "outputs": [],
   "source": [
    "pickle_out = open('../Tools_and_models/tf_idf_model',\"wb\")\n",
    "pickle.dump(tf_idf, pickle_out)\n",
    "pickle_out.close()"
   ]
  },
  {
   "cell_type": "code",
   "execution_count": 6,
   "metadata": {},
   "outputs": [],
   "source": [
    "pickle_out = open('../Tools_and_models/tf_idf_vectorizer',\"wb\")\n",
    "pickle.dump(tf_idf_vectorizer, pickle_out)\n",
    "pickle_out.close()"
   ]
  },
  {
   "cell_type": "code",
   "execution_count": 5,
   "metadata": {},
   "outputs": [],
   "source": [
    "df.columns = ['company_name', 'job_title', 'listed_items', 'posting_url']"
   ]
  },
  {
   "cell_type": "code",
   "execution_count": 6,
   "metadata": {},
   "outputs": [
    {
     "data": {
      "text/html": [
       "<div>\n",
       "<style scoped>\n",
       "    .dataframe tbody tr th:only-of-type {\n",
       "        vertical-align: middle;\n",
       "    }\n",
       "\n",
       "    .dataframe tbody tr th {\n",
       "        vertical-align: top;\n",
       "    }\n",
       "\n",
       "    .dataframe thead th {\n",
       "        text-align: right;\n",
       "    }\n",
       "</style>\n",
       "<table border=\"1\" class=\"dataframe\">\n",
       "  <thead>\n",
       "    <tr style=\"text-align: right;\">\n",
       "      <th></th>\n",
       "      <th>company_name</th>\n",
       "      <th>job_title</th>\n",
       "      <th>listed_items</th>\n",
       "      <th>posting_url</th>\n",
       "      <th>aa</th>\n",
       "      <th>aaa</th>\n",
       "      <th>aaai</th>\n",
       "      <th>aac</th>\n",
       "      <th>aad</th>\n",
       "      <th>aami</th>\n",
       "      <th>...</th>\n",
       "      <th>zoura</th>\n",
       "      <th>zpn</th>\n",
       "      <th>zuckerberg</th>\n",
       "      <th>zurb</th>\n",
       "      <th>zvs</th>\n",
       "      <th>zweigwhite</th>\n",
       "      <th>zymergen</th>\n",
       "      <th>zymo</th>\n",
       "      <th>zynga</th>\n",
       "      <th>ºc</th>\n",
       "    </tr>\n",
       "  </thead>\n",
       "  <tbody>\n",
       "    <tr>\n",
       "      <th>0</th>\n",
       "      <td>Gap Inc. Corporate</td>\n",
       "      <td>Software Engineer, Price Execution</td>\n",
       "      <td>write build product according business conduct...</td>\n",
       "      <td>https://www.indeed.com/rc/clk?jk=77d524a7cf198...</td>\n",
       "      <td>0.0</td>\n",
       "      <td>0.0</td>\n",
       "      <td>0.0</td>\n",
       "      <td>0.0</td>\n",
       "      <td>0.0</td>\n",
       "      <td>0.0</td>\n",
       "      <td>...</td>\n",
       "      <td>0.0</td>\n",
       "      <td>0.0</td>\n",
       "      <td>0.0</td>\n",
       "      <td>0.0</td>\n",
       "      <td>0.0</td>\n",
       "      <td>0.0</td>\n",
       "      <td>0.0</td>\n",
       "      <td>0.0</td>\n",
       "      <td>0.0</td>\n",
       "      <td>0.0</td>\n",
       "    </tr>\n",
       "    <tr>\n",
       "      <th>1</th>\n",
       "      <td>WrkShp</td>\n",
       "      <td>Business Analyst</td>\n",
       "      <td>closely product assist investigation deep dive...</td>\n",
       "      <td>https://www.indeed.com/company/WrkShp/jobs/Bus...</td>\n",
       "      <td>0.0</td>\n",
       "      <td>0.0</td>\n",
       "      <td>0.0</td>\n",
       "      <td>0.0</td>\n",
       "      <td>0.0</td>\n",
       "      <td>0.0</td>\n",
       "      <td>...</td>\n",
       "      <td>0.0</td>\n",
       "      <td>0.0</td>\n",
       "      <td>0.0</td>\n",
       "      <td>0.0</td>\n",
       "      <td>0.0</td>\n",
       "      <td>0.0</td>\n",
       "      <td>0.0</td>\n",
       "      <td>0.0</td>\n",
       "      <td>0.0</td>\n",
       "      <td>0.0</td>\n",
       "    </tr>\n",
       "  </tbody>\n",
       "</table>\n",
       "<p>2 rows × 15392 columns</p>\n",
       "</div>"
      ],
      "text/plain": [
       "         company_name                           job_title  \\\n",
       "0  Gap Inc. Corporate  Software Engineer, Price Execution   \n",
       "1              WrkShp                    Business Analyst   \n",
       "\n",
       "                                        listed_items  \\\n",
       "0  write build product according business conduct...   \n",
       "1  closely product assist investigation deep dive...   \n",
       "\n",
       "                                         posting_url   aa  aaa  aaai  aac  \\\n",
       "0  https://www.indeed.com/rc/clk?jk=77d524a7cf198...  0.0  0.0   0.0  0.0   \n",
       "1  https://www.indeed.com/company/WrkShp/jobs/Bus...  0.0  0.0   0.0  0.0   \n",
       "\n",
       "   aad  aami ...   zoura  zpn  zuckerberg  zurb  zvs  zweigwhite  zymergen  \\\n",
       "0  0.0   0.0 ...     0.0  0.0         0.0   0.0  0.0         0.0       0.0   \n",
       "1  0.0   0.0 ...     0.0  0.0         0.0   0.0  0.0         0.0       0.0   \n",
       "\n",
       "   zymo  zynga   ºc  \n",
       "0   0.0    0.0  0.0  \n",
       "1   0.0    0.0  0.0  \n",
       "\n",
       "[2 rows x 15392 columns]"
      ]
     },
     "execution_count": 6,
     "metadata": {},
     "output_type": "execute_result"
    }
   ],
   "source": [
    "df = df.merge(tf_idf_df,left_index=True,right_index=True)\n",
    "df.to_pickle('../Data/01_tf_idf_and_features')\n",
    "df.head(2)"
   ]
  },
  {
   "cell_type": "markdown",
   "metadata": {},
   "source": [
    "# Topic Modeling based on elbows found in KMeans clustering Inertia"
   ]
  },
  {
   "cell_type": "markdown",
   "metadata": {},
   "source": [
    "Note that only the clustering of TF-IDF was used as word2vec did not provide salient elbows.  During my modeling I used the pretrained version of word2vec which was trained on google news. The lack of elbows in plotting inertia likely results from the fact that 'cloud', for example, was not used in relation to cloud computing in the training set. As a result, word2vec would not know to associate terms such 'cloud' and 'azure'. "
   ]
  },
  {
   "cell_type": "markdown",
   "metadata": {},
   "source": [
    "I ultimately decided to use 9 classes during topic modeling. While there was no elbow at 9 while plotting the inertia, it should not be surprising that the locations of elbows while plotting inertia did not correlate directly to the number of topics. Afterall, part of the difficulty in navigating data science job descriptions is that the different roles within the field of data science may require different skill sets (or in terms of how that translates to my modeling, how jobs require different _'topics'_."
   ]
  },
  {
   "cell_type": "markdown",
   "metadata": {},
   "source": [
    "## 9 Classes"
   ]
  },
  {
   "cell_type": "code",
   "execution_count": 7,
   "metadata": {},
   "outputs": [],
   "source": [
    "nmf_model = NMF(n_components=9, random_state=42)\n",
    "nmf = nmf_model.fit_transform(tf_idf_df)"
   ]
  },
  {
   "cell_type": "code",
   "execution_count": 8,
   "metadata": {},
   "outputs": [],
   "source": [
    "W = nmf\n",
    "H = nmf_model.components_"
   ]
  },
  {
   "cell_type": "markdown",
   "metadata": {},
   "source": [
    "The W factor contains the document membership weights relative to each of the k topics. Each row corresponds to a single document, and each column correspond to a topic."
   ]
  },
  {
   "cell_type": "code",
   "execution_count": 9,
   "metadata": {},
   "outputs": [
    {
     "data": {
      "text/plain": [
       "(3364, 9)"
      ]
     },
     "execution_count": 9,
     "metadata": {},
     "output_type": "execute_result"
    }
   ],
   "source": [
    "W.shape"
   ]
  },
  {
   "cell_type": "markdown",
   "metadata": {},
   "source": [
    "The H factor contains the term weights relative to each of the k topics. In this case, each row corresponds to a topic, and each column corresponds to a unique term in the corpus vocabulary."
   ]
  },
  {
   "cell_type": "code",
   "execution_count": 10,
   "metadata": {},
   "outputs": [
    {
     "data": {
      "text/plain": [
       "(9, 15388)"
      ]
     },
     "execution_count": 10,
     "metadata": {},
     "output_type": "execute_result"
    }
   ],
   "source": [
    "H.shape"
   ]
  },
  {
   "cell_type": "code",
   "execution_count": 11,
   "metadata": {},
   "outputs": [],
   "source": [
    "def get_descriptor(terms, H, topic_index, top):\n",
    "    #reverse sort the values to sort the indices\n",
    "    top_indices = np.argsort(H[topic_index,:])[::-1]\n",
    "    top_terms = []\n",
    "    for term_index in top_indices[0:top]:\n",
    "        top_terms.append(terms[term_index])\n",
    "    return top_terms"
   ]
  },
  {
   "cell_type": "code",
   "execution_count": 12,
   "metadata": {},
   "outputs": [],
   "source": [
    "def list_top_wrods(model, feature_names, n_top_words):\n",
    "    top_words = []\n",
    "    for topic in model.components_:\n",
    "        top_words.append([feature_names[i] for i in topic.argsort()[:-n_top_words - 1:-1]])\n",
    "    return top_words"
   ]
  },
  {
   "cell_type": "code",
   "execution_count": 13,
   "metadata": {},
   "outputs": [],
   "source": [
    "def print_top_words(model, feature_names, n_top_words):\n",
    "    for topic_idx, topic in enumerate(model.components_):\n",
    "        print(\"Topic #%d:\" % topic_idx)\n",
    "        print(\" \".join([feature_names[i]\n",
    "                        for i in topic.argsort()[:-n_top_words - 1:-1]]))\n",
    "        \n",
    "    print()"
   ]
  },
  {
   "cell_type": "code",
   "execution_count": 14,
   "metadata": {},
   "outputs": [
    {
     "name": "stdout",
     "output_type": "stream",
     "text": [
      "Topic #0:\n",
      "business analysis analytics insight sql model statistical tool quantitative statistic\n",
      "Topic #1:\n",
      "learning machine model algorithm ml deep production tensorflow technique deep_learning\n",
      "Topic #2:\n",
      "project process management support required client business issue technical quality\n",
      "Topic #3:\n",
      "test database application java aws cloud pipeline web development tool\n",
      "Topic #4:\n",
      "design research designer visual web interaction ux mobile end prototyping\n",
      "Topic #5:\n",
      "product customer team technical cross partner development drive strategy lead\n",
      "Topic #6:\n",
      "cell biology assay laboratory molecular scientific method chemistry protein development\n",
      "Topic #7:\n",
      "marketing sale customer content campaign channel strategy enablement digital develop\n",
      "Topic #8:\n",
      "security network infrastructure vulnerability incident threat cloud linux application technical\n",
      "\n"
     ]
    }
   ],
   "source": [
    "print_top_words(nmf_model,tf_idf.get_feature_names(),10)"
   ]
  },
  {
   "cell_type": "markdown",
   "metadata": {},
   "source": [
    "## 11 Classes"
   ]
  },
  {
   "cell_type": "code",
   "execution_count": 15,
   "metadata": {},
   "outputs": [],
   "source": [
    "nmf_model = NMF(n_components=11, random_state=42)\n",
    "nmf = nmf_model.fit_transform(tf_idf_df)"
   ]
  },
  {
   "cell_type": "code",
   "execution_count": 16,
   "metadata": {},
   "outputs": [],
   "source": [
    "W = nmf\n",
    "H = nmf_model.components_"
   ]
  },
  {
   "cell_type": "markdown",
   "metadata": {},
   "source": [
    "The W factor contains the document membership weights relative to each of the k topics. Each row corresponds to a single document, and each column correspond to a topic."
   ]
  },
  {
   "cell_type": "code",
   "execution_count": 17,
   "metadata": {},
   "outputs": [
    {
     "data": {
      "text/plain": [
       "(3364, 11)"
      ]
     },
     "execution_count": 17,
     "metadata": {},
     "output_type": "execute_result"
    }
   ],
   "source": [
    "W.shape"
   ]
  },
  {
   "cell_type": "markdown",
   "metadata": {},
   "source": [
    "The H factor contains the term weights relative to each of the k topics. In this case, each row corresponds to a topic, and each column corresponds to a unique term in the corpus vocabulary."
   ]
  },
  {
   "cell_type": "code",
   "execution_count": 18,
   "metadata": {},
   "outputs": [
    {
     "data": {
      "text/plain": [
       "(11, 15388)"
      ]
     },
     "execution_count": 18,
     "metadata": {},
     "output_type": "execute_result"
    }
   ],
   "source": [
    "H.shape"
   ]
  },
  {
   "cell_type": "code",
   "execution_count": 19,
   "metadata": {},
   "outputs": [],
   "source": [
    "top_indices = np.argsort(H[1,:])[::-1]"
   ]
  },
  {
   "cell_type": "code",
   "execution_count": 20,
   "metadata": {},
   "outputs": [],
   "source": [
    "def get_descriptor(terms, H, topic_index, top):\n",
    "    #reverse sort the values to sort the indices\n",
    "    top_indices = np.argsort(H[topic_index,:])[::-1]\n",
    "    top_terms = []\n",
    "    for term_index in top_indices[0:top]:\n",
    "        top_terms.append(terms[term_index])\n",
    "    return top_terms"
   ]
  },
  {
   "cell_type": "code",
   "execution_count": 21,
   "metadata": {},
   "outputs": [],
   "source": [
    "def list_top_wrods(model, feature_names, n_top_words):\n",
    "    top_words = []\n",
    "    for topic in model.components_:\n",
    "        top_words.append([feature_names[i] for i in topic.argsort()[:-n_top_words - 1:-1]])\n",
    "    return top_words"
   ]
  },
  {
   "cell_type": "code",
   "execution_count": 22,
   "metadata": {},
   "outputs": [],
   "source": [
    "def print_top_words(model, feature_names, n_top_words):\n",
    "    for topic_idx, topic in enumerate(model.components_):\n",
    "        print(\"Topic #%d:\" % topic_idx)\n",
    "        print(\" \".join([feature_names[i]\n",
    "                        for i in topic.argsort()[:-n_top_words - 1:-1]]))\n",
    "        \n",
    "    print()"
   ]
  },
  {
   "cell_type": "code",
   "execution_count": 23,
   "metadata": {},
   "outputs": [
    {
     "name": "stdout",
     "output_type": "stream",
     "text": [
      "Topic #0:\n",
      "business analysis analytics insight sql statistical tool quantitative model statistic\n",
      "Topic #1:\n",
      "learning machine model algorithm ml deep tensorflow technique production deep_learning\n",
      "Topic #2:\n",
      "project management process business client required support quality manage issue\n",
      "Topic #3:\n",
      "pipeline spark aws database processing distributed cloud hadoop infrastructure java\n",
      "Topic #4:\n",
      "design research visual designer interaction ux prototyping prototype engineer mechanical\n",
      "Topic #5:\n",
      "product team cross development strategy drive functional lead partner define\n",
      "Topic #6:\n",
      "cell biology assay laboratory molecular scientific method chemistry protein development\n",
      "Topic #7:\n",
      "marketing sale content campaign channel strategy digital medium enablement develop\n",
      "Topic #8:\n",
      "security network infrastructure vulnerability incident cloud threat linux application response\n",
      "Topic #9:\n",
      "test web testing application development javascript automation framework end react\n",
      "Topic #10:\n",
      "customer technical support sale issue provide problem training account internal\n",
      "\n"
     ]
    }
   ],
   "source": [
    "print_top_words(nmf_model,tf_idf.get_feature_names(),10)"
   ]
  },
  {
   "cell_type": "markdown",
   "metadata": {},
   "source": [
    "## 15 Classes"
   ]
  },
  {
   "cell_type": "code",
   "execution_count": 24,
   "metadata": {},
   "outputs": [
    {
     "data": {
      "text/plain": [
       "(3364, 15388)"
      ]
     },
     "execution_count": 24,
     "metadata": {},
     "output_type": "execute_result"
    }
   ],
   "source": [
    "tf_idf = TfidfVectorizer(max_df=0.95)\n",
    "tf_idf_array = tf_idf.fit_transform(df.listed_items).toarray()\n",
    "tf_idf_df = pd.DataFrame(tf_idf_array,columns=tf_idf.get_feature_names())\n",
    "tf_idf_df.shape"
   ]
  },
  {
   "cell_type": "code",
   "execution_count": 25,
   "metadata": {},
   "outputs": [],
   "source": [
    "nmf_model = NMF(n_components=15, random_state=42)\n",
    "nmf = nmf_model.fit_transform(tf_idf_df)"
   ]
  },
  {
   "cell_type": "code",
   "execution_count": 26,
   "metadata": {},
   "outputs": [],
   "source": [
    "W = nmf\n",
    "H = nmf_model.components_"
   ]
  },
  {
   "cell_type": "markdown",
   "metadata": {},
   "source": [
    "The W factor contains the document membership weights relative to each of the k topics. Each row corresponds to a single document, and each column correspond to a topic."
   ]
  },
  {
   "cell_type": "code",
   "execution_count": 27,
   "metadata": {},
   "outputs": [
    {
     "data": {
      "text/plain": [
       "(3364, 15)"
      ]
     },
     "execution_count": 27,
     "metadata": {},
     "output_type": "execute_result"
    }
   ],
   "source": [
    "W.shape"
   ]
  },
  {
   "cell_type": "markdown",
   "metadata": {},
   "source": [
    "The H factor contains the term weights relative to each of the k topics. In this case, each row corresponds to a topic, and each column corresponds to a unique term in the corpus vocabulary."
   ]
  },
  {
   "cell_type": "code",
   "execution_count": 28,
   "metadata": {},
   "outputs": [
    {
     "data": {
      "text/plain": [
       "(15, 15388)"
      ]
     },
     "execution_count": 28,
     "metadata": {},
     "output_type": "execute_result"
    }
   ],
   "source": [
    "H.shape"
   ]
  },
  {
   "cell_type": "code",
   "execution_count": 29,
   "metadata": {},
   "outputs": [],
   "source": [
    "top_indices = np.argsort(H[1,:])[::-1]"
   ]
  },
  {
   "cell_type": "code",
   "execution_count": 30,
   "metadata": {},
   "outputs": [],
   "source": [
    "def get_descriptor(terms, H, topic_index, top):\n",
    "    #reverse sort the values to sort the indices\n",
    "    top_indices = np.argsort(H[topic_index,:])[::-1]\n",
    "    top_terms = []\n",
    "    for term_index in top_indices[0:top]:\n",
    "        top_terms.append(terms[term_index])\n",
    "    return top_terms"
   ]
  },
  {
   "cell_type": "code",
   "execution_count": 31,
   "metadata": {},
   "outputs": [],
   "source": [
    "def print_top_words(model, feature_names, n_top_words):\n",
    "    for topic_idx, topic in enumerate(model.components_):\n",
    "        print(\"Topic #%d:\" % topic_idx)\n",
    "        print(\" \".join([feature_names[i]\n",
    "                        for i in topic.argsort()[:-n_top_words - 1:-1]]))\n",
    "    print()"
   ]
  },
  {
   "cell_type": "code",
   "execution_count": 32,
   "metadata": {},
   "outputs": [
    {
     "name": "stdout",
     "output_type": "stream",
     "text": [
      "Topic #0:\n",
      "analysis analytics business insight sql statistical tool statistic quantitative model\n",
      "Topic #1:\n",
      "learning machine model algorithm ml deep tensorflow technique production deep_learning\n",
      "Topic #2:\n",
      "project required equipment material procedure control process knowledge construction report\n",
      "Topic #3:\n",
      "web application javascript end react development framework cs html apis\n",
      "Topic #4:\n",
      "product team cross product_management development strategy manager define drive launch\n",
      "Topic #5:\n",
      "sale salesforce account finance financial enablement marketing develop planning operation\n",
      "Topic #6:\n",
      "cell biology assay molecular scientific laboratory protein development biochemistry chemistry\n",
      "Topic #7:\n",
      "marketing content campaign digital medium channel social strategy creative product_marketing\n",
      "Topic #8:\n",
      "security network infrastructure vulnerability incident cloud threat linux application response\n",
      "Topic #9:\n",
      "test testing automation qa tool quality development bug process case\n",
      "Topic #10:\n",
      "customer technical support issue provide problem internal training facing customer_facing\n",
      "Topic #11:\n",
      "pipeline spark aws database processing cloud distributed hadoop infrastructure java\n",
      "Topic #12:\n",
      "business project management process client functional partner manage team technical\n",
      "Topic #13:\n",
      "design visual designer prototyping interaction ux engineer prototype mechanical sketch\n",
      "Topic #14:\n",
      "research study client survey quantitative human scientific method qualitative conduct\n",
      "\n"
     ]
    }
   ],
   "source": [
    "print_top_words(nmf_model,tf_idf.get_feature_names(),10)"
   ]
  },
  {
   "cell_type": "markdown",
   "metadata": {},
   "source": [
    "## 18 Classes"
   ]
  },
  {
   "cell_type": "code",
   "execution_count": 33,
   "metadata": {},
   "outputs": [
    {
     "data": {
      "text/plain": [
       "(3364, 15388)"
      ]
     },
     "execution_count": 33,
     "metadata": {},
     "output_type": "execute_result"
    }
   ],
   "source": [
    "tf_idf = TfidfVectorizer(max_df=0.95)\n",
    "tf_idf_array = tf_idf.fit_transform(df.listed_items).toarray()\n",
    "tf_idf_df = pd.DataFrame(tf_idf_array,columns=tf_idf.get_feature_names())\n",
    "tf_idf_df.shape"
   ]
  },
  {
   "cell_type": "code",
   "execution_count": 34,
   "metadata": {},
   "outputs": [],
   "source": [
    "nmf_model = NMF(n_components=18, random_state=42)\n",
    "nmf = nmf_model.fit_transform(tf_idf_df)"
   ]
  },
  {
   "cell_type": "code",
   "execution_count": 35,
   "metadata": {},
   "outputs": [],
   "source": [
    "W = nmf\n",
    "H = nmf_model.components_"
   ]
  },
  {
   "cell_type": "markdown",
   "metadata": {},
   "source": [
    "The W factor contains the document membership weights relative to each of the k topics. Each row corresponds to a single document, and each column correspond to a topic."
   ]
  },
  {
   "cell_type": "code",
   "execution_count": 36,
   "metadata": {},
   "outputs": [
    {
     "data": {
      "text/plain": [
       "(3364, 18)"
      ]
     },
     "execution_count": 36,
     "metadata": {},
     "output_type": "execute_result"
    }
   ],
   "source": [
    "W.shape"
   ]
  },
  {
   "cell_type": "markdown",
   "metadata": {},
   "source": [
    "The H factor contains the term weights relative to each of the k topics. In this case, each row corresponds to a topic, and each column corresponds to a unique term in the corpus vocabulary."
   ]
  },
  {
   "cell_type": "code",
   "execution_count": 37,
   "metadata": {},
   "outputs": [
    {
     "data": {
      "text/plain": [
       "(18, 15388)"
      ]
     },
     "execution_count": 37,
     "metadata": {},
     "output_type": "execute_result"
    }
   ],
   "source": [
    "H.shape"
   ]
  },
  {
   "cell_type": "code",
   "execution_count": 38,
   "metadata": {},
   "outputs": [],
   "source": [
    "top_indices = np.argsort(H[1,:])[::-1]"
   ]
  },
  {
   "cell_type": "code",
   "execution_count": 39,
   "metadata": {},
   "outputs": [],
   "source": [
    "def get_descriptor(terms, H, topic_index, top):\n",
    "    #reverse sort the values to sort the indices\n",
    "    top_indices = np.argsort(H[topic_index,:])[::-1]\n",
    "    top_terms = []\n",
    "    for term_index in top_indices[0:top]:\n",
    "        top_terms.append(terms[term_index])\n",
    "    return top_terms"
   ]
  },
  {
   "cell_type": "code",
   "execution_count": 40,
   "metadata": {},
   "outputs": [],
   "source": [
    "def print_top_words(model, feature_names, n_top_words):\n",
    "    for topic_idx, topic in enumerate(model.components_):\n",
    "        print(\"Topic #%d:\" % topic_idx)\n",
    "        print(\" \".join([feature_names[i]\n",
    "                        for i in topic.argsort()[:-n_top_words - 1:-1]]))\n",
    "    print()"
   ]
  },
  {
   "cell_type": "code",
   "execution_count": 41,
   "metadata": {},
   "outputs": [
    {
     "name": "stdout",
     "output_type": "stream",
     "text": [
      "Topic #0:\n",
      "business process functional partner management technical area team across drive\n",
      "Topic #1:\n",
      "learning machine algorithm model ml deep tensorflow technique deep_learning production\n",
      "Topic #2:\n",
      "laboratory process chemistry method equipment lab analytical knowledge development material\n",
      "Topic #3:\n",
      "web application javascript react end development framework cs html apis\n",
      "Topic #4:\n",
      "product team cross product_management development strategy define manager drive management\n",
      "Topic #5:\n",
      "sale salesforce enablement marketing account develop operation enterprise channel customer\n",
      "Topic #6:\n",
      "cell biology assay molecular scientific molecular_biology protein biochemistry biological pcr\n",
      "Topic #7:\n",
      "marketing content campaign digital medium channel strategy social product_marketing creative\n",
      "Topic #8:\n",
      "security network infrastructure vulnerability incident cloud threat linux application response\n",
      "Topic #9:\n",
      "test testing automation qa tool quality bug case development agile\n",
      "Topic #10:\n",
      "customer technical support issue provide internal training product facing resolve\n",
      "Topic #11:\n",
      "pipeline spark aws database processing cloud distributed hadoop java infrastructure\n",
      "Topic #12:\n",
      "love problem build make know thing others way learn http\n",
      "Topic #13:\n",
      "design visual designer prototyping interaction mechanical ux prototype engineer sketch\n",
      "Topic #14:\n",
      "research study survey human quantitative method scientific qualitative conducting academic\n",
      "Topic #15:\n",
      "financial preferred excel strong finance accounting required detail support investment\n",
      "Topic #16:\n",
      "analysis analytics insight statistical sql statistic tool quantitative model visualization\n",
      "Topic #17:\n",
      "project client management construction required review risk issue manage meeting\n",
      "\n"
     ]
    }
   ],
   "source": [
    "print_top_words(nmf_model,tf_idf.get_feature_names(),10)"
   ]
  },
  {
   "cell_type": "markdown",
   "metadata": {},
   "source": [
    "# Labeling using 9 topics\n",
    "For plotting in 3-D using plotly"
   ]
  },
  {
   "cell_type": "code",
   "execution_count": 43,
   "metadata": {},
   "outputs": [],
   "source": [
    "nmf_model = NMF(n_components=9, random_state=42)\n",
    "nmf = nmf_model.fit_transform(tf_idf_df)"
   ]
  },
  {
   "cell_type": "code",
   "execution_count": 44,
   "metadata": {},
   "outputs": [
    {
     "data": {
      "text/html": [
       "<div>\n",
       "<style scoped>\n",
       "    .dataframe tbody tr th:only-of-type {\n",
       "        vertical-align: middle;\n",
       "    }\n",
       "\n",
       "    .dataframe tbody tr th {\n",
       "        vertical-align: top;\n",
       "    }\n",
       "\n",
       "    .dataframe thead th {\n",
       "        text-align: right;\n",
       "    }\n",
       "</style>\n",
       "<table border=\"1\" class=\"dataframe\">\n",
       "  <thead>\n",
       "    <tr style=\"text-align: right;\">\n",
       "      <th></th>\n",
       "      <th>labels</th>\n",
       "    </tr>\n",
       "  </thead>\n",
       "  <tbody>\n",
       "    <tr>\n",
       "      <th>0</th>\n",
       "      <td>Predicted Role: Software Engineer</td>\n",
       "    </tr>\n",
       "    <tr>\n",
       "      <th>1</th>\n",
       "      <td>Predicted Role: Business Analyst</td>\n",
       "    </tr>\n",
       "    <tr>\n",
       "      <th>2</th>\n",
       "      <td>Predicted Role: Software Engineer</td>\n",
       "    </tr>\n",
       "    <tr>\n",
       "      <th>3</th>\n",
       "      <td>Predicted Role: Data Manager</td>\n",
       "    </tr>\n",
       "    <tr>\n",
       "      <th>4</th>\n",
       "      <td>Predicted Role: Advanced AI</td>\n",
       "    </tr>\n",
       "  </tbody>\n",
       "</table>\n",
       "</div>"
      ],
      "text/plain": [
       "                              labels\n",
       "0  Predicted Role: Software Engineer\n",
       "1   Predicted Role: Business Analyst\n",
       "2  Predicted Role: Software Engineer\n",
       "3       Predicted Role: Data Manager\n",
       "4        Predicted Role: Advanced AI"
      ]
     },
     "execution_count": 44,
     "metadata": {},
     "output_type": "execute_result"
    }
   ],
   "source": [
    "nmf_results = pd.DataFrame(nmf)\n",
    "nmf_results.columns = ['Predicted Role: Business Analyst', 'Predicted Role: Advanced AI', \n",
    "                       'Predicted Role: Data Manager', \n",
    "                       'Predicted Role: Software Engineer', 'Predicted Role: Engineering/Design', \n",
    "                       'Predicted Role: Product Manager', 'Predicted Role: Biology/Chemistry', \n",
    "                       'Predicted Role: Marketing and Ads', 'Predicted Role: Data Engineer']\n",
    "nmf_labels = pd.DataFrame(nmf_results.T.idxmax())\n",
    "nmf_labels.columns = ['labels']\n",
    "nmf_labels.head() "
   ]
  },
  {
   "cell_type": "markdown",
   "metadata": {},
   "source": [
    "## Assigning Classes"
   ]
  },
  {
   "cell_type": "markdown",
   "metadata": {},
   "source": [
    "Classes were assigned based on the topic that had the maximum score."
   ]
  },
  {
   "cell_type": "code",
   "execution_count": 45,
   "metadata": {},
   "outputs": [],
   "source": [
    "df = pd.read_pickle('../Data/01_clean_sf')"
   ]
  },
  {
   "cell_type": "code",
   "execution_count": 46,
   "metadata": {},
   "outputs": [
    {
     "data": {
      "text/plain": [
       "(3364, 4)"
      ]
     },
     "execution_count": 46,
     "metadata": {},
     "output_type": "execute_result"
    }
   ],
   "source": [
    "df.shape"
   ]
  },
  {
   "cell_type": "code",
   "execution_count": 47,
   "metadata": {},
   "outputs": [],
   "source": [
    "df = df.merge(nmf_labels,left_index=True,right_index=True)"
   ]
  },
  {
   "cell_type": "markdown",
   "metadata": {},
   "source": [
    "## Adding SVD"
   ]
  },
  {
   "cell_type": "code",
   "execution_count": 48,
   "metadata": {},
   "outputs": [],
   "source": [
    "pca = PCA(n_components=3)\n",
    "pca.fit(tf_idf_df)\n",
    "tf_idf_df = pd.DataFrame(pca.transform(tf_idf_df))"
   ]
  },
  {
   "cell_type": "code",
   "execution_count": 49,
   "metadata": {},
   "outputs": [],
   "source": [
    "df = df.merge(tf_idf_df,left_index=True,right_index=True)"
   ]
  },
  {
   "cell_type": "code",
   "execution_count": 50,
   "metadata": {},
   "outputs": [],
   "source": [
    "df.to_pickle('../Data/01_sf_labeled')"
   ]
  },
  {
   "cell_type": "code",
   "execution_count": 51,
   "metadata": {},
   "outputs": [
    {
     "data": {
      "text/html": [
       "<div>\n",
       "<style scoped>\n",
       "    .dataframe tbody tr th:only-of-type {\n",
       "        vertical-align: middle;\n",
       "    }\n",
       "\n",
       "    .dataframe tbody tr th {\n",
       "        vertical-align: top;\n",
       "    }\n",
       "\n",
       "    .dataframe thead th {\n",
       "        text-align: right;\n",
       "    }\n",
       "</style>\n",
       "<table border=\"1\" class=\"dataframe\">\n",
       "  <thead>\n",
       "    <tr style=\"text-align: right;\">\n",
       "      <th></th>\n",
       "      <th>company_name</th>\n",
       "      <th>job_title</th>\n",
       "      <th>listed_items</th>\n",
       "      <th>url</th>\n",
       "      <th>labels</th>\n",
       "      <th>0</th>\n",
       "      <th>1</th>\n",
       "      <th>2</th>\n",
       "    </tr>\n",
       "  </thead>\n",
       "  <tbody>\n",
       "    <tr>\n",
       "      <th>0</th>\n",
       "      <td>Gap Inc. Corporate</td>\n",
       "      <td>Software Engineer, Price Execution</td>\n",
       "      <td>write build product according business conduct...</td>\n",
       "      <td>https://www.indeed.com/rc/clk?jk=77d524a7cf198...</td>\n",
       "      <td>Predicted Role: Software Engineer</td>\n",
       "      <td>-0.018076</td>\n",
       "      <td>0.014856</td>\n",
       "      <td>0.118068</td>\n",
       "    </tr>\n",
       "    <tr>\n",
       "      <th>1</th>\n",
       "      <td>WrkShp</td>\n",
       "      <td>Business Analyst</td>\n",
       "      <td>closely product assist investigation deep dive...</td>\n",
       "      <td>https://www.indeed.com/company/WrkShp/jobs/Bus...</td>\n",
       "      <td>Predicted Role: Business Analyst</td>\n",
       "      <td>-0.049042</td>\n",
       "      <td>0.180981</td>\n",
       "      <td>-0.111674</td>\n",
       "    </tr>\n",
       "    <tr>\n",
       "      <th>2</th>\n",
       "      <td>Ceres Imaging</td>\n",
       "      <td>Image Processing: GIS / Remote Sensing Analyst</td>\n",
       "      <td>proficiency gi e g arcgis envi processing prod...</td>\n",
       "      <td>https://www.indeed.com/rc/clk?jk=8f702cd563785...</td>\n",
       "      <td>Predicted Role: Software Engineer</td>\n",
       "      <td>0.068105</td>\n",
       "      <td>-0.108212</td>\n",
       "      <td>-0.024264</td>\n",
       "    </tr>\n",
       "    <tr>\n",
       "      <th>3</th>\n",
       "      <td>Deloitte</td>\n",
       "      <td>Analyst, Strategy and Research</td>\n",
       "      <td>effectively interpret client request use tacti...</td>\n",
       "      <td>https://www.indeed.com/rc/clk?jk=8a288a5c5a09d...</td>\n",
       "      <td>Predicted Role: Data Manager</td>\n",
       "      <td>-0.076932</td>\n",
       "      <td>-0.030792</td>\n",
       "      <td>-0.033639</td>\n",
       "    </tr>\n",
       "    <tr>\n",
       "      <th>4</th>\n",
       "      <td>Turing Video</td>\n",
       "      <td>Computer Vision Software Engineer</td>\n",
       "      <td>maintain existing implement algorithm necessar...</td>\n",
       "      <td>https://www.indeed.com/rc/clk?jk=fcf308f2fee2a...</td>\n",
       "      <td>Predicted Role: Advanced AI</td>\n",
       "      <td>0.144809</td>\n",
       "      <td>0.012745</td>\n",
       "      <td>0.025521</td>\n",
       "    </tr>\n",
       "  </tbody>\n",
       "</table>\n",
       "</div>"
      ],
      "text/plain": [
       "         company_name                                       job_title  \\\n",
       "0  Gap Inc. Corporate              Software Engineer, Price Execution   \n",
       "1              WrkShp                                Business Analyst   \n",
       "2       Ceres Imaging  Image Processing: GIS / Remote Sensing Analyst   \n",
       "3            Deloitte                  Analyst, Strategy and Research   \n",
       "4        Turing Video               Computer Vision Software Engineer   \n",
       "\n",
       "                                        listed_items  \\\n",
       "0  write build product according business conduct...   \n",
       "1  closely product assist investigation deep dive...   \n",
       "2  proficiency gi e g arcgis envi processing prod...   \n",
       "3  effectively interpret client request use tacti...   \n",
       "4  maintain existing implement algorithm necessar...   \n",
       "\n",
       "                                                 url  \\\n",
       "0  https://www.indeed.com/rc/clk?jk=77d524a7cf198...   \n",
       "1  https://www.indeed.com/company/WrkShp/jobs/Bus...   \n",
       "2  https://www.indeed.com/rc/clk?jk=8f702cd563785...   \n",
       "3  https://www.indeed.com/rc/clk?jk=8a288a5c5a09d...   \n",
       "4  https://www.indeed.com/rc/clk?jk=fcf308f2fee2a...   \n",
       "\n",
       "                              labels         0         1         2  \n",
       "0  Predicted Role: Software Engineer -0.018076  0.014856  0.118068  \n",
       "1   Predicted Role: Business Analyst -0.049042  0.180981 -0.111674  \n",
       "2  Predicted Role: Software Engineer  0.068105 -0.108212 -0.024264  \n",
       "3       Predicted Role: Data Manager -0.076932 -0.030792 -0.033639  \n",
       "4        Predicted Role: Advanced AI  0.144809  0.012745  0.025521  "
      ]
     },
     "execution_count": 51,
     "metadata": {},
     "output_type": "execute_result"
    }
   ],
   "source": [
    "df.head()"
   ]
  },
  {
   "cell_type": "code",
   "execution_count": null,
   "metadata": {},
   "outputs": [],
   "source": []
  }
 ],
 "metadata": {
  "kernelspec": {
   "display_name": "Python 3",
   "language": "python",
   "name": "python3"
  },
  "language_info": {
   "codemirror_mode": {
    "name": "ipython",
    "version": 3
   },
   "file_extension": ".py",
   "mimetype": "text/x-python",
   "name": "python",
   "nbconvert_exporter": "python",
   "pygments_lexer": "ipython3",
   "version": "3.7.2"
  }
 },
 "nbformat": 4,
 "nbformat_minor": 2
}
