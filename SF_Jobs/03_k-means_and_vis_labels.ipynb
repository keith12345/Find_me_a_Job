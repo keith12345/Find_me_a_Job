{
 "cells": [
  {
   "cell_type": "code",
   "execution_count": 1,
   "metadata": {},
   "outputs": [],
   "source": [
    "import numpy as np\n",
    "import pandas as pd\n",
    "\n",
    "import matplotlib.pyplot as plt\n",
    "import seaborn as sns\n",
    "\n",
    "from sklearn.decomposition import PCA\n",
    "from sklearn.feature_extraction.text import TfidfVectorizer\n",
    "from sklearn.cluster import KMeans"
   ]
  },
  {
   "cell_type": "code",
   "execution_count": 2,
   "metadata": {},
   "outputs": [],
   "source": [
    "custom_ngram_df = pd.read_pickle('../Data/01_clean_sf_custom_ngram')"
   ]
  },
  {
   "cell_type": "code",
   "execution_count": 3,
   "metadata": {},
   "outputs": [
    {
     "data": {
      "text/html": [
       "<div>\n",
       "<style scoped>\n",
       "    .dataframe tbody tr th:only-of-type {\n",
       "        vertical-align: middle;\n",
       "    }\n",
       "\n",
       "    .dataframe tbody tr th {\n",
       "        vertical-align: top;\n",
       "    }\n",
       "\n",
       "    .dataframe thead th {\n",
       "        text-align: right;\n",
       "    }\n",
       "</style>\n",
       "<table border=\"1\" class=\"dataframe\">\n",
       "  <thead>\n",
       "    <tr style=\"text-align: right;\">\n",
       "      <th></th>\n",
       "      <th>company_name</th>\n",
       "      <th>job_title</th>\n",
       "      <th>listed_items</th>\n",
       "      <th>url</th>\n",
       "    </tr>\n",
       "  </thead>\n",
       "  <tbody>\n",
       "    <tr>\n",
       "      <th>0</th>\n",
       "      <td>Gap Inc. Corporate</td>\n",
       "      <td>Software Engineer, Price Execution</td>\n",
       "      <td>write build product according business conduct...</td>\n",
       "      <td>https://www.indeed.com/rc/clk?jk=77d524a7cf198...</td>\n",
       "    </tr>\n",
       "    <tr>\n",
       "      <th>1</th>\n",
       "      <td>WrkShp</td>\n",
       "      <td>Business Analyst</td>\n",
       "      <td>closely product assist investigation deep dive...</td>\n",
       "      <td>https://www.indeed.com/company/WrkShp/jobs/Bus...</td>\n",
       "    </tr>\n",
       "    <tr>\n",
       "      <th>2</th>\n",
       "      <td>Ceres Imaging</td>\n",
       "      <td>Image Processing: GIS / Remote Sensing Analyst</td>\n",
       "      <td>proficiency gi e g arcgis envi processing prod...</td>\n",
       "      <td>https://www.indeed.com/rc/clk?jk=8f702cd563785...</td>\n",
       "    </tr>\n",
       "    <tr>\n",
       "      <th>3</th>\n",
       "      <td>Deloitte</td>\n",
       "      <td>Analyst, Strategy and Research</td>\n",
       "      <td>effectively interpret client request use tacti...</td>\n",
       "      <td>https://www.indeed.com/rc/clk?jk=8a288a5c5a09d...</td>\n",
       "    </tr>\n",
       "    <tr>\n",
       "      <th>4</th>\n",
       "      <td>Turing Video</td>\n",
       "      <td>Computer Vision Software Engineer</td>\n",
       "      <td>maintain existing implement algorithm necessar...</td>\n",
       "      <td>https://www.indeed.com/rc/clk?jk=fcf308f2fee2a...</td>\n",
       "    </tr>\n",
       "  </tbody>\n",
       "</table>\n",
       "</div>"
      ],
      "text/plain": [
       "         company_name                                       job_title  \\\n",
       "0  Gap Inc. Corporate              Software Engineer, Price Execution   \n",
       "1              WrkShp                                Business Analyst   \n",
       "2       Ceres Imaging  Image Processing: GIS / Remote Sensing Analyst   \n",
       "3            Deloitte                  Analyst, Strategy and Research   \n",
       "4        Turing Video               Computer Vision Software Engineer   \n",
       "\n",
       "                                        listed_items  \\\n",
       "0  write build product according business conduct...   \n",
       "1  closely product assist investigation deep dive...   \n",
       "2  proficiency gi e g arcgis envi processing prod...   \n",
       "3  effectively interpret client request use tacti...   \n",
       "4  maintain existing implement algorithm necessar...   \n",
       "\n",
       "                                                 url  \n",
       "0  https://www.indeed.com/rc/clk?jk=77d524a7cf198...  \n",
       "1  https://www.indeed.com/company/WrkShp/jobs/Bus...  \n",
       "2  https://www.indeed.com/rc/clk?jk=8f702cd563785...  \n",
       "3  https://www.indeed.com/rc/clk?jk=8a288a5c5a09d...  \n",
       "4  https://www.indeed.com/rc/clk?jk=fcf308f2fee2a...  "
      ]
     },
     "execution_count": 3,
     "metadata": {},
     "output_type": "execute_result"
    }
   ],
   "source": [
    "custom_ngram_df.head()"
   ]
  },
  {
   "cell_type": "markdown",
   "metadata": {},
   "source": [
    "### TF-IDF - KMeans"
   ]
  },
  {
   "cell_type": "code",
   "execution_count": 4,
   "metadata": {},
   "outputs": [
    {
     "data": {
      "text/plain": [
       "(3364, 15385)"
      ]
     },
     "execution_count": 4,
     "metadata": {},
     "output_type": "execute_result"
    }
   ],
   "source": [
    "tf_idf = TfidfVectorizer(max_df=0.95)\n",
    "tf_idf_array = tf_idf.fit_transform(custom_ngram_df.listed_items).toarray()\n",
    "tf_idf_df = pd.DataFrame(tf_idf_array,columns=tf_idf.get_feature_names())\n",
    "tf_idf_df.shape"
   ]
  },
  {
   "cell_type": "code",
   "execution_count": 5,
   "metadata": {},
   "outputs": [
    {
     "data": {
      "text/plain": [
       "array([[0., 0., 0., ..., 0., 0., 0.],\n",
       "       [0., 0., 0., ..., 0., 0., 0.],\n",
       "       [0., 0., 0., ..., 0., 0., 0.],\n",
       "       ...,\n",
       "       [0., 0., 0., ..., 0., 0., 0.],\n",
       "       [0., 0., 0., ..., 0., 0., 0.],\n",
       "       [0., 0., 0., ..., 0., 0., 0.]])"
      ]
     },
     "execution_count": 5,
     "metadata": {},
     "output_type": "execute_result"
    }
   ],
   "source": [
    "tf_idf_df.values.transpose()"
   ]
  },
  {
   "cell_type": "code",
   "execution_count": 6,
   "metadata": {},
   "outputs": [
    {
     "data": {
      "text/html": [
       "<div>\n",
       "<style scoped>\n",
       "    .dataframe tbody tr th:only-of-type {\n",
       "        vertical-align: middle;\n",
       "    }\n",
       "\n",
       "    .dataframe tbody tr th {\n",
       "        vertical-align: top;\n",
       "    }\n",
       "\n",
       "    .dataframe thead th {\n",
       "        text-align: right;\n",
       "    }\n",
       "</style>\n",
       "<table border=\"1\" class=\"dataframe\">\n",
       "  <thead>\n",
       "    <tr style=\"text-align: right;\">\n",
       "      <th></th>\n",
       "      <th>aa</th>\n",
       "      <th>aaa</th>\n",
       "      <th>aaai</th>\n",
       "      <th>aac</th>\n",
       "      <th>aad</th>\n",
       "      <th>aami</th>\n",
       "      <th>aapc</th>\n",
       "      <th>aaproot_cause</th>\n",
       "      <th>aashto</th>\n",
       "      <th>aav</th>\n",
       "      <th>...</th>\n",
       "      <th>zoura</th>\n",
       "      <th>zpn</th>\n",
       "      <th>zuckerberg</th>\n",
       "      <th>zurb</th>\n",
       "      <th>zvs</th>\n",
       "      <th>zweigwhite</th>\n",
       "      <th>zymergen</th>\n",
       "      <th>zymo</th>\n",
       "      <th>zynga</th>\n",
       "      <th>ºc</th>\n",
       "    </tr>\n",
       "  </thead>\n",
       "  <tbody>\n",
       "    <tr>\n",
       "      <th>0</th>\n",
       "      <td>0.0</td>\n",
       "      <td>0.0</td>\n",
       "      <td>0.0</td>\n",
       "      <td>0.0</td>\n",
       "      <td>0.0</td>\n",
       "      <td>0.0</td>\n",
       "      <td>0.0</td>\n",
       "      <td>0.0</td>\n",
       "      <td>0.0</td>\n",
       "      <td>0.0</td>\n",
       "      <td>...</td>\n",
       "      <td>0.0</td>\n",
       "      <td>0.0</td>\n",
       "      <td>0.0</td>\n",
       "      <td>0.0</td>\n",
       "      <td>0.0</td>\n",
       "      <td>0.0</td>\n",
       "      <td>0.0</td>\n",
       "      <td>0.0</td>\n",
       "      <td>0.0</td>\n",
       "      <td>0.0</td>\n",
       "    </tr>\n",
       "    <tr>\n",
       "      <th>1</th>\n",
       "      <td>0.0</td>\n",
       "      <td>0.0</td>\n",
       "      <td>0.0</td>\n",
       "      <td>0.0</td>\n",
       "      <td>0.0</td>\n",
       "      <td>0.0</td>\n",
       "      <td>0.0</td>\n",
       "      <td>0.0</td>\n",
       "      <td>0.0</td>\n",
       "      <td>0.0</td>\n",
       "      <td>...</td>\n",
       "      <td>0.0</td>\n",
       "      <td>0.0</td>\n",
       "      <td>0.0</td>\n",
       "      <td>0.0</td>\n",
       "      <td>0.0</td>\n",
       "      <td>0.0</td>\n",
       "      <td>0.0</td>\n",
       "      <td>0.0</td>\n",
       "      <td>0.0</td>\n",
       "      <td>0.0</td>\n",
       "    </tr>\n",
       "    <tr>\n",
       "      <th>2</th>\n",
       "      <td>0.0</td>\n",
       "      <td>0.0</td>\n",
       "      <td>0.0</td>\n",
       "      <td>0.0</td>\n",
       "      <td>0.0</td>\n",
       "      <td>0.0</td>\n",
       "      <td>0.0</td>\n",
       "      <td>0.0</td>\n",
       "      <td>0.0</td>\n",
       "      <td>0.0</td>\n",
       "      <td>...</td>\n",
       "      <td>0.0</td>\n",
       "      <td>0.0</td>\n",
       "      <td>0.0</td>\n",
       "      <td>0.0</td>\n",
       "      <td>0.0</td>\n",
       "      <td>0.0</td>\n",
       "      <td>0.0</td>\n",
       "      <td>0.0</td>\n",
       "      <td>0.0</td>\n",
       "      <td>0.0</td>\n",
       "    </tr>\n",
       "    <tr>\n",
       "      <th>3</th>\n",
       "      <td>0.0</td>\n",
       "      <td>0.0</td>\n",
       "      <td>0.0</td>\n",
       "      <td>0.0</td>\n",
       "      <td>0.0</td>\n",
       "      <td>0.0</td>\n",
       "      <td>0.0</td>\n",
       "      <td>0.0</td>\n",
       "      <td>0.0</td>\n",
       "      <td>0.0</td>\n",
       "      <td>...</td>\n",
       "      <td>0.0</td>\n",
       "      <td>0.0</td>\n",
       "      <td>0.0</td>\n",
       "      <td>0.0</td>\n",
       "      <td>0.0</td>\n",
       "      <td>0.0</td>\n",
       "      <td>0.0</td>\n",
       "      <td>0.0</td>\n",
       "      <td>0.0</td>\n",
       "      <td>0.0</td>\n",
       "    </tr>\n",
       "    <tr>\n",
       "      <th>4</th>\n",
       "      <td>0.0</td>\n",
       "      <td>0.0</td>\n",
       "      <td>0.0</td>\n",
       "      <td>0.0</td>\n",
       "      <td>0.0</td>\n",
       "      <td>0.0</td>\n",
       "      <td>0.0</td>\n",
       "      <td>0.0</td>\n",
       "      <td>0.0</td>\n",
       "      <td>0.0</td>\n",
       "      <td>...</td>\n",
       "      <td>0.0</td>\n",
       "      <td>0.0</td>\n",
       "      <td>0.0</td>\n",
       "      <td>0.0</td>\n",
       "      <td>0.0</td>\n",
       "      <td>0.0</td>\n",
       "      <td>0.0</td>\n",
       "      <td>0.0</td>\n",
       "      <td>0.0</td>\n",
       "      <td>0.0</td>\n",
       "    </tr>\n",
       "  </tbody>\n",
       "</table>\n",
       "<p>5 rows × 15385 columns</p>\n",
       "</div>"
      ],
      "text/plain": [
       "    aa  aaa  aaai  aac  aad  aami  aapc  aaproot_cause  aashto  aav ...   \\\n",
       "0  0.0  0.0   0.0  0.0  0.0   0.0   0.0            0.0     0.0  0.0 ...    \n",
       "1  0.0  0.0   0.0  0.0  0.0   0.0   0.0            0.0     0.0  0.0 ...    \n",
       "2  0.0  0.0   0.0  0.0  0.0   0.0   0.0            0.0     0.0  0.0 ...    \n",
       "3  0.0  0.0   0.0  0.0  0.0   0.0   0.0            0.0     0.0  0.0 ...    \n",
       "4  0.0  0.0   0.0  0.0  0.0   0.0   0.0            0.0     0.0  0.0 ...    \n",
       "\n",
       "   zoura  zpn  zuckerberg  zurb  zvs  zweigwhite  zymergen  zymo  zynga   ºc  \n",
       "0    0.0  0.0         0.0   0.0  0.0         0.0       0.0   0.0    0.0  0.0  \n",
       "1    0.0  0.0         0.0   0.0  0.0         0.0       0.0   0.0    0.0  0.0  \n",
       "2    0.0  0.0         0.0   0.0  0.0         0.0       0.0   0.0    0.0  0.0  \n",
       "3    0.0  0.0         0.0   0.0  0.0         0.0       0.0   0.0    0.0  0.0  \n",
       "4    0.0  0.0         0.0   0.0  0.0         0.0       0.0   0.0    0.0  0.0  \n",
       "\n",
       "[5 rows x 15385 columns]"
      ]
     },
     "execution_count": 6,
     "metadata": {},
     "output_type": "execute_result"
    }
   ],
   "source": [
    "tf_idf_df.head()"
   ]
  },
  {
   "cell_type": "code",
   "execution_count": 7,
   "metadata": {},
   "outputs": [],
   "source": [
    "inertia = []\n",
    "i = 2\n",
    "while i <= 26:\n",
    "    num_clusters = i\n",
    "    km = KMeans(n_clusters=num_clusters,n_jobs=-1,n_init=5)\n",
    "    km.fit(tf_idf_df.values)\n",
    "    inertia.append(km.inertia_)\n",
    "    i += 1"
   ]
  },
  {
   "cell_type": "code",
   "execution_count": 8,
   "metadata": {},
   "outputs": [
    {
     "data": {
      "text/plain": [
       "[3166.2771416743185,\n",
       " 3142.667508304786,\n",
       " 3124.677508760214,\n",
       " 3111.489564867894,\n",
       " 3098.5058343670153,\n",
       " 3087.9539083888712,\n",
       " 3080.114310043137,\n",
       " 3070.9171692696,\n",
       " 3063.981296776008,\n",
       " 3054.949705721595,\n",
       " 3050.849049312611,\n",
       " 3045.1426939015337,\n",
       " 3034.8885365657193,\n",
       " 3028.3809685756582,\n",
       " 3025.1827551717593,\n",
       " 3021.235193386092,\n",
       " 3013.2798964458007,\n",
       " 3017.8413929641674,\n",
       " 3008.2186236246757,\n",
       " 2998.6321679324533,\n",
       " 2998.264148834926,\n",
       " 2991.3159650277275,\n",
       " 2989.7495441543097,\n",
       " 2986.010056609382,\n",
       " 2980.716585532233]"
      ]
     },
     "execution_count": 8,
     "metadata": {},
     "output_type": "execute_result"
    }
   ],
   "source": [
    "inertia"
   ]
  },
  {
   "cell_type": "code",
   "execution_count": 9,
   "metadata": {},
   "outputs": [
    {
     "data": {
      "text/plain": [
       "<matplotlib.collections.PathCollection at 0x7fadb056a668>"
      ]
     },
     "execution_count": 9,
     "metadata": {},
     "output_type": "execute_result"
    },
    {
     "data": {
      "image/png": "[encoded data removed]",
      "text/plain": [
       "<Figure size 432x288 with 1 Axes>"
      ]
     },
     "metadata": {
      "needs_background": "light"
     },
     "output_type": "display_data"
    }
   ],
   "source": [
    "plt.grid()\n",
    "plt.plot(range(2,27,1),inertia)\n",
    "plt.scatter(range(2,27,1),inertia)"
   ]
  },
  {
   "cell_type": "markdown",
   "metadata": {},
   "source": [
    "### Word2vec"
   ]
  },
  {
   "cell_type": "code",
   "execution_count": 10,
   "metadata": {},
   "outputs": [],
   "source": [
    "word2vec_df = pd.read_pickle('../Data/01_sf_data_word2vec')"
   ]
  },
  {
   "cell_type": "code",
   "execution_count": null,
   "metadata": {},
   "outputs": [],
   "source": [
    "inertia = []\n",
    "i = 2\n",
    "while i <= 25:\n",
    "    num_clusters = i\n",
    "    km = KMeans(n_clusters=num_clusters,n_jobs=-1,verbose=1,n_init=5)\n",
    "    km.fit(word2vec_df.values)\n",
    "    inertia.append(km.inertia_)\n",
    "    i += 1"
   ]
  },
  {
   "cell_type": "code",
   "execution_count": 12,
   "metadata": {},
   "outputs": [
    {
     "data": {
      "text/plain": [
       "[517.1395383325474,\n",
       " 476.6536960372501,\n",
       " 450.62134365225177,\n",
       " 435.54841082760544,\n",
       " 425.64706698562765,\n",
       " 413.7678129189519,\n",
       " 407.1570940036175,\n",
       " 401.52586124077357,\n",
       " 396.7113316253197,\n",
       " 390.83539524599206,\n",
       " 387.13298953851427,\n",
       " 382.5036432173621,\n",
       " 378.9972974674646,\n",
       " 375.83676477957914,\n",
       " 373.05431068310673,\n",
       " 369.8853135769264,\n",
       " 367.60602571085434,\n",
       " 366.30038231075565,\n",
       " 362.0877398654396,\n",
       " 360.0211776843725,\n",
       " 358.0065238553028,\n",
       " 356.638151837075,\n",
       " 354.5741113403334,\n",
       " 352.2838071741611]"
      ]
     },
     "execution_count": 12,
     "metadata": {},
     "output_type": "execute_result"
    }
   ],
   "source": [
    "inertia"
   ]
  },
  {
   "cell_type": "code",
   "execution_count": 13,
   "metadata": {},
   "outputs": [
    {
     "data": {
      "text/plain": [
       "<matplotlib.collections.PathCollection at 0x7fadb04d6da0>"
      ]
     },
     "execution_count": 13,
     "metadata": {},
     "output_type": "execute_result"
    },
    {
     "data": {
      "image/png": "[encoded data removed]",
      "text/plain": [
       "<Figure size 432x288 with 1 Axes>"
      ]
     },
     "metadata": {
      "needs_background": "light"
     },
     "output_type": "display_data"
    }
   ],
   "source": [
    "plt.grid()\n",
    "plt.plot(range(2,26,1),inertia)\n",
    "plt.scatter(range(2,26,1),inertia)"
   ]
  },
  {
   "cell_type": "markdown",
   "metadata": {},
   "source": [
    "## Assigning Classes Using TF-IDF\n",
    "Note that the classes were not ultimately used during plotting due the difficulty in assigning appropriate names to the different classes.\n",
    "See the Notebook 04_Modeling_TFIDF_NMF.ipynb for the classes used in the plotly graph."
   ]
  },
  {
   "cell_type": "code",
   "execution_count": 23,
   "metadata": {},
   "outputs": [
    {
     "data": {
      "text/plain": [
       "KMeans(algorithm='auto', copy_x=True, init='k-means++', max_iter=300,\n",
       "    n_clusters=9, n_init=10, n_jobs=-1, precompute_distances='auto',\n",
       "    random_state=None, tol=0.0001, verbose=0)"
      ]
     },
     "execution_count": 23,
     "metadata": {},
     "output_type": "execute_result"
    }
   ],
   "source": [
    "km = KMeans(n_clusters=9,n_jobs=-1,n_init=10)\n",
    "km.fit(tf_idf_df.values)"
   ]
  },
  {
   "cell_type": "code",
   "execution_count": 24,
   "metadata": {},
   "outputs": [],
   "source": [
    "labels_df = pd.DataFrame(km.labels_, columns=['labels'])"
   ]
  },
  {
   "cell_type": "code",
   "execution_count": 25,
   "metadata": {},
   "outputs": [
    {
     "data": {
      "text/plain": [
       "(3364, 1)"
      ]
     },
     "execution_count": 25,
     "metadata": {},
     "output_type": "execute_result"
    }
   ],
   "source": [
    "labels_df.shape"
   ]
  },
  {
   "cell_type": "code",
   "execution_count": 26,
   "metadata": {},
   "outputs": [],
   "source": [
    "df = pd.read_pickle('../Data/01_clean_sf')"
   ]
  },
  {
   "cell_type": "code",
   "execution_count": 27,
   "metadata": {},
   "outputs": [
    {
     "data": {
      "text/plain": [
       "(3364, 4)"
      ]
     },
     "execution_count": 27,
     "metadata": {},
     "output_type": "execute_result"
    }
   ],
   "source": [
    "df.shape"
   ]
  },
  {
   "cell_type": "code",
   "execution_count": 28,
   "metadata": {},
   "outputs": [],
   "source": [
    "df = df.merge(labels_df,left_index=True,right_index=True)"
   ]
  },
  {
   "cell_type": "markdown",
   "metadata": {},
   "source": [
    "## Adding SVD"
   ]
  },
  {
   "cell_type": "code",
   "execution_count": 29,
   "metadata": {},
   "outputs": [],
   "source": [
    "pca = PCA(n_components=3)\n",
    "pca.fit(tf_idf_df)\n",
    "tf_idf_df = pd.DataFrame(pca.transform(tf_idf_df))"
   ]
  },
  {
   "cell_type": "code",
   "execution_count": 30,
   "metadata": {},
   "outputs": [],
   "source": [
    "df = df.merge(tf_idf_df,left_index=True,right_index=True)"
   ]
  },
  {
   "cell_type": "code",
   "execution_count": 31,
   "metadata": {},
   "outputs": [],
   "source": [
    "df.to_pickle('../Data/01_sf_labeled')"
   ]
  }
 ],
 "metadata": {
  "kernelspec": {
   "display_name": "Python 3",
   "language": "python",
   "name": "python3"
  },
  "language_info": {
   "codemirror_mode": {
    "name": "ipython",
    "version": 3
   },
   "file_extension": ".py",
   "mimetype": "text/x-python",
   "name": "python",
   "nbconvert_exporter": "python",
   "pygments_lexer": "ipython3",
   "version": "3.7.2"
  }
 },
 "nbformat": 4,
 "nbformat_minor": 2
}
