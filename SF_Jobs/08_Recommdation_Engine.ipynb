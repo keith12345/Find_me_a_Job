{
 "cells": [
  {
   "cell_type": "code",
   "execution_count": 1,
   "metadata": {},
   "outputs": [],
   "source": [
    "import numpy as np\n",
    "import pandas as pd\n",
    "\n",
    "from nltk.corpus import stopwords\n",
    "from nltk.stem import WordNetLemmatizer\n",
    "from sklearn.feature_extraction.text import TfidfVectorizer\n",
    "\n",
    "import copy\n",
    "import pickle\n",
    "import re\n",
    "import string"
   ]
  },
  {
   "cell_type": "code",
   "execution_count": 4,
   "metadata": {},
   "outputs": [
    {
     "data": {
      "text/plain": [
       "(3760, 304)"
      ]
     },
     "execution_count": 4,
     "metadata": {},
     "output_type": "execute_result"
    }
   ],
   "source": [
    "df = pd.read_pickle('../Data/01_sf_recommender_pca')\n",
    "df.reset_index(drop=True, inplace=True)\n",
    "df.shape"
   ]
  },
  {
   "cell_type": "markdown",
   "metadata": {},
   "source": [
    "## Creating Pipeline for reading text, vecotrizing it, and creating a recommendation"
   ]
  },
  {
   "cell_type": "markdown",
   "metadata": {},
   "source": [
    "## Turn Text Description into a Vector"
   ]
  },
  {
   "cell_type": "code",
   "execution_count": 6,
   "metadata": {},
   "outputs": [],
   "source": [
    "def get_input():\n",
    "    \"Gets input from the user.\"\n",
    "    return input()"
   ]
  },
  {
   "cell_type": "code",
   "execution_count": 8,
   "metadata": {},
   "outputs": [
    {
     "name": "stdin",
     "output_type": "stream",
     "text": [
      "  Shape the vision and architecture of the system infrastructure that powers the next-generation of intelligent machines. • Implement mission-critical software in a reliable and sustainable manner. • Craft tools, processes and frameworks to redefine the software development in the rise of autonomous systems powered by artificial intelligence. • Collaborate with, learn from, and mentor a team of diverse roles, which include software engineers, roboticists and AI researchers.  We look for a track record of the following: • 3+ years of software infrastructure experience • Solid background in multiple programming languages, e.g. Python or C/C++ and willingness to pick up any new programming languages or frameworks. • Experience, designing, implementing, and running production services • Having built enough systems to recognize what are the pragmatic designs (not the most fancy ones) • Fearless about jumping around the stack (from improving driver to writing CUDA kernel to putting together React webapp) and working on aspects that have significant impact on product You might be a good fit if you: • Have worked at a startup before. Enjoy the fast-paced environment. • Know how to scale yourself as the company grows, via mentorship, delegation, increased role and responsibilities. • Are self-directed and enjoy figuring out what is the most important problem to work on. • Own problems end-to-end, and are willing to pick up whatever knowledge you're missing to get the job done. • Are detail oriented, and like to get the system working but know when to cut corners versus get it exactly right. • Have a strong interest in AI & robotics.\n"
     ]
    }
   ],
   "source": [
    "job_desc = get_input()"
   ]
  },
  {
   "cell_type": "code",
   "execution_count": 7,
   "metadata": {},
   "outputs": [],
   "source": [
    "def format_text(text):\n",
    "    \"Reads a single string. Removes punctuation and makes text lowercase. Removes stopwords\"\n",
    "    \n",
    "    text = re.sub('[\\W_]+', ' ', text)\n",
    "    text = re.sub('[%s]' % re.escape(string.punctuation), ' ', text.lower())\n",
    "    \n",
    "    stop = set(stopwords.words('english'))\n",
    "    text = [item for item in text.split() if item not in stop]\n",
    "    \n",
    "    lem = WordNetLemmatizer()\n",
    "    text = [lem.lemmatize(token) for token in text]\n",
    "    \n",
    "    stop2 = ['data', 'code', 'team', 'work']\n",
    "    text = [item for item in text if item not in stop2]\n",
    "    \n",
    "    return text"
   ]
  },
  {
   "cell_type": "code",
   "execution_count": 10,
   "metadata": {},
   "outputs": [],
   "source": [
    "job_desc = format_text(job_desc)"
   ]
  },
  {
   "cell_type": "code",
   "execution_count": 8,
   "metadata": {},
   "outputs": [],
   "source": [
    "def create_ngrams(text):\n",
    "    \n",
    "    doc_ngrams = []\n",
    "    \n",
    "    for i, j in zip(text, text[1:]):\n",
    "        bigram = '_'.join([i, j])\n",
    "        doc_ngrams.append(bigram)\n",
    "        \n",
    "    for i, j, k in zip(text, text[1:], text[2:]):\n",
    "        trigram = '_'.join([i, j, k])\n",
    "        doc_ngrams.append(trigram)\n",
    "        \n",
    "    for i, j, k, l in zip(text, text[1:],\n",
    "                          text[2:], text[3:]):\n",
    "        quadgram = '_'.join([i, j, k, l])\n",
    "        doc_ngrams.append(quadgram)\n",
    "        \n",
    "    pickle_in = open('../Tools_and_models/top_ngrams','rb')\n",
    "    top_ngrams = pickle.load(pickle_in)\n",
    "    pickle_in.close()\n",
    "        \n",
    "    top_ngrams = top_ngrams.split()\n",
    "    \n",
    "    for doc_ngram in doc_ngrams:\n",
    "        for top_ngram in top_ngrams:\n",
    "            if doc_ngram == top_ngram:\n",
    "                text.append(doc_ngram)\n",
    "            else:\n",
    "                pass\n",
    "    return ' '.join(text)\n",
    "    "
   ]
  },
  {
   "cell_type": "code",
   "execution_count": 12,
   "metadata": {},
   "outputs": [],
   "source": [
    "job_desc = create_ngrams(job_desc)"
   ]
  },
  {
   "cell_type": "code",
   "execution_count": 9,
   "metadata": {},
   "outputs": [],
   "source": [
    "def vectorize(text):\n",
    "    pickle_in = open('../Tools_and_models/tf_idf_array','rb')\n",
    "    tf_idf_array = pickle.load(pickle_in)\n",
    "    pickle_in.close()\n",
    "    \n",
    "    pickle_in = open('../Tools_and_models/tf_idf_model','rb')\n",
    "    tf_idf = pickle.load(pickle_in)\n",
    "    pickle_in.close()\n",
    "    \n",
    "    text_vector_array = tf_idf.transform([text]).toarray()\n",
    "    \n",
    "    text_vector = pd.DataFrame(text_vector_array,\n",
    "                               columns=tf_idf.get_feature_names())\n",
    "    \n",
    "    return text_vector\n",
    "    "
   ]
  },
  {
   "cell_type": "code",
   "execution_count": 14,
   "metadata": {},
   "outputs": [
    {
     "data": {
      "text/html": [
       "<div>\n",
       "<style scoped>\n",
       "    .dataframe tbody tr th:only-of-type {\n",
       "        vertical-align: middle;\n",
       "    }\n",
       "\n",
       "    .dataframe tbody tr th {\n",
       "        vertical-align: top;\n",
       "    }\n",
       "\n",
       "    .dataframe thead th {\n",
       "        text-align: right;\n",
       "    }\n",
       "</style>\n",
       "<table border=\"1\" class=\"dataframe\">\n",
       "  <thead>\n",
       "    <tr style=\"text-align: right;\">\n",
       "      <th></th>\n",
       "      <th>aa</th>\n",
       "      <th>aaa</th>\n",
       "      <th>aac</th>\n",
       "      <th>aadbstrong_organizational</th>\n",
       "      <th>aai</th>\n",
       "      <th>aalas</th>\n",
       "      <th>aami</th>\n",
       "      <th>aatt</th>\n",
       "      <th>aaude</th>\n",
       "      <th>aav</th>\n",
       "      <th>...</th>\n",
       "      <th>zoneroot_cause</th>\n",
       "      <th>zonestrong_organizational</th>\n",
       "      <th>zoning</th>\n",
       "      <th>zookeeper</th>\n",
       "      <th>zoom</th>\n",
       "      <th>zoura</th>\n",
       "      <th>zsfg</th>\n",
       "      <th>zuora</th>\n",
       "      <th>zweigwhite</th>\n",
       "      <th>zymergen</th>\n",
       "    </tr>\n",
       "  </thead>\n",
       "  <tbody>\n",
       "    <tr>\n",
       "      <th>0</th>\n",
       "      <td>0.0</td>\n",
       "      <td>0.0</td>\n",
       "      <td>0.0</td>\n",
       "      <td>0.0</td>\n",
       "      <td>0.0</td>\n",
       "      <td>0.0</td>\n",
       "      <td>0.0</td>\n",
       "      <td>0.0</td>\n",
       "      <td>0.0</td>\n",
       "      <td>0.0</td>\n",
       "      <td>...</td>\n",
       "      <td>0.0</td>\n",
       "      <td>0.0</td>\n",
       "      <td>0.0</td>\n",
       "      <td>0.0</td>\n",
       "      <td>0.0</td>\n",
       "      <td>0.0</td>\n",
       "      <td>0.0</td>\n",
       "      <td>0.0</td>\n",
       "      <td>0.0</td>\n",
       "      <td>0.0</td>\n",
       "    </tr>\n",
       "  </tbody>\n",
       "</table>\n",
       "<p>1 rows × 17982 columns</p>\n",
       "</div>"
      ],
      "text/plain": [
       "    aa  aaa  aac  aadbstrong_organizational  aai  aalas  aami  aatt  aaude  \\\n",
       "0  0.0  0.0  0.0                        0.0  0.0    0.0   0.0   0.0    0.0   \n",
       "\n",
       "   aav  ...  zoneroot_cause  zonestrong_organizational  zoning  zookeeper  \\\n",
       "0  0.0  ...             0.0                        0.0     0.0        0.0   \n",
       "\n",
       "   zoom  zoura  zsfg  zuora  zweigwhite  zymergen  \n",
       "0   0.0    0.0   0.0    0.0         0.0       0.0  \n",
       "\n",
       "[1 rows x 17982 columns]"
      ]
     },
     "execution_count": 14,
     "metadata": {},
     "output_type": "execute_result"
    }
   ],
   "source": [
    "text_vector = vectorize(job_desc)\n",
    "text_vector"
   ]
  },
  {
   "cell_type": "code",
   "execution_count": 10,
   "metadata": {},
   "outputs": [],
   "source": [
    "def pcaitize(text_vector):\n",
    "\n",
    "    pickle_in = open('../Tools_and_models/pca_tool','rb')\n",
    "    pca = pickle.load(pickle_in)\n",
    "    pickle_in.close()\n",
    "    \n",
    "    text_pca = pca.transform(text_vector)\n",
    "    \n",
    "    return pd.DataFrame(text_pca)"
   ]
  },
  {
   "cell_type": "code",
   "execution_count": 16,
   "metadata": {},
   "outputs": [
    {
     "data": {
      "text/html": [
       "<div>\n",
       "<style scoped>\n",
       "    .dataframe tbody tr th:only-of-type {\n",
       "        vertical-align: middle;\n",
       "    }\n",
       "\n",
       "    .dataframe tbody tr th {\n",
       "        vertical-align: top;\n",
       "    }\n",
       "\n",
       "    .dataframe thead th {\n",
       "        text-align: right;\n",
       "    }\n",
       "</style>\n",
       "<table border=\"1\" class=\"dataframe\">\n",
       "  <thead>\n",
       "    <tr style=\"text-align: right;\">\n",
       "      <th></th>\n",
       "      <th>0</th>\n",
       "      <th>1</th>\n",
       "      <th>2</th>\n",
       "      <th>3</th>\n",
       "      <th>4</th>\n",
       "      <th>5</th>\n",
       "      <th>6</th>\n",
       "      <th>7</th>\n",
       "      <th>8</th>\n",
       "      <th>9</th>\n",
       "      <th>...</th>\n",
       "      <th>290</th>\n",
       "      <th>291</th>\n",
       "      <th>292</th>\n",
       "      <th>293</th>\n",
       "      <th>294</th>\n",
       "      <th>295</th>\n",
       "      <th>296</th>\n",
       "      <th>297</th>\n",
       "      <th>298</th>\n",
       "      <th>299</th>\n",
       "    </tr>\n",
       "  </thead>\n",
       "  <tbody>\n",
       "    <tr>\n",
       "      <th>0</th>\n",
       "      <td>0.113463</td>\n",
       "      <td>0.013039</td>\n",
       "      <td>-0.059531</td>\n",
       "      <td>0.023948</td>\n",
       "      <td>0.036254</td>\n",
       "      <td>-0.036031</td>\n",
       "      <td>-0.053242</td>\n",
       "      <td>-0.043271</td>\n",
       "      <td>-0.018679</td>\n",
       "      <td>-0.001879</td>\n",
       "      <td>...</td>\n",
       "      <td>0.009766</td>\n",
       "      <td>0.021482</td>\n",
       "      <td>-0.016988</td>\n",
       "      <td>0.038074</td>\n",
       "      <td>-0.018458</td>\n",
       "      <td>0.005457</td>\n",
       "      <td>-0.015219</td>\n",
       "      <td>0.020732</td>\n",
       "      <td>-0.027946</td>\n",
       "      <td>0.004073</td>\n",
       "    </tr>\n",
       "  </tbody>\n",
       "</table>\n",
       "<p>1 rows × 300 columns</p>\n",
       "</div>"
      ],
      "text/plain": [
       "        0         1         2         3         4         5         6    \\\n",
       "0  0.113463  0.013039 -0.059531  0.023948  0.036254 -0.036031 -0.053242   \n",
       "\n",
       "        7         8         9    ...       290       291       292       293  \\\n",
       "0 -0.043271 -0.018679 -0.001879  ...  0.009766  0.021482 -0.016988  0.038074   \n",
       "\n",
       "        294       295       296       297       298       299  \n",
       "0 -0.018458  0.005457 -0.015219  0.020732 -0.027946  0.004073  \n",
       "\n",
       "[1 rows x 300 columns]"
      ]
     },
     "execution_count": 16,
     "metadata": {},
     "output_type": "execute_result"
    }
   ],
   "source": [
    "text_pca = pcaitize(text_vector)\n",
    "text_pca"
   ]
  },
  {
   "cell_type": "markdown",
   "metadata": {},
   "source": [
    "## Making a search based on our text_pca"
   ]
  },
  {
   "cell_type": "code",
   "execution_count": 11,
   "metadata": {},
   "outputs": [],
   "source": [
    "def recommender(df, text_pca,n_recommendations=5):\n",
    "    recos = pd.DataFrame(df.iloc[:,4:].apply(lambda x: np.dot(x,text_pca.iloc[0,:]), axis=1))\n",
    "    largest_indeces = recos[0].nlargest(n_recommendations).index\n",
    "    urls = df.iloc[largest_indeces].posting_url.values\n",
    "    companies = df.iloc[largest_indeces].company_name.values\n",
    "    titles = df.iloc[largest_indeces].job_title.values\n",
    "    return urls, companies, titles"
   ]
  },
  {
   "cell_type": "code",
   "execution_count": 26,
   "metadata": {},
   "outputs": [
    {
     "name": "stdout",
     "output_type": "stream",
     "text": [
      "OpenAI Software Engineer, Robotics Interfaces https://www.indeed.com/rc/clk?jk=c94e3111d304281a&fccid=c037aeb6086309d9&vjs=3 \n",
      "\n",
      "\n",
      "U.S. Bank AI/ML Full Stack Engineer - San Francisco, CA https://www.indeed.com/rc/clk?jk=36366ba562aaf724&fccid=ae5bfc395c530fbc&vjs=3 \n",
      "\n",
      "\n",
      "Capital One Full Stack Engineer https://www.indeed.com/rc/clk?jk=25d7481fcd84367e&fccid=b85c5070c3d3d8c8&vjs=3 \n",
      "\n",
      "\n",
      "Honor Senior Backend Engineer https://www.indeed.com/rc/clk?jk=5d1e6c3f46968c4c&fccid=d12645453d9cc8ea&vjs=3 \n",
      "\n",
      "\n",
      "Honor Senior Software Engineer https://www.indeed.com/rc/clk?jk=2b1334591f9b682b&fccid=d12645453d9cc8ea&vjs=3 \n",
      "\n",
      "\n"
     ]
    }
   ],
   "source": [
    "urls, companies, titles = recommender(df, text_pca,5)\n",
    "for x, y, z, in zip(urls, companies, titles):\n",
    "    print(y, z, x, '\\n\\n')"
   ]
  },
  {
   "cell_type": "code",
   "execution_count": 12,
   "metadata": {},
   "outputs": [],
   "source": [
    "def make_recommendations(df, n_recommendations=5):\n",
    "    text = get_input()\n",
    "    formatted_text = format_text(text)\n",
    "    ngramed_text = create_ngrams(formatted_text)\n",
    "    text_vector = vectorize(ngramed_text)\n",
    "    text_pca = pcaitize(text_vector)\n",
    "    recommendations = recommender(df, text_pca,n_recommendations=5)\n",
    "    return recommendations"
   ]
  },
  {
   "cell_type": "code",
   "execution_count": 14,
   "metadata": {},
   "outputs": [
    {
     "name": "stdin",
     "output_type": "stream",
     "text": [
      " Interact with internal clients and product managers to understand their requirements for predictive analytics applications Help develop and test predictive algorithms to be implemented as part of internal tools and customer facing applications Understand business goals and initiatives, and combine business modeling skills with outstanding data analysis. Guide prioritization by measuring and estimating potential benefits Cooperate with the Data Engineering team to design and execute replicable data acquisition and utilization processes Cooperate with the ML Engineering team to integrate models into production code Provide research and statistical expertise across the company Contribute to a solid development, evaluation, deployment and refinement methodology for data science projects Cooperate with BI teams to deliver forward looking insights into our business Participate in the research community through conference presentations and articles Qualifications   MS/PhD degree in Statistics, Math, Engineering related discipline or equivalent experience. Industrial data-mining / analytics experience including applied techniques in data mining, machine learning, NLP or graph mining preferred. Knowledge and Skills   Computational and analytical ability Deep understanding of statistics, machine learning and data mining algorithms Extensive development experience in Python (incl. Pandas, Numpy, Scipy) Experience with SQL and Hadoop Experience turning ideas into actionable designs and delivering solutions to end users. Able to persuade stakeholders and champion effective techniques Comfort working in a dynamic, research-oriented group with several ongoing concurrent projects Strong verbal and written communication skills as well as excellent presentation skills Publications at relevant scientific conferences and journals is a plus Patient, teammate with great attention to detail\n"
     ]
    },
    {
     "data": {
      "text/plain": [
       "(array(['https://www.indeed.com/rc/clk?jk=e6f29d6df6180eb8&fccid=14932909b46ac703&vjs=3',\n",
       "        'https://www.indeed.com/rc/clk?jk=8240f6e52520f3d6&fccid=1af6457dc9e90c32&vjs=3',\n",
       "        'https://www.indeed.com/rc/clk?jk=15278c6f872cafd9&fccid=1af6457dc9e90c32&vjs=3',\n",
       "        'https://www.indeed.com/rc/clk?jk=32b7269602773e12&fccid=f37af6e0eae53880&vjs=3',\n",
       "        'https://www.indeed.com/rc/clk?jk=c5eca57261768944&fccid=e4b075354d7c2865&vjs=3'],\n",
       "       dtype=object),\n",
       " array(['SurveyMonkey', 'Lattice Engines', 'Lattice Engines',\n",
       "        'Albertsons Companies', 'Gilead Sciences'], dtype=object),\n",
       " array(['Data Scientist', 'Senior Data Scientist',\n",
       "        'Senior Data Science Engineer', 'Head of Data Science',\n",
       "        'Clinical Data Scientist'], dtype=object))"
      ]
     },
     "execution_count": 14,
     "metadata": {},
     "output_type": "execute_result"
    }
   ],
   "source": [
    "make_recommendations(df, n_recommendations=5)"
   ]
  }
 ],
 "metadata": {
  "kernelspec": {
   "display_name": "Python 3",
   "language": "python",
   "name": "python3"
  },
  "language_info": {
   "codemirror_mode": {
    "name": "ipython",
    "version": 3
   },
   "file_extension": ".py",
   "mimetype": "text/x-python",
   "name": "python",
   "nbconvert_exporter": "python",
   "pygments_lexer": "ipython3",
   "version": "3.7.3"
  }
 },
 "nbformat": 4,
 "nbformat_minor": 4
}
