{
 "cells": [
  {
   "cell_type": "code",
   "execution_count": 1,
   "metadata": {},
   "outputs": [],
   "source": [
    "import numpy as np\n",
    "import pandas as pd\n",
    "\n",
    "import pickle"
   ]
  },
  {
   "cell_type": "code",
   "execution_count": 40,
   "metadata": {},
   "outputs": [],
   "source": [
    "df = pd.read_pickle('../Data/01_sf_recommender_pca')"
   ]
  },
  {
   "cell_type": "code",
   "execution_count": 3,
   "metadata": {},
   "outputs": [
    {
     "data": {
      "text/html": [
       "<div>\n",
       "<style scoped>\n",
       "    .dataframe tbody tr th:only-of-type {\n",
       "        vertical-align: middle;\n",
       "    }\n",
       "\n",
       "    .dataframe tbody tr th {\n",
       "        vertical-align: top;\n",
       "    }\n",
       "\n",
       "    .dataframe thead th {\n",
       "        text-align: right;\n",
       "    }\n",
       "</style>\n",
       "<table border=\"1\" class=\"dataframe\">\n",
       "  <thead>\n",
       "    <tr style=\"text-align: right;\">\n",
       "      <th></th>\n",
       "      <th>company_name</th>\n",
       "      <th>job_title</th>\n",
       "      <th>listed_items</th>\n",
       "      <th>posting_url</th>\n",
       "      <th>0</th>\n",
       "      <th>1</th>\n",
       "      <th>2</th>\n",
       "      <th>3</th>\n",
       "      <th>4</th>\n",
       "      <th>5</th>\n",
       "      <th>...</th>\n",
       "      <th>90</th>\n",
       "      <th>91</th>\n",
       "      <th>92</th>\n",
       "      <th>93</th>\n",
       "      <th>94</th>\n",
       "      <th>95</th>\n",
       "      <th>96</th>\n",
       "      <th>97</th>\n",
       "      <th>98</th>\n",
       "      <th>99</th>\n",
       "    </tr>\n",
       "  </thead>\n",
       "  <tbody>\n",
       "    <tr>\n",
       "      <th>0</th>\n",
       "      <td>Gap Inc. Corporate</td>\n",
       "      <td>Software Engineer, Price Execution</td>\n",
       "      <td>write build product according business need co...</td>\n",
       "      <td>https://www.indeed.com/rc/clk?jk=77d524a7cf198...</td>\n",
       "      <td>-0.019090</td>\n",
       "      <td>0.040501</td>\n",
       "      <td>-0.112431</td>\n",
       "      <td>0.103970</td>\n",
       "      <td>-0.106989</td>\n",
       "      <td>-0.026306</td>\n",
       "      <td>...</td>\n",
       "      <td>0.002396</td>\n",
       "      <td>-0.015071</td>\n",
       "      <td>-0.013495</td>\n",
       "      <td>0.002928</td>\n",
       "      <td>-0.015414</td>\n",
       "      <td>-0.079520</td>\n",
       "      <td>0.011122</td>\n",
       "      <td>0.001284</td>\n",
       "      <td>0.034969</td>\n",
       "      <td>0.043990</td>\n",
       "    </tr>\n",
       "    <tr>\n",
       "      <th>1</th>\n",
       "      <td>WrkShp</td>\n",
       "      <td>Business Analyst</td>\n",
       "      <td>closely product assist investigation deep dive...</td>\n",
       "      <td>https://www.indeed.com/company/WrkShp/jobs/Bus...</td>\n",
       "      <td>-0.010927</td>\n",
       "      <td>0.164458</td>\n",
       "      <td>0.122718</td>\n",
       "      <td>-0.153918</td>\n",
       "      <td>-0.014575</td>\n",
       "      <td>-0.100430</td>\n",
       "      <td>...</td>\n",
       "      <td>-0.043133</td>\n",
       "      <td>-0.011965</td>\n",
       "      <td>0.003011</td>\n",
       "      <td>0.034008</td>\n",
       "      <td>0.033314</td>\n",
       "      <td>0.005770</td>\n",
       "      <td>-0.075077</td>\n",
       "      <td>0.064688</td>\n",
       "      <td>-0.001266</td>\n",
       "      <td>-0.017888</td>\n",
       "    </tr>\n",
       "    <tr>\n",
       "      <th>2</th>\n",
       "      <td>Ceres Imaging</td>\n",
       "      <td>Image Processing: GIS / Remote Sensing Analyst</td>\n",
       "      <td>proficiency gi software e g arcgis envi experi...</td>\n",
       "      <td>https://www.indeed.com/rc/clk?jk=8f702cd563785...</td>\n",
       "      <td>0.064959</td>\n",
       "      <td>-0.130597</td>\n",
       "      <td>-0.012915</td>\n",
       "      <td>0.000326</td>\n",
       "      <td>-0.020176</td>\n",
       "      <td>-0.031159</td>\n",
       "      <td>...</td>\n",
       "      <td>0.072121</td>\n",
       "      <td>0.020364</td>\n",
       "      <td>-0.057734</td>\n",
       "      <td>-0.022652</td>\n",
       "      <td>0.023028</td>\n",
       "      <td>-0.026972</td>\n",
       "      <td>0.045027</td>\n",
       "      <td>0.024582</td>\n",
       "      <td>0.061548</td>\n",
       "      <td>-0.015834</td>\n",
       "    </tr>\n",
       "    <tr>\n",
       "      <th>3</th>\n",
       "      <td>Deloitte</td>\n",
       "      <td>Analyst, Strategy and Research</td>\n",
       "      <td>effectively interpret client request use tacti...</td>\n",
       "      <td>https://www.indeed.com/rc/clk?jk=8a288a5c5a09d...</td>\n",
       "      <td>-0.101598</td>\n",
       "      <td>-0.037274</td>\n",
       "      <td>0.040113</td>\n",
       "      <td>-0.012223</td>\n",
       "      <td>-0.040209</td>\n",
       "      <td>0.047943</td>\n",
       "      <td>...</td>\n",
       "      <td>-0.014547</td>\n",
       "      <td>0.000741</td>\n",
       "      <td>0.046328</td>\n",
       "      <td>0.090302</td>\n",
       "      <td>0.034393</td>\n",
       "      <td>-0.004047</td>\n",
       "      <td>-0.007654</td>\n",
       "      <td>-0.034240</td>\n",
       "      <td>0.002480</td>\n",
       "      <td>-0.023435</td>\n",
       "    </tr>\n",
       "    <tr>\n",
       "      <th>4</th>\n",
       "      <td>Turing Video</td>\n",
       "      <td>Computer Vision Software Engineer</td>\n",
       "      <td>maintain existing software system implement co...</td>\n",
       "      <td>https://www.indeed.com/rc/clk?jk=fcf308f2fee2a...</td>\n",
       "      <td>0.149299</td>\n",
       "      <td>0.010717</td>\n",
       "      <td>-0.028881</td>\n",
       "      <td>0.143432</td>\n",
       "      <td>-0.067979</td>\n",
       "      <td>0.051231</td>\n",
       "      <td>...</td>\n",
       "      <td>-0.041999</td>\n",
       "      <td>0.037092</td>\n",
       "      <td>-0.027940</td>\n",
       "      <td>-0.001335</td>\n",
       "      <td>-0.017423</td>\n",
       "      <td>0.007670</td>\n",
       "      <td>-0.051687</td>\n",
       "      <td>-0.014250</td>\n",
       "      <td>-0.029634</td>\n",
       "      <td>-0.004588</td>\n",
       "    </tr>\n",
       "  </tbody>\n",
       "</table>\n",
       "<p>5 rows × 104 columns</p>\n",
       "</div>"
      ],
      "text/plain": [
       "         company_name                                       job_title  \\\n",
       "0  Gap Inc. Corporate              Software Engineer, Price Execution   \n",
       "1              WrkShp                                Business Analyst   \n",
       "2       Ceres Imaging  Image Processing: GIS / Remote Sensing Analyst   \n",
       "3            Deloitte                  Analyst, Strategy and Research   \n",
       "4        Turing Video               Computer Vision Software Engineer   \n",
       "\n",
       "                                        listed_items  \\\n",
       "0  write build product according business need co...   \n",
       "1  closely product assist investigation deep dive...   \n",
       "2  proficiency gi software e g arcgis envi experi...   \n",
       "3  effectively interpret client request use tacti...   \n",
       "4  maintain existing software system implement co...   \n",
       "\n",
       "                                         posting_url         0         1  \\\n",
       "0  https://www.indeed.com/rc/clk?jk=77d524a7cf198... -0.019090  0.040501   \n",
       "1  https://www.indeed.com/company/WrkShp/jobs/Bus... -0.010927  0.164458   \n",
       "2  https://www.indeed.com/rc/clk?jk=8f702cd563785...  0.064959 -0.130597   \n",
       "3  https://www.indeed.com/rc/clk?jk=8a288a5c5a09d... -0.101598 -0.037274   \n",
       "4  https://www.indeed.com/rc/clk?jk=fcf308f2fee2a...  0.149299  0.010717   \n",
       "\n",
       "          2         3         4         5    ...           90        91  \\\n",
       "0 -0.112431  0.103970 -0.106989 -0.026306    ...     0.002396 -0.015071   \n",
       "1  0.122718 -0.153918 -0.014575 -0.100430    ...    -0.043133 -0.011965   \n",
       "2 -0.012915  0.000326 -0.020176 -0.031159    ...     0.072121  0.020364   \n",
       "3  0.040113 -0.012223 -0.040209  0.047943    ...    -0.014547  0.000741   \n",
       "4 -0.028881  0.143432 -0.067979  0.051231    ...    -0.041999  0.037092   \n",
       "\n",
       "         92        93        94        95        96        97        98  \\\n",
       "0 -0.013495  0.002928 -0.015414 -0.079520  0.011122  0.001284  0.034969   \n",
       "1  0.003011  0.034008  0.033314  0.005770 -0.075077  0.064688 -0.001266   \n",
       "2 -0.057734 -0.022652  0.023028 -0.026972  0.045027  0.024582  0.061548   \n",
       "3  0.046328  0.090302  0.034393 -0.004047 -0.007654 -0.034240  0.002480   \n",
       "4 -0.027940 -0.001335 -0.017423  0.007670 -0.051687 -0.014250 -0.029634   \n",
       "\n",
       "         99  \n",
       "0  0.043990  \n",
       "1 -0.017888  \n",
       "2 -0.015834  \n",
       "3 -0.023435  \n",
       "4 -0.004588  \n",
       "\n",
       "[5 rows x 104 columns]"
      ]
     },
     "execution_count": 3,
     "metadata": {},
     "output_type": "execute_result"
    }
   ],
   "source": [
    "df.head()"
   ]
  },
  {
   "cell_type": "code",
   "execution_count": 5,
   "metadata": {},
   "outputs": [],
   "source": [
    "def make_recommendation(df, job_index,n_recommendations=5):\n",
    "    n_recommendations += 1\n",
    "    df['similarity'] = df.iloc[:,4:].T.apply(lambda x: np.dot(x,df.iloc[job_index,4:]))\n",
    "    largest_indeces = df.similarity.nlargest(n_recommendations).index\n",
    "    largest_indeces = largest_indeces[1:]\n",
    "    recommendations = df.iloc[largest_indeces].posting_url\n",
    "    original_posting = df.iloc[job_index].posting_url\n",
    "    return recommendations, original_posting"
   ]
  },
  {
   "cell_type": "code",
   "execution_count": 6,
   "metadata": {},
   "outputs": [],
   "source": [
    "recommendations, original_posting = make_recommendation(df, 2479,n_recommendations=5)"
   ]
  },
  {
   "cell_type": "code",
   "execution_count": 8,
   "metadata": {},
   "outputs": [
    {
     "data": {
      "text/plain": [
       "'https://www.indeed.com/rc/clk?jk=61c67daed15efa5f&fccid=330c28c156c5fb55&vjs=3'"
      ]
     },
     "execution_count": 8,
     "metadata": {},
     "output_type": "execute_result"
    }
   ],
   "source": [
    "original_posting"
   ]
  },
  {
   "cell_type": "code",
   "execution_count": 7,
   "metadata": {},
   "outputs": [
    {
     "data": {
      "text/plain": [
       "array(['https://www.indeed.com/rc/clk?jk=d0a7e4f18722fc85&fccid=fd86291e008a4edf&vjs=3',\n",
       "       'https://www.indeed.com/rc/clk?jk=de4582911b6e7615&fccid=734e88fca63788fc&vjs=3',\n",
       "       'https://www.indeed.com/rc/clk?jk=fda80b56a3907f5d&fccid=c2aed722996a4145&vjs=3',\n",
       "       'https://www.indeed.com/rc/clk?jk=4e3e375496da68e2&fccid=7c3a1f1f98dde031&vjs=3',\n",
       "       'https://www.indeed.com/rc/clk?jk=8ee64f8287f7919a&fccid=a4e4e2eaf26690c9&vjs=3'],\n",
       "      dtype=object)"
      ]
     },
     "execution_count": 7,
     "metadata": {},
     "output_type": "execute_result"
    }
   ],
   "source": [
    "recommendations.values"
   ]
  },
  {
   "cell_type": "code",
   "execution_count": 30,
   "metadata": {},
   "outputs": [
    {
     "data": {
      "text/plain": [
       "'https://www.indeed.com/rc/clk?jk=61c67daed15efa5f&fccid=330c28c156c5fb55&vjs=3'"
      ]
     },
     "execution_count": 30,
     "metadata": {},
     "output_type": "execute_result"
    }
   ],
   "source": [
    "df.iloc[2479].posting_url"
   ]
  },
  {
   "cell_type": "code",
   "execution_count": 29,
   "metadata": {},
   "outputs": [
    {
     "data": {
      "text/plain": [
       "(2964, 105)"
      ]
     },
     "execution_count": 29,
     "metadata": {},
     "output_type": "execute_result"
    }
   ],
   "source": [
    "df.shape"
   ]
  },
  {
   "cell_type": "markdown",
   "metadata": {},
   "source": [
    "## Turn Text Description into a Vector"
   ]
  },
  {
   "cell_type": "code",
   "execution_count": 4,
   "metadata": {},
   "outputs": [],
   "source": [
    "import re\n",
    "import string\n",
    "from nltk.corpus import stopwords\n",
    "from nltk.stem import WordNetLemmatizer\n",
    "from sklearn.feature_extraction.text import TfidfVectorizer"
   ]
  },
  {
   "cell_type": "code",
   "execution_count": 5,
   "metadata": {},
   "outputs": [],
   "source": [
    "job_desc = 'Research and experiment with different machine learning algorithms and techniques for item classification, product recognition and matching, attribute extraction. \\\n",
    "            Conduct design and code reviews. \\\n",
    "            Productionize the developed Machine Learning solutions. \\\n",
    "            Work with engineers to make sure the engines scale well on high volumes of data. \\\n",
    "            MS/PhD in Computer Science or a related field. \\\n",
    "            3+ years of industry experience in data science and machine learning preferred. \\\n",
    "            Expertise in Machine Learning. \\\n",
    "            Strong CS fundamentals, such as algorithms and data structures. \\\n",
    "            Expertise in Python. \\\n",
    "            Proficiency with relational databases such as MySQL. \\\n",
    "            Experience with cloud computing stacks such as Amazon Web Services preferred. \\\n",
    "            Excellent written and verbal communication skills. \\\n",
    "            Enthusiasm for working hard and having fun in a dynamic environment.'\n",
    "        \n"
   ]
  },
  {
   "cell_type": "code",
   "execution_count": 6,
   "metadata": {},
   "outputs": [],
   "source": [
    "def format_text(text):\n",
    "    \n",
    "    text = re.sub('[\\W_]+', ' ', text)\n",
    "    text = re.sub('[%s]' % re.escape(string.punctuation), ' ', text.lower())\n",
    "    \n",
    "    stop = set(stopwords.words('english'))\n",
    "    text = [item for item in text.split() if item not in stop]\n",
    "    \n",
    "    lem = WordNetLemmatizer()\n",
    "    text = [lem.lemmatize(token) for token in text]\n",
    "    \n",
    "    stop2 = ['data', 'code', 'team', 'work']\n",
    "    text = [item for item in text if item not in stop2]\n",
    "    \n",
    "    return text"
   ]
  },
  {
   "cell_type": "code",
   "execution_count": 7,
   "metadata": {},
   "outputs": [],
   "source": [
    "job_desc = format_text(job_desc)"
   ]
  },
  {
   "cell_type": "code",
   "execution_count": 8,
   "metadata": {},
   "outputs": [],
   "source": [
    "def create_ngrams(text):\n",
    "    \n",
    "    doc_ngrams = []\n",
    "    \n",
    "    for i, j in zip(text, text[1:]):\n",
    "        bigram = '_'.join([i, j])\n",
    "        doc_ngrams.append(bigram)\n",
    "        \n",
    "    for i, j, k in zip(text, text[1:], text[2:]):\n",
    "        trigram = '_'.join([i, j, k])\n",
    "        doc_ngrams.append(trigram)\n",
    "        \n",
    "    for i, j, k, l in zip(text, text[1:],\n",
    "                          text[2:], text[3:]):\n",
    "        quadgram = '_'.join([i, j, k, l])\n",
    "        doc_ngrams.append(quadgram)\n",
    "        \n",
    "    pickle_in = open('../Tools_and_models/top_ngrams','rb')\n",
    "    top_ngrams = pickle.load(pickle_in)\n",
    "    pickle_in.close()\n",
    "        \n",
    "    top_ngrams = top_ngrams.split()\n",
    "    \n",
    "    for doc_ngram in doc_ngrams:\n",
    "        for top_ngram in top_ngrams:\n",
    "            if doc_ngram == top_ngram:\n",
    "                text.append(doc_ngram)\n",
    "            else:\n",
    "                pass\n",
    "    return ' '.join(text)\n",
    "    "
   ]
  },
  {
   "cell_type": "code",
   "execution_count": 9,
   "metadata": {},
   "outputs": [],
   "source": [
    "job_desc = create_ngrams(job_desc)"
   ]
  },
  {
   "cell_type": "code",
   "execution_count": 10,
   "metadata": {},
   "outputs": [],
   "source": [
    "def vectorize(text):\n",
    "    pickle_in = open('../Tools_and_models/tf_idf_vectorizer','rb')\n",
    "    tf_idf_vectorizer = pickle.load(pickle_in)\n",
    "    pickle_in.close()\n",
    "    \n",
    "    pickle_in = open('../Tools_and_models/tf_idf_model','rb')\n",
    "    tf_idf = pickle.load(pickle_in)\n",
    "    pickle_in.close()\n",
    "    \n",
    "    text_vector_array = tf_idf_vectorizer.transform([text]).toarray()\n",
    "    \n",
    "    text_vector = pd.DataFrame(text_vector_array,columns=tf_idf.get_feature_names())\n",
    "    \n",
    "    return text_vector\n",
    "    "
   ]
  },
  {
   "cell_type": "code",
   "execution_count": 11,
   "metadata": {},
   "outputs": [
    {
     "data": {
      "text/html": [
       "<div>\n",
       "<style scoped>\n",
       "    .dataframe tbody tr th:only-of-type {\n",
       "        vertical-align: middle;\n",
       "    }\n",
       "\n",
       "    .dataframe tbody tr th {\n",
       "        vertical-align: top;\n",
       "    }\n",
       "\n",
       "    .dataframe thead th {\n",
       "        text-align: right;\n",
       "    }\n",
       "</style>\n",
       "<table border=\"1\" class=\"dataframe\">\n",
       "  <thead>\n",
       "    <tr style=\"text-align: right;\">\n",
       "      <th></th>\n",
       "      <th>00</th>\n",
       "      <th>000</th>\n",
       "      <th>000ad_hoc</th>\n",
       "      <th>000best_practice</th>\n",
       "      <th>000machine_learning</th>\n",
       "      <th>000skill_experience</th>\n",
       "      <th>007ability_independently</th>\n",
       "      <th>007end_end</th>\n",
       "      <th>00am</th>\n",
       "      <th>00pm</th>\n",
       "      <th>...</th>\n",
       "      <th>zookeeperend_end</th>\n",
       "      <th>zoom</th>\n",
       "      <th>zoura</th>\n",
       "      <th>zuckerberg</th>\n",
       "      <th>zurb</th>\n",
       "      <th>zvs</th>\n",
       "      <th>zweigwhite</th>\n",
       "      <th>zymergen</th>\n",
       "      <th>zymo</th>\n",
       "      <th>zynga</th>\n",
       "    </tr>\n",
       "  </thead>\n",
       "  <tbody>\n",
       "    <tr>\n",
       "      <th>0</th>\n",
       "      <td>0.0</td>\n",
       "      <td>0.0</td>\n",
       "      <td>0.0</td>\n",
       "      <td>0.0</td>\n",
       "      <td>0.0</td>\n",
       "      <td>0.0</td>\n",
       "      <td>0.0</td>\n",
       "      <td>0.0</td>\n",
       "      <td>0.0</td>\n",
       "      <td>0.0</td>\n",
       "      <td>...</td>\n",
       "      <td>0.0</td>\n",
       "      <td>0.0</td>\n",
       "      <td>0.0</td>\n",
       "      <td>0.0</td>\n",
       "      <td>0.0</td>\n",
       "      <td>0.0</td>\n",
       "      <td>0.0</td>\n",
       "      <td>0.0</td>\n",
       "      <td>0.0</td>\n",
       "      <td>0.0</td>\n",
       "    </tr>\n",
       "  </tbody>\n",
       "</table>\n",
       "<p>1 rows × 15951 columns</p>\n",
       "</div>"
      ],
      "text/plain": [
       "    00  000  000ad_hoc  000best_practice  000machine_learning  \\\n",
       "0  0.0  0.0        0.0               0.0                  0.0   \n",
       "\n",
       "   000skill_experience  007ability_independently  007end_end  00am  00pm  \\\n",
       "0                  0.0                       0.0         0.0   0.0   0.0   \n",
       "\n",
       "   ...    zookeeperend_end  zoom  zoura  zuckerberg  zurb  zvs  zweigwhite  \\\n",
       "0  ...                 0.0   0.0    0.0         0.0   0.0  0.0         0.0   \n",
       "\n",
       "   zymergen  zymo  zynga  \n",
       "0       0.0   0.0    0.0  \n",
       "\n",
       "[1 rows x 15951 columns]"
      ]
     },
     "execution_count": 11,
     "metadata": {},
     "output_type": "execute_result"
    }
   ],
   "source": [
    "text_vector = vectorize(job_desc)\n",
    "text_vector"
   ]
  },
  {
   "cell_type": "code",
   "execution_count": 35,
   "metadata": {},
   "outputs": [],
   "source": [
    "def pcaitize(text_vector):\n",
    "\n",
    "    pickle_in = open('../Tools_and_models/pca_tool','rb')\n",
    "    pca = pickle.load(pickle_in)\n",
    "    pickle_in.close()\n",
    "    \n",
    "    text_pca = pca.transform(text_vector)\n",
    "    \n",
    "    return pd.DataFrame(text_pca)"
   ]
  },
  {
   "cell_type": "code",
   "execution_count": 36,
   "metadata": {},
   "outputs": [
    {
     "data": {
      "text/html": [
       "<div>\n",
       "<style scoped>\n",
       "    .dataframe tbody tr th:only-of-type {\n",
       "        vertical-align: middle;\n",
       "    }\n",
       "\n",
       "    .dataframe tbody tr th {\n",
       "        vertical-align: top;\n",
       "    }\n",
       "\n",
       "    .dataframe thead th {\n",
       "        text-align: right;\n",
       "    }\n",
       "</style>\n",
       "<table border=\"1\" class=\"dataframe\">\n",
       "  <thead>\n",
       "    <tr style=\"text-align: right;\">\n",
       "      <th></th>\n",
       "      <th>0</th>\n",
       "      <th>1</th>\n",
       "      <th>2</th>\n",
       "      <th>3</th>\n",
       "      <th>4</th>\n",
       "      <th>5</th>\n",
       "      <th>6</th>\n",
       "      <th>7</th>\n",
       "      <th>8</th>\n",
       "      <th>9</th>\n",
       "      <th>...</th>\n",
       "      <th>90</th>\n",
       "      <th>91</th>\n",
       "      <th>92</th>\n",
       "      <th>93</th>\n",
       "      <th>94</th>\n",
       "      <th>95</th>\n",
       "      <th>96</th>\n",
       "      <th>97</th>\n",
       "      <th>98</th>\n",
       "      <th>99</th>\n",
       "    </tr>\n",
       "  </thead>\n",
       "  <tbody>\n",
       "    <tr>\n",
       "      <th>0</th>\n",
       "      <td>0.313629</td>\n",
       "      <td>0.059027</td>\n",
       "      <td>0.188926</td>\n",
       "      <td>0.027239</td>\n",
       "      <td>0.1554</td>\n",
       "      <td>0.155671</td>\n",
       "      <td>-0.064135</td>\n",
       "      <td>0.011923</td>\n",
       "      <td>0.018943</td>\n",
       "      <td>-0.059297</td>\n",
       "      <td>...</td>\n",
       "      <td>-0.00635</td>\n",
       "      <td>-0.006189</td>\n",
       "      <td>-0.030233</td>\n",
       "      <td>0.013168</td>\n",
       "      <td>-0.021185</td>\n",
       "      <td>0.020178</td>\n",
       "      <td>-0.037472</td>\n",
       "      <td>-0.015292</td>\n",
       "      <td>-0.001556</td>\n",
       "      <td>0.022535</td>\n",
       "    </tr>\n",
       "  </tbody>\n",
       "</table>\n",
       "<p>1 rows × 100 columns</p>\n",
       "</div>"
      ],
      "text/plain": [
       "         0         1         2         3       4         5         6   \\\n",
       "0  0.313629  0.059027  0.188926  0.027239  0.1554  0.155671 -0.064135   \n",
       "\n",
       "         7         8         9     ...          90        91        92  \\\n",
       "0  0.011923  0.018943 -0.059297    ...    -0.00635 -0.006189 -0.030233   \n",
       "\n",
       "         93        94        95        96        97        98        99  \n",
       "0  0.013168 -0.021185  0.020178 -0.037472 -0.015292 -0.001556  0.022535  \n",
       "\n",
       "[1 rows x 100 columns]"
      ]
     },
     "execution_count": 36,
     "metadata": {},
     "output_type": "execute_result"
    }
   ],
   "source": [
    "text_pca = pcaitize(text_vector)\n",
    "text_pca"
   ]
  },
  {
   "cell_type": "markdown",
   "metadata": {},
   "source": [
    "## Making a search based on our text_pca"
   ]
  },
  {
   "cell_type": "code",
   "execution_count": 37,
   "metadata": {},
   "outputs": [],
   "source": [
    "def make_recommendation(df, text_pca,n_recommendations=5):\n",
    "    n_recommendations += 1\n",
    "    df['similarity'] = df.iloc[:,4:].T.apply(lambda x: np.dot(x,text_pca.iloc[0,:]))\n",
    "    largest_indeces = df.similarity.nlargest(n_recommendations).index\n",
    "    recommendations = df.iloc[largest_indeces].posting_url\n",
    "    return recommendations"
   ]
  },
  {
   "cell_type": "code",
   "execution_count": 41,
   "metadata": {},
   "outputs": [
    {
     "data": {
      "text/plain": [
       "array(['https://www.indeed.com/rc/clk?jk=795dfed0082171ee&fccid=250b3b23ab6d1a65&vjs=3',\n",
       "       'https://www.indeed.com/rc/clk?jk=0ffe555ff7c0bcb2&fccid=b62884b388b48696&vjs=3',\n",
       "       'https://www.indeed.com/rc/clk?jk=25dea4c8feffdcfe&fccid=037150182eaec9aa&vjs=3',\n",
       "       'https://www.indeed.com/rc/clk?jk=dd0fc449ef317b70&fccid=e78beff0619871a0&vjs=3',\n",
       "       'https://www.indeed.com/rc/clk?jk=c8d268fd9541ce48&fccid=4444adbe1bdb3f80&vjs=3',\n",
       "       'https://www.indeed.com/rc/clk?jk=c2e0edc807d1768b&fccid=e07842a8df6e60cc&vjs=3'],\n",
       "      dtype=object)"
      ]
     },
     "execution_count": 41,
     "metadata": {},
     "output_type": "execute_result"
    }
   ],
   "source": [
    "recommendations = make_recommendation(df, text_pca,5)\n",
    "recommendations.values"
   ]
  },
  {
   "cell_type": "code",
   "execution_count": null,
   "metadata": {},
   "outputs": [],
   "source": []
  }
 ],
 "metadata": {
  "kernelspec": {
   "display_name": "Python 3",
   "language": "python",
   "name": "python3"
  },
  "language_info": {
   "codemirror_mode": {
    "name": "ipython",
    "version": 3
   },
   "file_extension": ".py",
   "mimetype": "text/x-python",
   "name": "python",
   "nbconvert_exporter": "python",
   "pygments_lexer": "ipython3",
   "version": "3.7.2"
  }
 },
 "nbformat": 4,
 "nbformat_minor": 2
}
