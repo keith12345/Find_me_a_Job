{
 "cells": [
  {
   "cell_type": "code",
   "execution_count": 1,
   "metadata": {},
   "outputs": [],
   "source": [
    "import numpy as np\n",
    "import pandas as pd\n",
    "\n",
    "from sklearn.feature_extraction.text import TfidfVectorizer"
   ]
  },
  {
   "cell_type": "code",
   "execution_count": 2,
   "metadata": {},
   "outputs": [],
   "source": [
    "df = pd.read_pickle('Data/clean_seattle')"
   ]
  },
  {
   "cell_type": "code",
   "execution_count": 3,
   "metadata": {},
   "outputs": [
    {
     "data": {
      "text/plain": [
       "2908"
      ]
     },
     "execution_count": 3,
     "metadata": {},
     "output_type": "execute_result"
    }
   ],
   "source": [
    "len(df)"
   ]
  },
  {
   "cell_type": "markdown",
   "metadata": {},
   "source": [
    "## N-grams process flow"
   ]
  },
  {
   "cell_type": "markdown",
   "metadata": {},
   "source": [
    "1. create ngrams for corpus  \n",
    "* create ngrams for individual documents  \n",
    "* get value counts of ngram appearances\n",
    "* check which ngrams appear most in the entire corpus - set arbitrary cutoff for number of bigrams based on quality\n",
    "* Remove redundant bigrams, trigrams, and quadgrams\n",
    "* check which of those selected ngrams are in each document\n",
    "* combine with existing documents"
   ]
  },
  {
   "cell_type": "markdown",
   "metadata": {},
   "source": [
    "### Combine documents and split into one list of words"
   ]
  },
  {
   "cell_type": "code",
   "execution_count": 4,
   "metadata": {},
   "outputs": [],
   "source": [
    "def sent_to_words(sentences):\n",
    "    for sentence in sentences:\n",
    "        yield(gensim.utils.simple_preprocess(str(sentence), deacc=True))\n"
   ]
  },
  {
   "cell_type": "code",
   "execution_count": 5,
   "metadata": {},
   "outputs": [],
   "source": [
    "clean_sents = list(sent_to_words(df.listed_items))\n",
    "all_words = [item for sublist in clean_sents for item in sublist]"
   ]
  },
  {
   "cell_type": "markdown",
   "metadata": {},
   "source": [
    "### Create ngrams from corpus"
   ]
  },
  {
   "cell_type": "markdown",
   "metadata": {},
   "source": [
    "#### Bigrams"
   ]
  },
  {
   "cell_type": "code",
   "execution_count": 6,
   "metadata": {},
   "outputs": [
    {
     "data": {
      "text/plain": [
       "457518"
      ]
     },
     "execution_count": 6,
     "metadata": {},
     "output_type": "execute_result"
    }
   ],
   "source": [
    "bigrams = ['_'.join(x) for x in zip(all_words, all_words[1:])]\n",
    "len(bigrams)"
   ]
  },
  {
   "cell_type": "code",
   "execution_count": 7,
   "metadata": {},
   "outputs": [
    {
     "data": {
      "text/plain": [
       "['year_experi',\n",
       " 'comput_scienc',\n",
       " 'machin_learn',\n",
       " 'bachelor_degre',\n",
       " 'communic_skill']"
      ]
     },
     "execution_count": 7,
     "metadata": {},
     "output_type": "execute_result"
    }
   ],
   "source": [
    "top_bigrams = pd.Series(bigrams).value_counts()[:100].index\n",
    "list(top_bigrams[:5])"
   ]
  },
  {
   "cell_type": "markdown",
   "metadata": {},
   "source": [
    "#### Trigrams"
   ]
  },
  {
   "cell_type": "code",
   "execution_count": 8,
   "metadata": {},
   "outputs": [
    {
     "data": {
      "text/plain": [
       "457517"
      ]
     },
     "execution_count": 8,
     "metadata": {},
     "output_type": "execute_result"
    }
   ],
   "source": [
    "trigrams = ['_'.join(x) for x in zip(all_words, all_words[1:], all_words[2:])]\n",
    "len(trigrams)"
   ]
  },
  {
   "cell_type": "markdown",
   "metadata": {},
   "source": [
    "Looks like medic_dental_vision appears a lot... I'll make a note to get rid of that one."
   ]
  },
  {
   "cell_type": "code",
   "execution_count": 9,
   "metadata": {},
   "outputs": [
    {
     "data": {
      "text/plain": [
       "['degre_comput_scienc',\n",
       " 'comput_scienc_relat',\n",
       " 'bachelor_degre_comput',\n",
       " 'written_communic_skill',\n",
       " 'scienc_relat_field']"
      ]
     },
     "execution_count": 9,
     "metadata": {},
     "output_type": "execute_result"
    }
   ],
   "source": [
    "top_trigrams = pd.Series(trigrams).value_counts()[:50].index\n",
    "list(top_trigrams[:5])"
   ]
  },
  {
   "cell_type": "markdown",
   "metadata": {},
   "source": [
    "#### Quadgrams"
   ]
  },
  {
   "cell_type": "code",
   "execution_count": 10,
   "metadata": {},
   "outputs": [
    {
     "data": {
      "text/plain": [
       "457516"
      ]
     },
     "execution_count": 10,
     "metadata": {},
     "output_type": "execute_result"
    }
   ],
   "source": [
    "quadgrams = ['_'.join(x) for x in zip(all_words, all_words[1:], all_words[2:], all_words[3:])]\n",
    "len(quadgrams)"
   ]
  },
  {
   "cell_type": "markdown",
   "metadata": {},
   "source": [
    "Think about finding a way to handle the fact that these and similar items are treated as three separate items:\n",
    "* verbal_written_communic_skill        203\n",
    "* written_verbal_communic_skill        194\n",
    "* excel_verbal_written_communic        121"
   ]
  },
  {
   "cell_type": "code",
   "execution_count": 11,
   "metadata": {},
   "outputs": [
    {
     "data": {
      "text/plain": [
       "['bachelor_degre_comput_scienc',\n",
       " 'comput_scienc_relat_field',\n",
       " 'degre_comput_scienc_relat',\n",
       " 'verbal_written_communic_skill',\n",
       " 'written_verbal_communic_skill']"
      ]
     },
     "execution_count": 11,
     "metadata": {},
     "output_type": "execute_result"
    }
   ],
   "source": [
    "top_quadgrams = pd.Series(quadgrams).value_counts().index[:20]\n",
    "list(top_quadgrams)[:5]"
   ]
  },
  {
   "cell_type": "markdown",
   "metadata": {},
   "source": [
    "### Remove redundant bigrams, trigrams, and quadgrams and combine to create a single list"
   ]
  },
  {
   "cell_type": "code",
   "execution_count": 12,
   "metadata": {},
   "outputs": [
    {
     "name": "stdout",
     "output_type": "stream",
     "text": [
      "There are 56 non-redundant bigrams\n"
     ]
    },
    {
     "data": {
      "text/plain": [
       "['machin_learn',\n",
       " 'best_practic',\n",
       " 'project_manag',\n",
       " 'product_manag',\n",
       " 'experi_build']"
      ]
     },
     "execution_count": 12,
     "metadata": {},
     "output_type": "execute_result"
    }
   ],
   "source": [
    "non_redundant_bigrams = []\n",
    "trigrams_string = ' '.join(top_trigrams)\n",
    "\n",
    "for bigram in top_bigrams:\n",
    "    if bigram in trigrams_string:\n",
    "        pass\n",
    "    else:\n",
    "        non_redundant_bigrams.append(bigram)\n",
    "print('There are', len(non_redundant_bigrams), 'non-redundant bigrams')\n",
    "non_redundant_bigrams[:5]"
   ]
  },
  {
   "cell_type": "code",
   "execution_count": 13,
   "metadata": {},
   "outputs": [
    {
     "name": "stdout",
     "output_type": "stream",
     "text": [
      "There are 30 non-redundant trigrams\n"
     ]
    },
    {
     "data": {
      "text/plain": [
       "['problem_solv_skill',\n",
       " 'fast_pace_environ',\n",
       " 'year_relev_experi',\n",
       " 'communic_skill_abil',\n",
       " 'comput_scienc_fundament']"
      ]
     },
     "execution_count": 13,
     "metadata": {},
     "output_type": "execute_result"
    }
   ],
   "source": [
    "non_redundant_trigrams = []\n",
    "quadgrams_string = ' '.join(top_quadgrams)\n",
    "\n",
    "for trigram in top_trigrams:\n",
    "    if trigram in quadgrams_string:\n",
    "        pass\n",
    "    else:\n",
    "        non_redundant_trigrams.append(trigram)\n",
    "print('There are', len(non_redundant_trigrams), 'non-redundant trigrams')\n",
    "non_redundant_trigrams[:5]"
   ]
  },
  {
   "cell_type": "code",
   "execution_count": 14,
   "metadata": {},
   "outputs": [],
   "source": [
    "top_ngrams = ' '.join([' '.join(non_redundant_bigrams),\n",
    "                       ' '.join(non_redundant_trigrams),\n",
    "                       ' '.join(top_quadgrams)])"
   ]
  },
  {
   "cell_type": "markdown",
   "metadata": {},
   "source": [
    "### Convert documents to ngrams"
   ]
  },
  {
   "cell_type": "code",
   "execution_count": 15,
   "metadata": {},
   "outputs": [],
   "source": [
    "def to_ngram(text):\n",
    "    \n",
    "    out = []\n",
    "    \n",
    "    for i, j in zip(text.split(), text.split()[1:]):\n",
    "        bigram = '_'.join([i, j])\n",
    "        out.append(bigram)\n",
    "        \n",
    "    for i, j, k in zip(text.split(), text.split()[1:], text.split()[2:]):\n",
    "        trigram = '_'.join([i, j, k])\n",
    "        out.append(trigram)\n",
    "        \n",
    "    for i, j, k, l in zip(text.split(), text.split()[1:],\n",
    "                          text.split()[2:], text.split()[3:]):\n",
    "        quadgram = '_'.join([i, j, k, l])\n",
    "        out.append(quadgram) \n",
    "        \n",
    "    return out        "
   ]
  },
  {
   "cell_type": "code",
   "execution_count": 16,
   "metadata": {},
   "outputs": [
    {
     "data": {
      "text/html": [
       "<div>\n",
       "<style scoped>\n",
       "    .dataframe tbody tr th:only-of-type {\n",
       "        vertical-align: middle;\n",
       "    }\n",
       "\n",
       "    .dataframe tbody tr th {\n",
       "        vertical-align: top;\n",
       "    }\n",
       "\n",
       "    .dataframe thead th {\n",
       "        text-align: right;\n",
       "    }\n",
       "</style>\n",
       "<table border=\"1\" class=\"dataframe\">\n",
       "  <thead>\n",
       "    <tr style=\"text-align: right;\">\n",
       "      <th></th>\n",
       "      <th>listed_items</th>\n",
       "    </tr>\n",
       "  </thead>\n",
       "  <tbody>\n",
       "    <tr>\n",
       "      <th>0</th>\n",
       "      <td>[develop_high, high_scalabl, scalabl_classifi,...</td>\n",
       "    </tr>\n",
       "    <tr>\n",
       "      <th>1</th>\n",
       "      <td>[play_pivot, pivot_role, role_modern, modern_s...</td>\n",
       "    </tr>\n",
       "    <tr>\n",
       "      <th>2</th>\n",
       "      <td>[act_contribut, contribut_ux, ux_design, desig...</td>\n",
       "    </tr>\n",
       "    <tr>\n",
       "      <th>3</th>\n",
       "      <td>[manag_6, 6_8, 8_technic, technic_product, pro...</td>\n",
       "    </tr>\n",
       "    <tr>\n",
       "      <th>4</th>\n",
       "      <td>[lead_grow, grow_appli, appli_scientist, scien...</td>\n",
       "    </tr>\n",
       "  </tbody>\n",
       "</table>\n",
       "</div>"
      ],
      "text/plain": [
       "                                        listed_items\n",
       "0  [develop_high, high_scalabl, scalabl_classifi,...\n",
       "1  [play_pivot, pivot_role, role_modern, modern_s...\n",
       "2  [act_contribut, contribut_ux, ux_design, desig...\n",
       "3  [manag_6, 6_8, 8_technic, technic_product, pro...\n",
       "4  [lead_grow, grow_appli, appli_scientist, scien..."
      ]
     },
     "execution_count": 16,
     "metadata": {},
     "output_type": "execute_result"
    }
   ],
   "source": [
    "ngram_df = pd.DataFrame(df.listed_items.apply(to_ngram))\n",
    "ngram_df.head()"
   ]
  },
  {
   "cell_type": "markdown",
   "metadata": {},
   "source": [
    "### Find matching ngrams"
   ]
  },
  {
   "cell_type": "markdown",
   "metadata": {},
   "source": [
    "Need to edit this function:  \n",
    "if ngram == any ngram in top ngrams\n",
    "\n",
    "Currenty the 'in' will include any bigrams that are within a trigram effectively nullifying the result of the *Remove redundant bigrams, trigrams, and quadgrams and combine to create a single list* step."
   ]
  },
  {
   "cell_type": "code",
   "execution_count": 17,
   "metadata": {},
   "outputs": [],
   "source": [
    "def check_matching_ngrams(doc_ngrams):\n",
    "    \n",
    "    matching_ngrams = []\n",
    "    \n",
    "    top_ngrams_list = top_ngrams.split()\n",
    "    \n",
    "    for doc_ngram in doc_ngrams:\n",
    "        for top_ngram in top_ngrams_list:\n",
    "            if doc_ngram == top_ngram:\n",
    "                matching_ngrams.append(doc_ngram)\n",
    "            else:\n",
    "                pass\n",
    "    return ' '.join(matching_ngrams)"
   ]
  },
  {
   "cell_type": "code",
   "execution_count": 18,
   "metadata": {},
   "outputs": [
    {
     "data": {
      "text/html": [
       "<div>\n",
       "<style scoped>\n",
       "    .dataframe tbody tr th:only-of-type {\n",
       "        vertical-align: middle;\n",
       "    }\n",
       "\n",
       "    .dataframe tbody tr th {\n",
       "        vertical-align: top;\n",
       "    }\n",
       "\n",
       "    .dataframe thead th {\n",
       "        text-align: right;\n",
       "    }\n",
       "</style>\n",
       "<table border=\"1\" class=\"dataframe\">\n",
       "  <thead>\n",
       "    <tr style=\"text-align: right;\">\n",
       "      <th></th>\n",
       "      <th>listed_items</th>\n",
       "    </tr>\n",
       "  </thead>\n",
       "  <tbody>\n",
       "    <tr>\n",
       "      <th>0</th>\n",
       "      <td>machin_learn machin_learn quantit_field quanti...</td>\n",
       "    </tr>\n",
       "    <tr>\n",
       "      <th>1</th>\n",
       "      <td>best_practic demonstr_abil best_practic best_p...</td>\n",
       "    </tr>\n",
       "    <tr>\n",
       "      <th>2</th>\n",
       "      <td>busi_requir design_develop design_implement cu...</td>\n",
       "    </tr>\n",
       "    <tr>\n",
       "      <th>3</th>\n",
       "      <td>product_manag product_manag busi_requir experi...</td>\n",
       "    </tr>\n",
       "    <tr>\n",
       "      <th>4</th>\n",
       "      <td>machin_learn long_term softwar_engin engin_tea...</td>\n",
       "    </tr>\n",
       "  </tbody>\n",
       "</table>\n",
       "</div>"
      ],
      "text/plain": [
       "                                        listed_items\n",
       "0  machin_learn machin_learn quantit_field quanti...\n",
       "1  best_practic demonstr_abil best_practic best_p...\n",
       "2  busi_requir design_develop design_implement cu...\n",
       "3  product_manag product_manag busi_requir experi...\n",
       "4  machin_learn long_term softwar_engin engin_tea..."
      ]
     },
     "execution_count": 18,
     "metadata": {},
     "output_type": "execute_result"
    }
   ],
   "source": [
    "matching_ngram_df = pd.DataFrame(ngram_df.listed_items.apply(check_matching_ngrams))\n",
    "matching_ngram_df.head()"
   ]
  },
  {
   "cell_type": "markdown",
   "metadata": {},
   "source": [
    "### Combine ngrams with document text"
   ]
  },
  {
   "cell_type": "code",
   "execution_count": 19,
   "metadata": {},
   "outputs": [],
   "source": [
    "df['listed_items'] = df.listed_items + matching_ngram_df.listed_items"
   ]
  },
  {
   "cell_type": "code",
   "execution_count": 20,
   "metadata": {},
   "outputs": [],
   "source": [
    "df.to_pickle('Data/clean_seattle_ngram_df')"
   ]
  },
  {
   "cell_type": "code",
   "execution_count": null,
   "metadata": {},
   "outputs": [],
   "source": []
  }
 ],
 "metadata": {
  "kernelspec": {
   "display_name": "Python 3",
   "language": "python",
   "name": "python3"
  },
  "language_info": {
   "codemirror_mode": {
    "name": "ipython",
    "version": 3
   },
   "file_extension": ".py",
   "mimetype": "text/x-python",
   "name": "python",
   "nbconvert_exporter": "python",
   "pygments_lexer": "ipython3",
   "version": "3.7.2"
  }
 },
 "nbformat": 4,
 "nbformat_minor": 2
}
