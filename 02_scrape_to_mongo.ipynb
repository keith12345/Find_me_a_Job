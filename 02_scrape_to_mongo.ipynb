{
 "cells": [
  {
   "cell_type": "code",
   "execution_count": 1,
   "metadata": {},
   "outputs": [],
   "source": [
    "import numpy as np\n",
    "\n",
    "import requests\n",
    "from bs4 import BeautifulSoup\n",
    "import pickle\n",
    "\n",
    "from pymongo import MongoClient\n",
    "import time\n",
    "\n",
    "import time\n",
    "import re\n",
    "\n",
    "import os"
   ]
  },
  {
   "cell_type": "code",
   "execution_count": 2,
   "metadata": {},
   "outputs": [],
   "source": [
    "os.chdir('Data')"
   ]
  },
  {
   "cell_type": "code",
   "execution_count": 3,
   "metadata": {},
   "outputs": [],
   "source": [
    "def get_soup(url):\n",
    "    page = requests.get(url)\n",
    "    soup = BeautifulSoup(page.text, 'html.parser')\n",
    "    return soup"
   ]
  },
  {
   "cell_type": "code",
   "execution_count": 4,
   "metadata": {},
   "outputs": [],
   "source": [
    "def get_job_info(soup):\n",
    "    \n",
    "    try:\n",
    "        job_title = soup.find(name='h3', attrs={'class':'icl-u-xs-mb--xs icl-u-xs-mt--none jobsearch-JobInfoHeader-title'}).text\n",
    "    except:\n",
    "        job_title = ''\n",
    "        \n",
    "    try:\n",
    "        company_name = soup.find(name='div', attrs={'class':'icl-u-lg-mr--sm icl-u-xs-mr--xs'}).text\n",
    "    except:\n",
    "        company_name = ''\n",
    "        \n",
    "    try:\n",
    "        salary = soup.find(name='span', attrs={'class':'icl-u-xs-mr--xs'}).text\n",
    "    except:\n",
    "        salary = ''\n",
    "    \n",
    "    try:\n",
    "        job_description_full = soup.find(name='div', attrs={'class':'jobsearch-JobComponent-description icl-u-xs-mt--md'})\n",
    "        \n",
    "        try:\n",
    "            job_description_full = soup.find(name='div', attrs={'class':'jobsearch-JobComponent-description icl-u-xs-mt--md'})\n",
    "            listed_items = []\n",
    "            for list_item in job_description_full.find_all(name='li'):\n",
    "                listed_items.append(list_item.text)\n",
    "            # Adds '. ' because most list items are missing periods\n",
    "            listed_items = '. '.join(listed_items)\n",
    "            listed_items = re.sub('\\n', ' ', listed_items)\n",
    "            # Remove double space\n",
    "            listed_items = re.sub('  ', ' ', listed_items)\n",
    "            # Remove double period if list items had periods\n",
    "            listed_items = re.sub('\\.\\.', '.', listed_items)\n",
    "        except:\n",
    "            listed_items = ''\n",
    "            \n",
    "        # Paragraph Items\n",
    "            \n",
    "        try:\n",
    "            paragraph_items = []\n",
    "            for paragraph_item in job_description_full.find_all(name='p'):\n",
    "                paragraph_items.append(paragraph_item.text)\n",
    "\n",
    "            # removes things like: 'Specifically, the Lisp engineer will:'\n",
    "            paragraph_items = [paragraph_item for paragraph_item in paragraph_items if len(paragraph_item) > 50]\n",
    "            # Puts all paragraph items into a single string\n",
    "            paragraph_items = ''.join(paragraph_items)\n",
    "            paragraph_items = re.sub('\\n', ' ', paragraph_items)\n",
    "            \n",
    "            if len(paragraph_items) < 1:\n",
    "                try:\n",
    "                    job_description_full = soup.find(name='div', attrs={'class':'jobsearch-JobComponent-description icl-u-xs-mt--md'})\n",
    "                    paragraph_items = []\n",
    "                    for paragraph_item in job_description_full.find_all(name='div'):\n",
    "                        paragraph_items.append(paragraph_item.text)\n",
    "\n",
    "                    # removes things like: 'Specifically, the Lisp engineer will:'\n",
    "                    paragraph_items = [paragraph_item for paragraph_item in paragraph_items if len(paragraph_item) > 50]\n",
    "                    # Puts all paragraph items into a single string\n",
    "                    paragraph_items = ''.join(paragraph_items)\n",
    "                    paragraph_items = re.sub('\\n', ' ', paragraph_items)\n",
    "                except: \n",
    "                    paragraph_items = ''\n",
    "   \n",
    "        except:\n",
    "            paragraph_items = ''\n",
    "    \n",
    "    except:\n",
    "        listed_items, paragraph_items = ['','']\n",
    "            \n",
    "    return job_title, company_name, salary, listed_items, paragraph_items\n",
    "\n"
   ]
  },
  {
   "cell_type": "markdown",
   "metadata": {},
   "source": [
    "### Connecting to MongoDB"
   ]
  },
  {
   "cell_type": "code",
   "execution_count": 5,
   "metadata": {},
   "outputs": [],
   "source": [
    "client = MongoClient()"
   ]
  },
  {
   "cell_type": "code",
   "execution_count": 6,
   "metadata": {},
   "outputs": [],
   "source": [
    "db = client.jobs_data"
   ]
  },
  {
   "cell_type": "code",
   "execution_count": 9,
   "metadata": {},
   "outputs": [
    {
     "data": {
      "text/plain": [
       "['Seattle_Jobs_Info']"
      ]
     },
     "execution_count": 9,
     "metadata": {},
     "output_type": "execute_result"
    }
   ],
   "source": [
    "db.list_collection_names()"
   ]
  },
  {
   "cell_type": "markdown",
   "metadata": {},
   "source": [
    "### Importing and removing duplicate URLs"
   ]
  },
  {
   "cell_type": "code",
   "execution_count": 10,
   "metadata": {},
   "outputs": [],
   "source": [
    "pickle_in = open('individual_listings__Seattle','rb')\n",
    "seattle_listings_urls = pickle.load(pickle_in)\n",
    "pickle_in.close()"
   ]
  },
  {
   "cell_type": "code",
   "execution_count": 11,
   "metadata": {},
   "outputs": [],
   "source": [
    "seattle_listings_urls = [item for sublist in seattle_listings_urls for item in sublist]\n",
    "seattle_listings_urls = list(set(seattle_listings_urls))"
   ]
  },
  {
   "cell_type": "markdown",
   "metadata": {},
   "source": [
    "### Looping through and creating individual entries for jobs"
   ]
  },
  {
   "cell_type": "code",
   "execution_count": null,
   "metadata": {},
   "outputs": [
    {
     "name": "stdout",
     "output_type": "stream",
     "text": [
      "2190\n",
      "2200\n",
      "2210\n",
      "2220\n",
      "2230\n",
      "2240\n",
      "2250\n",
      "2260\n",
      "2270\n",
      "2280\n",
      "2290\n",
      "2300\n",
      "2310\n",
      "2320\n",
      "2330\n",
      "2340\n",
      "2350\n",
      "2360\n",
      "2370\n",
      "2380\n",
      "2390\n",
      "2400\n",
      "2410\n",
      "2420\n",
      "2430\n",
      "2440\n",
      "2450\n",
      "2460\n",
      "2470\n",
      "2480\n"
     ]
    }
   ],
   "source": [
    "# i = 0\n",
    "# i = 1120\n",
    "i = 2190\n",
    "\n",
    "dics = []\n",
    "\n",
    "for url in seattle_listings_urls[2190:]:\n",
    "    \n",
    "    new_item = {}\n",
    "    \n",
    "    soup = get_soup(url)\n",
    "    job_title, company_name, salary, listed_items, paragraph_items = get_job_info(soup)\n",
    "    time.sleep(np.random.poisson(100)/50)\n",
    "    \n",
    "    new_item['url'] = url\n",
    "    new_item['job_title'] = job_title \n",
    "    new_item['company_name'] = company_name\n",
    "    new_item['salary'] = salary\n",
    "    new_item['listed_items'] = listed_items\n",
    "    new_item['paragraph_items'] = paragraph_items\n",
    "    \n",
    "    time.sleep(np.random.poisson(100)/50)\n",
    "    \n",
    "    db.Seattle_Jobs_Info.insert_one(new_item)\n",
    "    \n",
    "    if i%10 == 0:\n",
    "        print(i)\n",
    "    \n",
    "    i += 1\n"
   ]
  },
  {
   "cell_type": "code",
   "execution_count": null,
   "metadata": {},
   "outputs": [],
   "source": []
  },
  {
   "cell_type": "code",
   "execution_count": null,
   "metadata": {},
   "outputs": [],
   "source": []
  }
 ],
 "metadata": {
  "kernelspec": {
   "display_name": "Python 3",
   "language": "python",
   "name": "python3"
  },
  "language_info": {
   "codemirror_mode": {
    "name": "ipython",
    "version": 3
   },
   "file_extension": ".py",
   "mimetype": "text/x-python",
   "name": "python",
   "nbconvert_exporter": "python",
   "pygments_lexer": "ipython3",
   "version": "3.7.2"
  }
 },
 "nbformat": 4,
 "nbformat_minor": 2
}
