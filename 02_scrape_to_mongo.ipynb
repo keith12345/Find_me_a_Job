{
 "cells": [
  {
   "cell_type": "code",
   "execution_count": 1,
   "metadata": {},
   "outputs": [],
   "source": [
    "import numpy as np\n",
    "\n",
    "import requests\n",
    "from bs4 import BeautifulSoup\n",
    "import pickle\n",
    "\n",
    "from pymongo import MongoClient\n",
    "import time\n",
    "\n",
    "import time\n",
    "import re\n",
    "\n",
    "import os"
   ]
  },
  {
   "cell_type": "code",
   "execution_count": 2,
   "metadata": {},
   "outputs": [],
   "source": [
    "os.chdir('Data')"
   ]
  },
  {
   "cell_type": "code",
   "execution_count": 3,
   "metadata": {},
   "outputs": [],
   "source": [
    "def get_soup(url):\n",
    "    page = requests.get(url)\n",
    "    soup = BeautifulSoup(page.text, 'html.parser')\n",
    "    return soup"
   ]
  },
  {
   "cell_type": "code",
   "execution_count": 4,
   "metadata": {},
   "outputs": [],
   "source": [
    "def get_job_info(soup):\n",
    "    \n",
    "    try:\n",
    "        job_title = soup.find(name='h3', attrs={'class':'icl-u-xs-mb--xs icl-u-xs-mt--none jobsearch-JobInfoHeader-title'}).text\n",
    "    except:\n",
    "        job_title = ''\n",
    "        \n",
    "    try:\n",
    "        company_name = soup.find(name='div', attrs={'class':'icl-u-lg-mr--sm icl-u-xs-mr--xs'}).text\n",
    "    except:\n",
    "        company_name = ''\n",
    "        \n",
    "    try:\n",
    "        salary = soup.find(name='span', attrs={'class':'icl-u-xs-mr--xs'}).text\n",
    "    except:\n",
    "        salary = ''\n",
    "    \n",
    "    try:\n",
    "        job_description_full = soup.find(name='div', attrs={'class':'jobsearch-JobComponent-description icl-u-xs-mt--md'})\n",
    "        \n",
    "        try:\n",
    "            job_description_full = soup.find(name='div', attrs={'class':'jobsearch-JobComponent-description icl-u-xs-mt--md'})\n",
    "            listed_items = []\n",
    "            for list_item in job_description_full.find_all(name='li'):\n",
    "                listed_items.append(list_item.text)\n",
    "            # Adds '. ' because most list items are missing periods\n",
    "            listed_items = '. '.join(listed_items)\n",
    "            listed_items = re.sub('\\n', ' ', listed_items)\n",
    "            # Remove double space\n",
    "            listed_items = re.sub('  ', ' ', listed_items)\n",
    "            # Remove double period if list items had periods\n",
    "            listed_items = re.sub('\\.\\.', '.', listed_items)\n",
    "        except:\n",
    "            listed_items = ''\n",
    "            \n",
    "        # Paragraph Items\n",
    "            \n",
    "        try:\n",
    "            paragraph_items = []\n",
    "            for paragraph_item in job_description_full.find_all(name='p'):\n",
    "                paragraph_items.append(paragraph_item.text)\n",
    "\n",
    "            # removes things like: 'Specifically, the Lisp engineer will:'\n",
    "            paragraph_items = [paragraph_item for paragraph_item in paragraph_items if len(paragraph_item) > 50]\n",
    "            # Puts all paragraph items into a single string\n",
    "            paragraph_items = ''.join(paragraph_items)\n",
    "            paragraph_items = re.sub('\\n', ' ', paragraph_items)\n",
    "            \n",
    "            if len(paragraph_items) < 1:\n",
    "                try:\n",
    "                    job_description_full = soup.find(name='div', attrs={'class':'jobsearch-JobComponent-description icl-u-xs-mt--md'})\n",
    "                    paragraph_items = []\n",
    "                    for paragraph_item in job_description_full.find_all(name='div'):\n",
    "                        paragraph_items.append(paragraph_item.text)\n",
    "\n",
    "                    # removes things like: 'Specifically, the Lisp engineer will:'\n",
    "                    paragraph_items = [paragraph_item for paragraph_item in paragraph_items if len(paragraph_item) > 50]\n",
    "                    # Puts all paragraph items into a single string\n",
    "                    paragraph_items = ''.join(paragraph_items)\n",
    "                    paragraph_items = re.sub('\\n', ' ', paragraph_items)\n",
    "                except: \n",
    "                    paragraph_items = ''\n",
    "   \n",
    "        except:\n",
    "            paragraph_items = ''\n",
    "    \n",
    "    except:\n",
    "        listed_items, paragraph_items = ['','']\n",
    "            \n",
    "    return job_title, company_name, salary, listed_items, paragraph_items\n",
    "\n"
   ]
  },
  {
   "cell_type": "markdown",
   "metadata": {},
   "source": [
    "### Connecting to MongoDB"
   ]
  },
  {
   "cell_type": "code",
   "execution_count": 5,
   "metadata": {},
   "outputs": [],
   "source": [
    "client = MongoClient()"
   ]
  },
  {
   "cell_type": "code",
   "execution_count": 6,
   "metadata": {},
   "outputs": [],
   "source": [
    "db = client.jobs_data"
   ]
  },
  {
   "cell_type": "code",
   "execution_count": 7,
   "metadata": {},
   "outputs": [
    {
     "data": {
      "text/plain": [
       "['Seattle_Jobs_Info']"
      ]
     },
     "execution_count": 7,
     "metadata": {},
     "output_type": "execute_result"
    }
   ],
   "source": [
    "db.list_collection_names()"
   ]
  },
  {
   "cell_type": "markdown",
   "metadata": {},
   "source": [
    "### Importing and removing duplicate URLs"
   ]
  },
  {
   "cell_type": "code",
   "execution_count": 8,
   "metadata": {},
   "outputs": [],
   "source": [
    "pickle_in = open('individual_listings__Seattle','rb')\n",
    "seattle_listings_urls = pickle.load(pickle_in)\n",
    "pickle_in.close()"
   ]
  },
  {
   "cell_type": "code",
   "execution_count": 9,
   "metadata": {},
   "outputs": [],
   "source": [
    "seattle_listings_urls = [item for sublist in seattle_listings_urls for item in sublist]\n",
    "seattle_listings_urls = list(set(seattle_listings_urls))"
   ]
  },
  {
   "cell_type": "markdown",
   "metadata": {},
   "source": [
    "### Looping through and creating individual entries for jobs"
   ]
  },
  {
   "cell_type": "code",
   "execution_count": 10,
   "metadata": {},
   "outputs": [
    {
     "name": "stdout",
     "output_type": "stream",
     "text": [
      "2580\n",
      "2590\n",
      "2600\n",
      "2610\n",
      "2620\n",
      "2630\n",
      "2640\n",
      "2650\n",
      "2660\n",
      "2670\n",
      "2680\n",
      "2690\n",
      "2700\n",
      "2710\n",
      "2720\n",
      "2730\n",
      "2740\n",
      "2750\n",
      "2760\n",
      "2770\n",
      "2780\n",
      "2790\n",
      "2800\n",
      "2810\n",
      "2820\n",
      "2830\n",
      "2840\n",
      "2850\n",
      "2860\n",
      "2870\n",
      "2880\n",
      "2890\n",
      "2900\n",
      "2910\n",
      "2920\n",
      "2930\n",
      "2940\n",
      "2950\n",
      "2960\n",
      "2970\n",
      "2980\n",
      "2990\n",
      "3000\n",
      "3010\n",
      "3020\n",
      "3030\n",
      "3040\n",
      "3050\n",
      "3060\n",
      "3070\n",
      "3080\n",
      "3090\n",
      "3100\n",
      "3110\n",
      "3120\n",
      "3130\n",
      "3140\n",
      "3150\n",
      "3160\n",
      "3170\n",
      "3180\n",
      "3190\n",
      "3200\n",
      "3210\n",
      "3220\n",
      "3230\n",
      "3240\n",
      "3250\n",
      "3260\n",
      "3270\n",
      "3280\n",
      "3290\n",
      "3300\n",
      "3310\n",
      "3320\n",
      "3330\n",
      "3340\n",
      "3350\n",
      "3360\n",
      "3370\n",
      "3380\n",
      "3390\n",
      "3400\n",
      "3410\n",
      "3420\n",
      "3430\n"
     ]
    }
   ],
   "source": [
    "# i = 0\n",
    "# i = 1120\n",
    "# i = 2190\n",
    "i = 2580\n",
    "\n",
    "for url in seattle_listings_urls[2580:]:\n",
    "    \n",
    "    new_item = {}\n",
    "    \n",
    "    soup = get_soup(url)\n",
    "    job_title, company_name, salary, listed_items, paragraph_items = get_job_info(soup)\n",
    "    time.sleep(np.random.poisson(100)/50)\n",
    "    \n",
    "    new_item['url'] = url\n",
    "    new_item['job_title'] = job_title \n",
    "    new_item['company_name'] = company_name\n",
    "    new_item['salary'] = salary\n",
    "    new_item['listed_items'] = listed_items\n",
    "    new_item['paragraph_items'] = paragraph_items\n",
    "    \n",
    "    time.sleep(np.random.poisson(100)/50)\n",
    "    \n",
    "    db.Seattle_Jobs_Info.insert_one(new_item)\n",
    "    \n",
    "    if i%10 == 0:\n",
    "        print(i)\n",
    "    \n",
    "    i += 1\n"
   ]
  },
  {
   "cell_type": "code",
   "execution_count": null,
   "metadata": {},
   "outputs": [],
   "source": []
  },
  {
   "cell_type": "code",
   "execution_count": null,
   "metadata": {},
   "outputs": [],
   "source": []
  }
 ],
 "metadata": {
  "kernelspec": {
   "display_name": "Python 3",
   "language": "python",
   "name": "python3"
  },
  "language_info": {
   "codemirror_mode": {
    "name": "ipython",
    "version": 3
   },
   "file_extension": ".py",
   "mimetype": "text/x-python",
   "name": "python",
   "nbconvert_exporter": "python",
   "pygments_lexer": "ipython3",
   "version": "3.7.2"
  }
 },
 "nbformat": 4,
 "nbformat_minor": 2
}
