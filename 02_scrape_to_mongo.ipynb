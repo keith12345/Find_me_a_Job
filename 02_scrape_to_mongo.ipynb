{
 "cells": [
  {
   "cell_type": "code",
   "execution_count": 1,
   "metadata": {},
   "outputs": [],
   "source": [
    "import numpy as np\n",
    "\n",
    "import requests\n",
    "from bs4 import BeautifulSoup\n",
    "import pickle\n",
    "\n",
    "from pymongo import MongoClient\n",
    "import time\n",
    "\n",
    "import time\n",
    "import re\n",
    "\n",
    "import os"
   ]
  },
  {
   "cell_type": "code",
   "execution_count": 2,
   "metadata": {},
   "outputs": [],
   "source": [
    "os.chdir('Data')"
   ]
  },
  {
   "cell_type": "code",
   "execution_count": 3,
   "metadata": {},
   "outputs": [],
   "source": [
    "def get_soup(url):\n",
    "    page = requests.get(url)\n",
    "    soup = BeautifulSoup(page.text, 'html.parser')\n",
    "    return soup"
   ]
  },
  {
   "cell_type": "code",
   "execution_count": 3,
   "metadata": {},
   "outputs": [],
   "source": [
    "def get_job_info(soup):\n",
    "    \n",
    "    try:\n",
    "        job_title = soup.find(name='h3', attrs={'class':'icl-u-xs-mb--xs icl-u-xs-mt--none jobsearch-JobInfoHeader-title'}).text\n",
    "    except:\n",
    "        job_title = ''\n",
    "        \n",
    "    try:\n",
    "        company_name = soup.find(name='div', attrs={'class':'icl-u-lg-mr--sm icl-u-xs-mr--xs'}).text\n",
    "    except:\n",
    "        company_name = ''\n",
    "        \n",
    "    try:\n",
    "        salary = soup.find(name='span', attrs={'class':'icl-u-xs-mr--xs'}).text\n",
    "    except:\n",
    "        salary = ''\n",
    "    \n",
    "    try:\n",
    "        job_description_full = soup.find(name='div', attrs={'class':'jobsearch-JobComponent-description icl-u-xs-mt--md'})\n",
    "        \n",
    "        try:\n",
    "            job_description_full = soup.find(name='div', attrs={'class':'jobsearch-JobComponent-description icl-u-xs-mt--md'})\n",
    "            listed_items = []\n",
    "            for list_item in job_description_full.find_all(name='li'):\n",
    "                listed_items.append(list_item.text)\n",
    "            # Adds '. ' because most list items are missing periods\n",
    "            listed_items = '. '.join(listed_items)\n",
    "            listed_items = re.sub('\\n', ' ', listed_items)\n",
    "            # Remove double space\n",
    "            listed_items = re.sub('  ', ' ', listed_items)\n",
    "            # Remove double period if list items had periods\n",
    "            listed_items = re.sub('\\.\\.', '.', listed_items)\n",
    "        except:\n",
    "            listed_items = ''\n",
    "            \n",
    "        # Paragraph Items\n",
    "            \n",
    "        try:\n",
    "            paragraph_items = []\n",
    "            for paragraph_item in job_description_full.find_all(name='p'):\n",
    "                paragraph_items.append(paragraph_item.text)\n",
    "\n",
    "            # removes things like: 'Specifically, the Lisp engineer will:' that prepend listed_items\n",
    "            paragraph_items = [paragraph_item for paragraph_item in paragraph_items if len(paragraph_item) > 50]\n",
    "            # Puts all paragraph items into a single string\n",
    "            paragraph_items = ''.join(paragraph_items)\n",
    "            paragraph_items = re.sub('\\n', ' ', paragraph_items)\n",
    "            \n",
    "            if len(paragraph_items) < 1:\n",
    "                try:\n",
    "                    job_description_full = soup.find(name='div', attrs={'class':'jobsearch-JobComponent-description icl-u-xs-mt--md'})\n",
    "                    paragraph_items = []\n",
    "                    for paragraph_item in job_description_full.find_all(name='div'):\n",
    "                        paragraph_items.append(paragraph_item.text)\n",
    "\n",
    "                    # removes things like: 'Specifically, the Lisp engineer will:'\n",
    "                    paragraph_items = [paragraph_item for paragraph_item in paragraph_items if len(paragraph_item) > 50]\n",
    "                    # Puts all paragraph items into a single string\n",
    "                    paragraph_items = ''.join(paragraph_items)\n",
    "                    paragraph_items = re.sub('\\n', ' ', paragraph_items)\n",
    "                except: \n",
    "                    paragraph_items = ''\n",
    "   \n",
    "        except:\n",
    "            paragraph_items = ''\n",
    "    \n",
    "    except:\n",
    "        listed_items, paragraph_items = ['','']\n",
    "            \n",
    "    return job_title, company_name, salary, listed_items, paragraph_items"
   ]
  },
  {
   "cell_type": "markdown",
   "metadata": {},
   "source": [
    "### Connecting to MongoDB"
   ]
  },
  {
   "cell_type": "code",
   "execution_count": 4,
   "metadata": {},
   "outputs": [],
   "source": [
    "client = MongoClient()"
   ]
  },
  {
   "cell_type": "code",
   "execution_count": 5,
   "metadata": {},
   "outputs": [],
   "source": [
    "db = client.jobs_data"
   ]
  },
  {
   "cell_type": "code",
   "execution_count": 16,
   "metadata": {},
   "outputs": [
    {
     "data": {
      "text/plain": [
       "['Chicago_Jobs',\n",
       " 'Los_Angeles_Jobs',\n",
       " 'SF_Bay_Area_Jobs',\n",
       " 'Seattle_Jobs',\n",
       " 'New_York_Jobs']"
      ]
     },
     "execution_count": 16,
     "metadata": {},
     "output_type": "execute_result"
    }
   ],
   "source": [
    "db.list_collection_names()"
   ]
  },
  {
   "cell_type": "code",
   "execution_count": 33,
   "metadata": {},
   "outputs": [],
   "source": [
    "pickles = ['individual_listings__chicago',\n",
    "           'individual_listings__LosAngeles',\n",
    "#            'individual_listings__NewYork',\n",
    "#            'individual_listings__SanFranciscoBayArea',\n",
    "#            'individual_listings__Seattle'\n",
    "          ]\n",
    "collections = ['Chicago_Jobs',\n",
    "               'Los_Angeles_Jobs',\n",
    "#                'New_York_Jobs',\n",
    "#                'SF_Bay_Area_Jobs',\n",
    "#                'Seattle_Jobs'\n",
    "              ]"
   ]
  },
  {
   "cell_type": "code",
   "execution_count": 36,
   "metadata": {},
   "outputs": [],
   "source": [
    "def scrape_to_mongo(pickles, collections):\n",
    "    \n",
    "    i = 0\n",
    "    \n",
    "    for pickl, collection in zip(pickles, collections):\n",
    "        pickle_in = open(pickl,'rb')\n",
    "        listings_urls = pickle.load(pickle_in)\n",
    "        pickle_in.close()\n",
    "\n",
    "        listings_urls = [item for sublist in listings_urls for item in sublist]\n",
    "        listings_urls = list(set(listings_urls))\n",
    "\n",
    "        for url in listings_urls:\n",
    "\n",
    "            new_item = {}\n",
    "\n",
    "            page = requests.get(url)\n",
    "            soup = BeautifulSoup(page.text, 'html.parser')\n",
    "            job_title, company_name, salary, listed_items, paragraph_items = get_job_info(soup)\n",
    "            time.sleep(np.random.poisson(100)/50)\n",
    "\n",
    "            new_item['url'] = url\n",
    "            new_item['job_title'] = job_title \n",
    "            new_item['company_name'] = company_name\n",
    "            new_item['salary'] = salary\n",
    "            new_item['listed_items'] = listed_items\n",
    "            new_item['paragraph_items'] = paragraph_items\n",
    "\n",
    "            time.sleep(np.random.poisson(100)/50)\n",
    "\n",
    "            eval('db.'+collection+'.insert_one(new_item)')\n",
    "\n",
    "            if i%10 == 0:\n",
    "                print(i)\n",
    "\n",
    "            i += 1\n",
    "            \n",
    "            print(new_item)\n",
    "\n",
    "            del new_item\n",
    "            del soup\n",
    "            del job_title\n",
    "            del company_name\n",
    "            del salary\n",
    "            del listed_items\n",
    "            del paragraph_items\n",
    "        del listings_urls"
   ]
  },
  {
   "cell_type": "code",
   "execution_count": 38,
   "metadata": {},
   "outputs": [
    {
     "data": {
      "text/plain": [
       "<pymongo.results.InsertOneResult at 0x7f9eaaf40f08>"
      ]
     },
     "execution_count": 38,
     "metadata": {},
     "output_type": "execute_result"
    }
   ],
   "source": [
    "db.Chicago_Jobs.insert_one({'test': 'test2'})"
   ]
  },
  {
   "cell_type": "code",
   "execution_count": 22,
   "metadata": {},
   "outputs": [
    {
     "data": {
      "text/plain": [
       "<pymongo.results.InsertOneResult at 0x7f9eaa23bfc8>"
      ]
     },
     "execution_count": 22,
     "metadata": {},
     "output_type": "execute_result"
    }
   ],
   "source": [
    "db.Chicago_Jobs.insert_one({'test': 'test'})"
   ]
  },
  {
   "cell_type": "code",
   "execution_count": 37,
   "metadata": {},
   "outputs": [
    {
     "name": "stdout",
     "output_type": "stream",
     "text": [
      "0\n",
      "{'url': 'https://www.indeed.com/pagead/clk?mo=r&ad=-6NYlbfkN0D2gG673WNVYM892ipXKrjHhau7wRi_VpqZd1WRJWp7_2qHY2UFfJsPgB-MwPwnX2J9FHgaNSwvFqIxt7eAz_WDuYxFy3PjUi6rZN8-RFoKGa4_RFbgOW3d1AJwMGARdsx1qmc9QmoQNA8VbFrjbiSFzxFzXA9mzOzc6KBAPPVOw4GUOfrAqJXmd4mq2X2plUZQGbUCfpwnix-Vz611qhqOIfAie3DLbxNx9QRwQbTYTllVbkie-2IB1e7igf8rtrYsKYI9c3blEsUhq66t1qoooWdp4nNVaMIvRMj51Fgs0XEnTr1d1GTJKS6XJfA5EOXLJxQ_2qFOx3XJA7WrlcqRuSEBNfVD_04M3JySSzeZ7CM0dgcxxE7n2hmB_dMxl7-ZDfMsgmM8jkB7k2b6q0Qrisa5nxJw29Or5jD9znfPHWas-Wjd_Q3Q_vr-bFAxNZ8p6KFkrPtKpA==&p=12&fvj=1&vjs=3', 'job_title': 'Ecommerce Merchandising Analyst', 'company_name': 'U.S Auto Parts Network, Inc', 'salary': '', 'listed_items': \"Conceive, design, and develop product positioning and messaging for new and current products that differentiate our product and our brands in terms of price, quality, target market, and sales channel. Effectively merchandise products within the product category in an effort to influence conversion rate and sales, while balancing with marketing initiatives and brand focus. You will utilize all available data points, which include consumer demand, product inventory, product margin, shipping rates, etc. in an effort to drive profitability for the eCommerce channel. This will include up selling, cross selling, catalog structure management, and creation of product specific landing pages. Develop and oversee the online merchandising and related item strategies to drive sales, conversion rate and overall profitability for the SKUs and Categories. Utilize relevant reporting and analysis to communicate online business trends and SKU level performance. Conduct regular competitive analysis to identify best practices and recommend action steps. Customizes product attribution as necessary to enhance product pages and drive conversion. Analyze weekly selling reports to identify slow/no selling items and determine merchandising decisions to improve performance. Visually and analytically merchandise and sort the website. Implement and optimize navigation based on current product assortment and seasonality. Based on merchant input and competitor analysis, advises Product Management team on improvements to website experience and reports back progress of website developments. Coordinate with Marketing to gain a full understanding of all content (email, social, display, search, digital integrations, etc.) potentially driving traffic back to our own domains. Merchandise landing pages in a manner that supports the various marketing mediums while keeping profitability of the eCommerce channel top of mind. Develop strategic content plans to support the marketing events, as well as the eCommerce channel category structures. 3+ years’ experience with B2C merchandising and marketing in eCommerce. Experience managing over 1M SKUs and 1K Categories a plus. Prior knowledge in Automotive Aftermarket industry a plus. 1 to 2 years’ experience working with search indexing solutions (Endeca, Bloomreach, SLI Systems, Unbxd, etc.). Expert with Microsoft Excel. High integrity and solid personality, Identifies problems and opportunities, determines root causes. Generates new approaches to problems or innovations to established best practices. Detail oriented and highly organized. Bachelor's degree required. working with search indexing solutions: 2 years (Required). B2C Merchandising and marketing in Ecommerce: 3 years (Required). managing over 1M SKUs and 1K Categories: 3 years (Required). Automotibe Aftermarket Industry: 3 years (Preferred). Bachelor's (Required). One location. Paid time off. Health insurance. Dental insurance. Other types of insurance. Education assistance or tuition reimbursement. Others. None specified. Front End Manager. Bi weekly or Twice monthly\", 'paragraph_items': 'In this role, you would be responsible for the day-to-day management, merchandising and revenue growth of our flagship brands: www.carparts.com, www.autopartswarehouse.com, and www.jcwhitney.com with an emphasis on site productivity, sales growth and conversion. A primary focus of this role is the optimization of the online site search and categorization strategy to ensure that the right product is in the right place and at the right time.', '_id': ObjectId('5d16aea8d7b8f7a30ccd2388')}\n",
      "{'url': 'https://www.indeed.com/company/Reading-International/jobs/Financial-Analyst-ca04054a910c92db?fccid=fcef985ee33d2e53&vjs=3', 'job_title': 'Financial Analyst', 'company_name': 'Reading International', 'salary': '', 'listed_items': 'Prepare monthly variance analysis and explanations each month for actuals vs. budget and actuals vs. forecast, identify, analyze and correct information as needed in order to present accurate information. Manage the financial forecast process by running and maintaining forecast models. Provide commentary and visibility into financial performance and key business drivers in order to provide business insights to internal customers and management. Forecast key performance indicators using historical and statistical methods. Develop and publish operating dashboards. Report consolidated financial statements and analysis to the management team. Responsible for coordination, evaluation, and continuous improvement of the budgeting, forecasting and management reporting process. Prepare business review presentations, the annual budget presentation and board support documents for internal and external publication. Manage/support ad-hoc reporting needs as requested from internal and external stakeholders. Identify risks and opportunities to management, recommend strategies to achieve company financial goals. Perform specialized financial and cost analysis, and prepare related reports. Foster permanent improvement of the internal and external reporting framework by performing ongoing analysis of processes and providing recommended solutions for business process issues. Analyze and understand research analyst reports and models and prepare comparisons to the Company’s projections. Assist in preparation of information for SEC filling, earnings release, and earnings calls. Perform comprehensive and in-depth company and industry research including peer benchmarking. Performing other duties as assigned. 2 years of experience in a financial or analytical role is preferred. Background in financial modeling and business analysis with solid analytical and problem solving skills. Bachelor’s degree from a four-year college or university; majors in Business, Accounting, Finance or related field is preferred. Candidates must be comfortable with constantly shifting priorities. Hands-on / Roll up your sleeves approach, working with the team to produce high quality work products. Meet all deadlines/deliverables; we are a fast-paced environment with strict timetables to ensure we complete all assigned work. Strong and meticulous analytics and strategic thinking skills. Proficient in Microsoft Excel, Word and PowerPoint. Knowledge of Yardi software a plus. Ability to interact with department leadership and senior executives in a confident and professional manner.', 'paragraph_items': 'Reading International is growing! We are seeking a full-time experienced and professional Financial Analyst, at our corporate office in Los Angeles, California. This position will play a key role in the organization’s funding strategy and long-term financial security. The Financial Analyst will collaborate with the executive management team to analyze department finances and develop budgets that will keep the company’s costs down. This position reports directly to the Vice President, Financial Planning & Analysis.Reading International Inc. is a leading entertainment and real estate company, engaging in the development, ownership, and operation of multiplex cinemas and retail and commercial real estate in United States, Australia, and New Zealand. We are a public company headquartered in Los Angeles, California with over 2,300 employees worldwide.It is the policy of Reading International Inc. to provide equal employment opportunity (EEO) to all persons regardless of age, color, national origin, citizenship status, physical or mental disability, race, religion, creed, gender, sex, sexual orientation, gender identity and/or expression, genetic information, marital status, status with regard to public assistance, veteran status, or any other characteristic protected by federal, state or local law. In addition, Reading International Inc. will provide reasonable accommodations for qualified individuals with disabilities.', '_id': ObjectId('5d16aeacd7b8f7a30ccd2389')}\n",
      "{'url': 'https://www.indeed.com/pagead/clk?mo=r&ad=-6NYlbfkN0BOSOKQqO55-9rrWQ63H5lfdM4dnZu4d2yOuWhAQH9Ruu4jEENDJT7R4fcbFOgHmtxAcFSXjYQ6677QU6YRU9D4UU10BXL82IGOl0DNrU3VjDDsyfkzYuTJMVhWxD2L-eHInAq1uQiS1u5RAWD_jpV1d7ZIyPNukBlXH8eOkStkaI-Du9Oe_sC-c-miZl61ekZRjODTqXGRdH4dGl8cmztlmL19dEH3VAyXSBiGel_g1_FpzlB-aFQZiL__6lQaBx2kvNcYDk1GvAblmU7vKySub--Az79n3vstbKh6ZoFtebsz567BOYc2BjF1UqrG5cpCfO0yykeIcKSnns7H7j9Xk4TPP03UeXoVtTpioOvF_Ik55suKGH5mIABOdNgd503e9nekAwjx4kstlxchQ_hYO0wlBT6u_9j6JUE6b5FxW4plNMkkiU6c&p=14&fvj=1&vjs=3', 'job_title': 'Data Scientist', 'company_name': '', 'salary': '', 'listed_items': 'Create, update, enhance statistical models via Python and R. Construct time series and machine learning models to forecast business metrics like gross revenue, item sales etc. Partner with analysts and business leads to build dashboards and reports to regularly communicate results and monitor key metrics in PowerBI . Analyze and monitor all data points as related to sales and forecasts for Munchkin; including weekly POS, shipments, orders, current market trends, seasonal trends, new item performance and product version changes. Assist in the development of new data-driven business processes and systems that will drive forecast accuracy, adding value to all downstream commercial and supply chain processes. Liaise with Inventory Planning, Sales, and Marketing. Utilize key Retailer Vendor Managed Systems for data analysis and reporting. Devise, generate, and maintain standard and exception reports as required for data validation, forecasting analysis, and meetings. Deliver training and provide Demand Planning systems support as required for the Sales, Marketing, and Supply Chain teams. Other duties may be assigned. An outgoing and enthusiastic personality. Detail oriented, organized and strong on follow through. Ability to work in a team-oriented and very fast paced environment with little supervision. Desire to advance and gain increased responsibility. A problem solver who is comfortable taking initiative. Masters degree in a related quantitative field (Data Science, Computer Science, Statistics, Business Analytics, etc) preferred. Expert experience with data querying languages (SQL), scripting languages (Python). Experience in Microsoft Office, Excel and the aptitude to learn various Retailer Vendor Managed Systems (Amazon Vendor Central, Content Analytics, IRI) and forecasting software (Galt). Proficient level of supply chain understanding and CPFR activities such as forecasting, inventory control, etc.', 'paragraph_items': 'The Data Scientist works within the Demand Planning function to develop predictive analytics and statistical forecasting models utilizing forecasting related systems to improve forecast accuracy and bias reduction. As a Data Scientist, you will have direct responsibility of creating statistical models that drive forecasts on a Customer/SKU level. The candidate must have strong technical abilities in Python, R, SQL, as well as a collaborative mindset to work with Sales, Marketing, Finance and Operations to obtain qualitative inputs for the statistical model.', '_id': ObjectId('5d16aeb1d7b8f7a30ccd238a')}\n",
      "{'url': 'https://www.indeed.com/pagead/clk?mo=r&ad=-6NYlbfkN0BCdNI_FJjlMFYz3b45-OYr8D0rw9t4m3m-4WuOcSOVB1O9RPtOLpnYKtnvzBDRv_a1-2-GcWxhi2-K4ArJm_uGBgfzRHbVrBYMlSRx7PIUSIpLCtuCrNnb5R9g_cTKscIA8gHR6Ox4rgZU6P6c-ED2MZkvZdI7KV3TAcWxybF0w-LZSkSbKmm-lw3R8tLkiBSqTZ5cpW-yVKBpBXKzWCQckYWes_nxDbxF-0TAa03vS49dp6VoAXBwLczyvz1WoEadhHLfujGe2FzPVqGs8JL_lBD4X4qVK_WGldeA0963oST9ofszVoPRhZKhJ5idt0Bd0CCVWRfDcFdfhVzLEL1Z9kc7hSMsKWnHUtBtVJomwJg5n6cL46hTdvLDgFtjpeBAcnbb0Yn5Vh1dzVDKpGC8FR11lNJZ2VQrZNcIIb284_FZtj4jJ-kU7A4JdsScwRtDfdw0Yo6jxNgJm2YMJJ5zVyiwrCm9FR9hkcny-Ume1hYkCcXmkEipCbQxkxnGiovnO0HMgmx2ySYgDkih21IsKmctpSGhz-qWXQm1pkGpG3RRKmBhNa0fPd3QuexV-3SwOSfz_sJ3I0PiZ2PMSairbqV6G7UP2_MfPSVVFwQ9tg==&p=2&fvj=0&vjs=3', 'job_title': 'Senior Machine Learning Engineer (Relocate to Boulder, Colorado)', 'company_name': 'Pearson', 'salary': '', 'listed_items': '', 'paragraph_items': \"**Description**  At Pearson, we’re committed to a world that’s always learning and to our talented team who makes it all possible. From bringing lectures vividly to life to turning textbooks into laptop lessons, we are always re-examining the way people learn best, whether it’s one child in our own backyard or an education community across the globe. We are bold thinkers and standout innovators who motivate each other to explore new frontiers in an environment that supports and inspires us to always be better. By pushing the boundaries of technology — and each other to surpass these boundaries — we create seeds of learning that become the catalyst for the world’s innovations, personal and global, large and small.  **Senior Machine Learning Engineer in Boulder, Colorado**  We have an excellent opportunity on our automated scoring team for a versatile, experienced **Senior Machine Learning Engineer** who thrives in a collaborative, problem solving and solution delivery environment. Working closely with a small team of experts,you will have a unique opportunity to play a leading role in migrating machine learning based solutions from R&D to product-level operational delivery.  The team at Pearson offers a unique environment for extremely skilled and motivated thinkers. Our culture is highly charged with people who are passionate about a cause, using technology to enhance students’ educational experiences.  Boulder, Colorado has been named as the happiest place in the U.S. and it's no surprise with its year-round outdoor activities, a surfeit of sunny days, a laid-back lifestyle, natural beauty that's always within view, ultra-fresh dining and natural foods scenes, the influence of the University of Colorado Boulder, a highly active culture, and enough craft beer to put a smile on anyone's face.  Relocation assistance is available.  Learn more about what we do here: http://www.pearsonlearningnews.com/automated-scoring-5-things-to-know-and-a-history-lesson/  **Responsibilities: **  Working in a small-team, you will create and deliver commercial software services that automatically evaluate student writing. Primary responsibility is to create, test, and maintain machine-learning based services used in a variety of assessment and learning situations from K-20 and beyond.  What we’re looking for: + A programming expert with a passion for machine learning and operational delivery  What you'll do: + Use machine learning techniques to develop scalable solutions for scoring written responses to essay and short answer questions  + Establish scalable, efficient, automated processes to develop, validate, implement, and monitor machine learning models  + Work with other software and data engineers to produce high quality production code.  **Qualifications**  What would make you a good fit: + Strong coding & analytics skills including proficiency in python and Linux  + Expert grasp of Computer Science/Engineering including data structures, data modeling, algorithms, distributed systems and software design.  + Proficiency at querying SQL and NoSQL databases and ability to build and maintain processes to retrieve and integrate data from various sources.  + Experience with Web Application Development including HTTP, REST, DevOps.  + Experience with Cloud Development (e.g. Amazon EC2, Docker, Kubernetes)  + Track record of producing machine learning models and production infrastructure at scale  + Strong verbal and written communication skills including the ability to interact effectively with colleagues of varying technical and non-technical abilities  + Passionate about agile software processes, data-driven development, reliability, and systematic experimentation  + Masters degree or higher preferred  #LI-JDM  Pearson is an Equal Opportunity and Affirmative Action Employer and a member of E-Verify. All qualified applicants, including minorities, women, protected veterans, and individuals with disabilities are encouraged to apply.  **Primary Location: ** US-CO-Boulder  **Other Locations** US-CA-Los Angeles, US-CA-San Francisco, GB-GB-Boston, US-NC-Raleigh, US-WA-Seattle, US-NY-New York  **Work Locations: ** US-CO-Boulder-4940 Pearl East 4940 Pearl East Circle Suite 200/201/204 Boulder 80301  **Job: ** Technology  **Organization: ** Assessments School  **Employee Status: ** Regular Employee  **Job Type: ** Standard  **Shift: ** Day Job  **Job Posting: ** Nov 16, 2018  **Job Unposting: ** Ongoing  **Schedule: ** Full-time Regular  **Req ID: ** 1815009  Pearson is an Equal Opportunity and Affirmative Action Employer and a member of E-Verify. All qualified applicants, including minorities, women, protected veterans, and individuals with disabilities are encouraged to apply.\", '_id': ObjectId('5d16aeb5d7b8f7a30ccd238b')}\n"
     ]
    },
    {
     "ename": "KeyboardInterrupt",
     "evalue": "",
     "output_type": "error",
     "traceback": [
      "\u001b[0;31m---------------------------------------------------------------------------\u001b[0m",
      "\u001b[0;31mKeyboardInterrupt\u001b[0m                         Traceback (most recent call last)",
      "\u001b[0;32m<ipython-input-37-7e259bf4a7d7>\u001b[0m in \u001b[0;36m<module>\u001b[0;34m\u001b[0m\n\u001b[0;32m----> 1\u001b[0;31m \u001b[0mscrape_to_mongo\u001b[0m\u001b[0;34m(\u001b[0m\u001b[0mpickles\u001b[0m\u001b[0;34m,\u001b[0m \u001b[0mcollections\u001b[0m\u001b[0;34m)\u001b[0m\u001b[0;34m\u001b[0m\u001b[0;34m\u001b[0m\u001b[0m\n\u001b[0m",
      "\u001b[0;32m<ipython-input-36-23bcd0533ba8>\u001b[0m in \u001b[0;36mscrape_to_mongo\u001b[0;34m(pickles, collections)\u001b[0m\n\u001b[1;32m     18\u001b[0m             \u001b[0msoup\u001b[0m \u001b[0;34m=\u001b[0m \u001b[0mBeautifulSoup\u001b[0m\u001b[0;34m(\u001b[0m\u001b[0mpage\u001b[0m\u001b[0;34m.\u001b[0m\u001b[0mtext\u001b[0m\u001b[0;34m,\u001b[0m \u001b[0;34m'html.parser'\u001b[0m\u001b[0;34m)\u001b[0m\u001b[0;34m\u001b[0m\u001b[0;34m\u001b[0m\u001b[0m\n\u001b[1;32m     19\u001b[0m             \u001b[0mjob_title\u001b[0m\u001b[0;34m,\u001b[0m \u001b[0mcompany_name\u001b[0m\u001b[0;34m,\u001b[0m \u001b[0msalary\u001b[0m\u001b[0;34m,\u001b[0m \u001b[0mlisted_items\u001b[0m\u001b[0;34m,\u001b[0m \u001b[0mparagraph_items\u001b[0m \u001b[0;34m=\u001b[0m \u001b[0mget_job_info\u001b[0m\u001b[0;34m(\u001b[0m\u001b[0msoup\u001b[0m\u001b[0;34m)\u001b[0m\u001b[0;34m\u001b[0m\u001b[0;34m\u001b[0m\u001b[0m\n\u001b[0;32m---> 20\u001b[0;31m             \u001b[0mtime\u001b[0m\u001b[0;34m.\u001b[0m\u001b[0msleep\u001b[0m\u001b[0;34m(\u001b[0m\u001b[0mnp\u001b[0m\u001b[0;34m.\u001b[0m\u001b[0mrandom\u001b[0m\u001b[0;34m.\u001b[0m\u001b[0mpoisson\u001b[0m\u001b[0;34m(\u001b[0m\u001b[0;36m100\u001b[0m\u001b[0;34m)\u001b[0m\u001b[0;34m/\u001b[0m\u001b[0;36m50\u001b[0m\u001b[0;34m)\u001b[0m\u001b[0;34m\u001b[0m\u001b[0;34m\u001b[0m\u001b[0m\n\u001b[0m\u001b[1;32m     21\u001b[0m \u001b[0;34m\u001b[0m\u001b[0m\n\u001b[1;32m     22\u001b[0m             \u001b[0mnew_item\u001b[0m\u001b[0;34m[\u001b[0m\u001b[0;34m'url'\u001b[0m\u001b[0;34m]\u001b[0m \u001b[0;34m=\u001b[0m \u001b[0murl\u001b[0m\u001b[0;34m\u001b[0m\u001b[0;34m\u001b[0m\u001b[0m\n",
      "\u001b[0;31mKeyboardInterrupt\u001b[0m: "
     ]
    }
   ],
   "source": [
    "scrape_to_mongo(pickles, collections)"
   ]
  },
  {
   "cell_type": "code",
   "execution_count": 19,
   "metadata": {},
   "outputs": [
    {
     "data": {
      "text/plain": [
       "<pymongo.cursor.Cursor at 0x7f9eaa3c3780>"
      ]
     },
     "execution_count": 19,
     "metadata": {},
     "output_type": "execute_result"
    }
   ],
   "source": [
    "db.Chicago_Jobs.find()"
   ]
  },
  {
   "cell_type": "code",
   "execution_count": null,
   "metadata": {},
   "outputs": [],
   "source": [
    "pickles = ['individual_listings__chicago',\n",
    "           'individual_listings__LosAngeles',\n",
    "#            'individual_listings__NewYork',\n",
    "#            'individual_listings__SanFranciscoBayArea',\n",
    "#            'individual_listings__Seattle'\n",
    "          ]\n",
    "collections = ['Chicago_Jobs',\n",
    "               'Los_Angeles_Jobs',\n",
    "#                'New_York_Jobs',\n",
    "#                'SF_Bay_Area_Jobs',\n",
    "#                'Seattle_Jobs'\n",
    "              ]"
   ]
  },
  {
   "cell_type": "code",
   "execution_count": 47,
   "metadata": {},
   "outputs": [
    {
     "name": "stdout",
     "output_type": "stream",
     "text": [
      "0\n",
      "{'url': 'https://www.indeed.com/pagead/clk?mo=r&ad=-6NYlbfkN0D2gG673WNVYM892ipXKrjHhau7wRi_VpqZd1WRJWp7_2qHY2UFfJsPgB-MwPwnX2J9FHgaNSwvFqIxt7eAz_WDuYxFy3PjUi6rZN8-RFoKGa4_RFbgOW3d1AJwMGARdsx1qmc9QmoQNA8VbFrjbiSFzxFzXA9mzOzc6KBAPPVOw4GUOfrAqJXmd4mq2X2plUZQGbUCfpwnix-Vz611qhqOIfAie3DLbxNx9QRwQbTYTllVbkie-2IB1e7igf8rtrYsKYI9c3blEsUhq66t1qoooWdp4nNVaMIvRMj51Fgs0XEnTr1d1GTJKS6XJfA5EOXLJxQ_2qFOx3XJA7WrlcqRuSEBNfVD_04M3JySSzeZ7CM0dgcxxE7n2hmB_dMxl7-ZDfMsgmM8jkB7k2b6q0Qrisa5nxJw29Or5jD9znfPHWas-Wjd_Q3Q_vr-bFAxNZ8p6KFkrPtKpA==&p=12&fvj=1&vjs=3', 'job_title': 'Ecommerce Merchandising Analyst', 'company_name': 'U.S Auto Parts Network, Inc', 'salary': '', 'listed_items': \"Conceive, design, and develop product positioning and messaging for new and current products that differentiate our product and our brands in terms of price, quality, target market, and sales channel. Effectively merchandise products within the product category in an effort to influence conversion rate and sales, while balancing with marketing initiatives and brand focus. You will utilize all available data points, which include consumer demand, product inventory, product margin, shipping rates, etc. in an effort to drive profitability for the eCommerce channel. This will include up selling, cross selling, catalog structure management, and creation of product specific landing pages. Develop and oversee the online merchandising and related item strategies to drive sales, conversion rate and overall profitability for the SKUs and Categories. Utilize relevant reporting and analysis to communicate online business trends and SKU level performance. Conduct regular competitive analysis to identify best practices and recommend action steps. Customizes product attribution as necessary to enhance product pages and drive conversion. Analyze weekly selling reports to identify slow/no selling items and determine merchandising decisions to improve performance. Visually and analytically merchandise and sort the website. Implement and optimize navigation based on current product assortment and seasonality. Based on merchant input and competitor analysis, advises Product Management team on improvements to website experience and reports back progress of website developments. Coordinate with Marketing to gain a full understanding of all content (email, social, display, search, digital integrations, etc.) potentially driving traffic back to our own domains. Merchandise landing pages in a manner that supports the various marketing mediums while keeping profitability of the eCommerce channel top of mind. Develop strategic content plans to support the marketing events, as well as the eCommerce channel category structures. 3+ years’ experience with B2C merchandising and marketing in eCommerce. Experience managing over 1M SKUs and 1K Categories a plus. Prior knowledge in Automotive Aftermarket industry a plus. 1 to 2 years’ experience working with search indexing solutions (Endeca, Bloomreach, SLI Systems, Unbxd, etc.). Expert with Microsoft Excel. High integrity and solid personality, Identifies problems and opportunities, determines root causes. Generates new approaches to problems or innovations to established best practices. Detail oriented and highly organized. Bachelor's degree required. working with search indexing solutions: 2 years (Required). B2C Merchandising and marketing in Ecommerce: 3 years (Required). managing over 1M SKUs and 1K Categories: 3 years (Required). Automotibe Aftermarket Industry: 3 years (Preferred). Bachelor's (Required). One location. Paid time off. Health insurance. Dental insurance. Other types of insurance. Education assistance or tuition reimbursement. Others. None specified. Front End Manager. Bi weekly or Twice monthly\", 'paragraph_items': 'In this role, you would be responsible for the day-to-day management, merchandising and revenue growth of our flagship brands: www.carparts.com, www.autopartswarehouse.com, and www.jcwhitney.com with an emphasis on site productivity, sales growth and conversion. A primary focus of this role is the optimization of the online site search and categorization strategy to ensure that the right product is in the right place and at the right time.', '_id': ObjectId('5d16b099d7b8f7a30ccd238d')}\n",
      "{'url': 'https://www.indeed.com/company/Reading-International/jobs/Financial-Analyst-ca04054a910c92db?fccid=fcef985ee33d2e53&vjs=3', 'job_title': 'Financial Analyst', 'company_name': 'Reading International', 'salary': '', 'listed_items': 'Prepare monthly variance analysis and explanations each month for actuals vs. budget and actuals vs. forecast, identify, analyze and correct information as needed in order to present accurate information. Manage the financial forecast process by running and maintaining forecast models. Provide commentary and visibility into financial performance and key business drivers in order to provide business insights to internal customers and management. Forecast key performance indicators using historical and statistical methods. Develop and publish operating dashboards. Report consolidated financial statements and analysis to the management team. Responsible for coordination, evaluation, and continuous improvement of the budgeting, forecasting and management reporting process. Prepare business review presentations, the annual budget presentation and board support documents for internal and external publication. Manage/support ad-hoc reporting needs as requested from internal and external stakeholders. Identify risks and opportunities to management, recommend strategies to achieve company financial goals. Perform specialized financial and cost analysis, and prepare related reports. Foster permanent improvement of the internal and external reporting framework by performing ongoing analysis of processes and providing recommended solutions for business process issues. Analyze and understand research analyst reports and models and prepare comparisons to the Company’s projections. Assist in preparation of information for SEC filling, earnings release, and earnings calls. Perform comprehensive and in-depth company and industry research including peer benchmarking. Performing other duties as assigned. 2 years of experience in a financial or analytical role is preferred. Background in financial modeling and business analysis with solid analytical and problem solving skills. Bachelor’s degree from a four-year college or university; majors in Business, Accounting, Finance or related field is preferred. Candidates must be comfortable with constantly shifting priorities. Hands-on / Roll up your sleeves approach, working with the team to produce high quality work products. Meet all deadlines/deliverables; we are a fast-paced environment with strict timetables to ensure we complete all assigned work. Strong and meticulous analytics and strategic thinking skills. Proficient in Microsoft Excel, Word and PowerPoint. Knowledge of Yardi software a plus. Ability to interact with department leadership and senior executives in a confident and professional manner.', 'paragraph_items': 'Reading International is growing! We are seeking a full-time experienced and professional Financial Analyst, at our corporate office in Los Angeles, California. This position will play a key role in the organization’s funding strategy and long-term financial security. The Financial Analyst will collaborate with the executive management team to analyze department finances and develop budgets that will keep the company’s costs down. This position reports directly to the Vice President, Financial Planning & Analysis.Reading International Inc. is a leading entertainment and real estate company, engaging in the development, ownership, and operation of multiplex cinemas and retail and commercial real estate in United States, Australia, and New Zealand. We are a public company headquartered in Los Angeles, California with over 2,300 employees worldwide.It is the policy of Reading International Inc. to provide equal employment opportunity (EEO) to all persons regardless of age, color, national origin, citizenship status, physical or mental disability, race, religion, creed, gender, sex, sexual orientation, gender identity and/or expression, genetic information, marital status, status with regard to public assistance, veteran status, or any other characteristic protected by federal, state or local law. In addition, Reading International Inc. will provide reasonable accommodations for qualified individuals with disabilities.', '_id': ObjectId('5d16b09dd7b8f7a30ccd238e')}\n",
      "{'url': 'https://www.indeed.com/pagead/clk?mo=r&ad=-6NYlbfkN0BOSOKQqO55-9rrWQ63H5lfdM4dnZu4d2yOuWhAQH9Ruu4jEENDJT7R4fcbFOgHmtxAcFSXjYQ6677QU6YRU9D4UU10BXL82IGOl0DNrU3VjDDsyfkzYuTJMVhWxD2L-eHInAq1uQiS1u5RAWD_jpV1d7ZIyPNukBlXH8eOkStkaI-Du9Oe_sC-c-miZl61ekZRjODTqXGRdH4dGl8cmztlmL19dEH3VAyXSBiGel_g1_FpzlB-aFQZiL__6lQaBx2kvNcYDk1GvAblmU7vKySub--Az79n3vstbKh6ZoFtebsz567BOYc2BjF1UqrG5cpCfO0yykeIcKSnns7H7j9Xk4TPP03UeXoVtTpioOvF_Ik55suKGH5mIABOdNgd503e9nekAwjx4kstlxchQ_hYO0wlBT6u_9j6JUE6b5FxW4plNMkkiU6c&p=14&fvj=1&vjs=3', 'job_title': 'Data Scientist', 'company_name': 'Munchkin Inc.', 'salary': '', 'listed_items': 'Create, update, enhance statistical models via Python and R. Construct time series and machine learning models to forecast business metrics like gross revenue, item sales etc. Partner with analysts and business leads to build dashboards and reports to regularly communicate results and monitor key metrics in PowerBI . Analyze and monitor all data points as related to sales and forecasts for Munchkin; including weekly POS, shipments, orders, current market trends, seasonal trends, new item performance and product version changes. Assist in the development of new data-driven business processes and systems that will drive forecast accuracy, adding value to all downstream commercial and supply chain processes. Liaise with Inventory Planning, Sales, and Marketing. Utilize key Retailer Vendor Managed Systems for data analysis and reporting. Devise, generate, and maintain standard and exception reports as required for data validation, forecasting analysis, and meetings. Deliver training and provide Demand Planning systems support as required for the Sales, Marketing, and Supply Chain teams. Other duties may be assigned. An outgoing and enthusiastic personality. Detail oriented, organized and strong on follow through. Ability to work in a team-oriented and very fast paced environment with little supervision. Desire to advance and gain increased responsibility. A problem solver who is comfortable taking initiative. Masters degree in a related quantitative field (Data Science, Computer Science, Statistics, Business Analytics, etc) preferred. Expert experience with data querying languages (SQL), scripting languages (Python). Experience in Microsoft Office, Excel and the aptitude to learn various Retailer Vendor Managed Systems (Amazon Vendor Central, Content Analytics, IRI) and forecasting software (Galt). Proficient level of supply chain understanding and CPFR activities such as forecasting, inventory control, etc.', 'paragraph_items': 'The Data Scientist works within the Demand Planning function to develop predictive analytics and statistical forecasting models utilizing forecasting related systems to improve forecast accuracy and bias reduction. As a Data Scientist, you will have direct responsibility of creating statistical models that drive forecasts on a Customer/SKU level. The candidate must have strong technical abilities in Python, R, SQL, as well as a collaborative mindset to work with Sales, Marketing, Finance and Operations to obtain qualitative inputs for the statistical model.', '_id': ObjectId('5d16b0a1d7b8f7a30ccd238f')}\n",
      "{'url': 'https://www.indeed.com/pagead/clk?mo=r&ad=-6NYlbfkN0BCdNI_FJjlMFYz3b45-OYr8D0rw9t4m3m-4WuOcSOVB1O9RPtOLpnYKtnvzBDRv_a1-2-GcWxhi2-K4ArJm_uGBgfzRHbVrBYMlSRx7PIUSIpLCtuCrNnb5R9g_cTKscIA8gHR6Ox4rgZU6P6c-ED2MZkvZdI7KV3TAcWxybF0w-LZSkSbKmm-lw3R8tLkiBSqTZ5cpW-yVKBpBXKzWCQckYWes_nxDbxF-0TAa03vS49dp6VoAXBwLczyvz1WoEadhHLfujGe2FzPVqGs8JL_lBD4X4qVK_WGldeA0963oST9ofszVoPRhZKhJ5idt0Bd0CCVWRfDcFdfhVzLEL1Z9kc7hSMsKWnHUtBtVJomwJg5n6cL46hTdvLDgFtjpeBAcnbb0Yn5Vh1dzVDKpGC8FR11lNJZ2VQrZNcIIb284_FZtj4jJ-kU7A4JdsScwRtDfdw0Yo6jxNgJm2YMJJ5zVyiwrCm9FR9hkcny-Ume1hYkCcXmkEipCbQxkxnGiovnO0HMgmx2ySYgDkih21IsKmctpSGhz-qWXQm1pkGpG3RRKmBhNa0fPd3QuexV-3SwOSfz_sJ3I0PiZ2PMSairbqV6G7UP2_MfPSVVFwQ9tg==&p=2&fvj=0&vjs=3', 'job_title': 'Senior Machine Learning Engineer (Relocate to Boulder, Colorado)', 'company_name': '', 'salary': '', 'listed_items': '', 'paragraph_items': \"**Description**  At Pearson, we’re committed to a world that’s always learning and to our talented team who makes it all possible. From bringing lectures vividly to life to turning textbooks into laptop lessons, we are always re-examining the way people learn best, whether it’s one child in our own backyard or an education community across the globe. We are bold thinkers and standout innovators who motivate each other to explore new frontiers in an environment that supports and inspires us to always be better. By pushing the boundaries of technology — and each other to surpass these boundaries — we create seeds of learning that become the catalyst for the world’s innovations, personal and global, large and small.  **Senior Machine Learning Engineer in Boulder, Colorado**  We have an excellent opportunity on our automated scoring team for a versatile, experienced **Senior Machine Learning Engineer** who thrives in a collaborative, problem solving and solution delivery environment. Working closely with a small team of experts,you will have a unique opportunity to play a leading role in migrating machine learning based solutions from R&D to product-level operational delivery.  The team at Pearson offers a unique environment for extremely skilled and motivated thinkers. Our culture is highly charged with people who are passionate about a cause, using technology to enhance students’ educational experiences.  Boulder, Colorado has been named as the happiest place in the U.S. and it's no surprise with its year-round outdoor activities, a surfeit of sunny days, a laid-back lifestyle, natural beauty that's always within view, ultra-fresh dining and natural foods scenes, the influence of the University of Colorado Boulder, a highly active culture, and enough craft beer to put a smile on anyone's face.  Relocation assistance is available.  Learn more about what we do here: http://www.pearsonlearningnews.com/automated-scoring-5-things-to-know-and-a-history-lesson/  **Responsibilities: **  Working in a small-team, you will create and deliver commercial software services that automatically evaluate student writing. Primary responsibility is to create, test, and maintain machine-learning based services used in a variety of assessment and learning situations from K-20 and beyond.  What we’re looking for: + A programming expert with a passion for machine learning and operational delivery  What you'll do: + Use machine learning techniques to develop scalable solutions for scoring written responses to essay and short answer questions  + Establish scalable, efficient, automated processes to develop, validate, implement, and monitor machine learning models  + Work with other software and data engineers to produce high quality production code.  **Qualifications**  What would make you a good fit: + Strong coding & analytics skills including proficiency in python and Linux  + Expert grasp of Computer Science/Engineering including data structures, data modeling, algorithms, distributed systems and software design.  + Proficiency at querying SQL and NoSQL databases and ability to build and maintain processes to retrieve and integrate data from various sources.  + Experience with Web Application Development including HTTP, REST, DevOps.  + Experience with Cloud Development (e.g. Amazon EC2, Docker, Kubernetes)  + Track record of producing machine learning models and production infrastructure at scale  + Strong verbal and written communication skills including the ability to interact effectively with colleagues of varying technical and non-technical abilities  + Passionate about agile software processes, data-driven development, reliability, and systematic experimentation  + Masters degree or higher preferred  #LI-JDM  Pearson is an Equal Opportunity and Affirmative Action Employer and a member of E-Verify. All qualified applicants, including minorities, women, protected veterans, and individuals with disabilities are encouraged to apply.  **Primary Location: ** US-CO-Boulder  **Other Locations** US-CA-Los Angeles, US-CA-San Francisco, GB-GB-Boston, US-NC-Raleigh, US-WA-Seattle, US-NY-New York  **Work Locations: ** US-CO-Boulder-4940 Pearl East 4940 Pearl East Circle Suite 200/201/204 Boulder 80301  **Job: ** Technology  **Organization: ** Assessments School  **Employee Status: ** Regular Employee  **Job Type: ** Standard  **Shift: ** Day Job  **Job Posting: ** Nov 16, 2018  **Job Unposting: ** Ongoing  **Schedule: ** Full-time Regular  **Req ID: ** 1815009  Pearson is an Equal Opportunity and Affirmative Action Employer and a member of E-Verify. All qualified applicants, including minorities, women, protected veterans, and individuals with disabilities are encouraged to apply.\", '_id': ObjectId('5d16b0a6d7b8f7a30ccd2390')}\n",
      "{'url': 'https://www.indeed.com/rc/clk?jk=dd4ac54d588a08cf&fccid=779381286967ed9f&vjs=3', 'job_title': 'Sr. Web App Engineer - The Walt Disney Studios', 'company_name': 'The Walt Disney Studios', 'salary': '', 'listed_items': 'Define, architect and build high-quality software solutions. Collaborate with other software engineers and cross-functional teams. Evangelize technologies, solutions, and best practices . Contribute new ideas to a larger community of high-caliber professionals. Balance resources, requirements, and complexity. BS in Computer Science or related field with 5+ years of experience. Very passionate about coding (If you have a Github profile, that’s awesome! Would love to check it out! Otherwise we will ask you to code before or during the interview). Very passionate about OO design and aware of the different layers that exist in a system (we will ask you to design a system during the interview). Capable of leveraging basic Data structures and algorithms to solve problems (i.e. Knows basic CS fundamentals, nothing crazy, just enough to make good decisions). A master of: JavaScript (coffeescript, typescript, es6) HTML CSS (LESS/SASS/Stylus). JavaScript (coffeescript, typescript, es6). HTML. CSS (LESS/SASS/Stylus). Able to demonstrate working knowledge in the following things (that one usually uses when creating large scale apps): Object oriented JavaScript CSS methodologies Responsive design and SPA development Security and performance of web applications Cross browser development Front end MVC frameworks such as AngularJS or React Unit testing using Karma and Jasmine, or equivalent. Object oriented JavaScript. CSS methodologies. Responsive design and SPA development. Security and performance of web applications. Cross browser development. Front end MVC frameworks such as AngularJS or React. Unit testing using Karma and Jasmine, or equivalent', 'paragraph_items': 'The Walt Disney Studios is comprised of large team of creative professionals who produce and acquire live-action and animated motion pictures, direct-to-video content, musical recordings and live stage plays that tell memorable, life changing stories. Few media and entertainment companies can rival the brands we have the honor of bringing to the world.  As part of the Studio’s Technology team you’ll be joining a group of seasoned, dedicated technologists solving a range of interesting problems in innovative ways in an exciting and dynamic industry.  We are looking for a self-starting engineer who wants to shape the next generation of video consumption applications on the Web. We’re a casual shop that values passion, community involvement and code that stands out. If you are interested, we’d love to hear from yo  Responsibilities : You will: Define, architect and build high-quality software solutions Collaborate with other software engineers and cross-functional teams Evangelize technologies, solutions, and best practices Contribute new ideas to a larger community of high-caliber professionals Balance resources, requirements, and complexity  Basic Qualifications : At a minimum we’re looking for the following in a candidate: BS in Computer Science or related field with 5+ years of experience Very passionate about coding (If you have a Github profile, that’s awesome! Would love to check it out! Otherwise we will ask you to code before or during the interview). Very passionate about OO design and aware of the different layers that exist in a system (we will ask you to design a system during the interview). Capable of leveraging basic Data structures and algorithms to solve problems (i.e. Knows basic CS fundamentals, nothing crazy, just enough to make good decisions). A master of: JavaScript (coffeescript, typescript, es6) HTML CSS (LESS/SASS/Stylus) Able to demonstrate working knowledge in the following things (that one usually uses when creating large scale apps): Object oriented JavaScript CSS methodologies Responsive design and SPA development Security and performance of web applications Cross browser development Front end MVC frameworks such as AngularJS or React Unit testing using Karma and Jasmine, or equivalentThe Walt Disney Studios is comprised of large team of creative professionals who produce and acquire live-action and animated motion pictures, direct-to-video content, musical recordings and live stage plays that tell memorable, life changing stories. Few media and entertainment companies can rival the brands we have the honor of bringing to the world.  As part of the Studio’s Technology team you’ll be joining a group of seasoned, dedicated technologists solving a range of interesting problems in innovative ways in an exciting and dynamic industry.  We are looking for a self-starting engineer who wants to shape the next generation of video consumption applications on the Web. We’re a casual shop that values passion, community involvement and code that stands out. If you are interested, we’d love to hear from yo  Responsibilities : You will: Define, architect and build high-quality software solutions Collaborate with other software engineers and cross-functional teams Evangelize technologies, solutions, and best practices Contribute new ideas to a larger community of high-caliber professionals Balance resources, requirements, and complexity  Basic Qualifications : At a minimum we’re looking for the following in a candidate: BS in Computer Science or related field with 5+ years of experience Very passionate about coding (If you have a Github profile, that’s awesome! Would love to check it out! Otherwise we will ask you to code before or during the interview). Very passionate about OO design and aware of the different layers that exist in a system (we will ask you to design a system during the interview). Capable of leveraging basic Data structures and algorithms to solve problems (i.e. Knows basic CS fundamentals, nothing crazy, just enough to make good decisions). A master of: JavaScript (coffeescript, typescript, es6) HTML CSS (LESS/SASS/Stylus) Able to demonstrate working knowledge in the following things (that one usually uses when creating large scale apps): Object oriented JavaScript CSS methodologies Responsive design and SPA development Security and performance of web applications Cross browser development Front end MVC frameworks such as AngularJS or React Unit testing using Karma and Jasmine, or equivalent', '_id': ObjectId('5d16b0aad7b8f7a30ccd2391')}\n",
      "{'url': 'https://www.indeed.com/pagead/clk?mo=r&ad=-6NYlbfkN0B3DslFKMNUluqKc1Wh2wUADIwflRxR_qiwbt9w8aG4zs4Uawu7L0o4O-dtQ-WrD7xsr57QmjwIclxoieHJcjgASQmbm1OpqbAF4EuzHizdzgqB5XH8UGaZ2xHyB0AyydRBNLHFkyarlYLI1A-XMYm5E3Exi7Su-e6Dfs_9h83r00Ik45CstHBOfs4PtLvnzxiqDIoXqM5ezxrU3rjQHRCvik0GP4i4ryOeuhildfa_M5tqUN9EBPl2zHONJ4sPg7JWq9jFLCRk02QzJ9uP58X5vtLLPTFTEFd6wIpXf_iUywMmi82e_mceKgXOBXY2728F6S3kVlzZsgimG7eLdCX1b_6VKEv-tDmMkjce-YXBWMxKNLhM0KikUniO58kff9QDlo1UnAdZ2qyJxPmkCgjoXs9YBMY5kVGRPhZyK9bhw-a2eQPsDKfHx4l_hSYMDTNJZpYYSeotwHgtZcyRz7Kww6TniCkaDo4=&p=16&fvj=1&vjs=3', 'job_title': 'Paid Internship** Industrial Engineer Temp', 'company_name': 'Houdini Inc. /Wine Country Gift Baskets', 'salary': '$16 an hour', 'listed_items': 'Conduct time/motion studies as required to support productivity requirements. These may facilitate the creation of labor standards.*. Assist the production teams in line balancing. This involves an understanding of how to balance work tasks, observation, identification of bottleneck and specific steps taken to resolve.**. Troubleshoot production processes and provide solutions for process improvement.**. Interface with other manufacturing departments to address and resolve engineering issues.**. Assist in improving work systems within the manufacturing facility.*. Introduce Lean Manufacturing concepts and practices. Ownership and maintenance of Time Motion Studies Database. Report on line staffing compliance. Create/update L*ine S*taffing. This is a document created by the IE for each product item, which outlines the staffing requirement, product placement, tasks, direct labor budget, load profile etc. Create/update C*ategory Breakout R*eport (CBR) as needed. This is a standardized report that aims to give a quick overview and history of a product item (usually a high volume item). Participation and integration with other Houdini departments including Design, Product Optimization, Production, Warehouse, Purchasing, Wine Country Gift Baskets, etc. Management of office and administrative workload combined in a warehouse and production type environment. Fast paced manufacturing environment with above average amount of walking, some possible light lifting, and working under time deadlines. Working conditions include fast-paced office and manufacturing environment with temperature variations depending on seasonal conditions. Junior or Senior College student or equivalent experience, proof of current enrollment or completed courses in the following: Industrial and Manufacturing Engr. Fundamentals and Lab, Human Factors Eng’g., Work Analysis and Design. Helpful courses: Industrial Costs and Controls, Statistics and Operations Research. Computer skills should include, but not limited to, Mircrosoft Office suite, Power Point, Project, Visio. Experience in Warehouse Management System (ASC Trac) and/or Inventory Management Systems (MACOLA), helpful. Spanish as a second language, or some background in Spanish language helpful but not required. Support of dual manufacturing locations (Fullerton and Buena Park) may be necessary. Industrial Engineering: 1 year (Preferred). Lean Manufacturing: 1 year (Preferred). Visio: 1 year (Preferred). United States (Required). Multiple locations. Pay', 'paragraph_items': 'The primary objective of the Industrial Engineer Intern will be to support production processes in a way that will support a systematic approach to increased productivity and efficiency. The intern will support the creation, implementation, measurement and refinement of tools to fulfill these objectives. On the floor, responsibilities will include collaboration with manufacturing departments, observation, time studies, and line balancing.Education, Experience, Knowledge, Skills and Abilities:', '_id': ObjectId('5d16b0aed7b8f7a30ccd2392')}\n",
      "{'url': 'https://www.indeed.com/rc/clk?jk=e16a452db158cc89&fccid=1f420427b06ff1e7&vjs=3', 'job_title': 'Quality Assurance Engineer', 'company_name': 'Meredith Corporation', 'salary': '', 'listed_items': 'Creating detailed, comprehensive and well-structured test plans and test cases according to business requirements. . Minimum 2 years of experience with Selenium or comparable framework . Minimum 2 years of experience with JS frameworks . Experience with headless browser testing/scripting . Experience with automated build tools, source control such as Git preferred . Experience with browser testing and debugging . Familiarity with PHP, Java . In-depth understanding of the quality assurance methodologies . experience with UI testing . Ability to function independently in a fast-paced environment, organize and prioritize work independently, and meet tight deadlines ', 'paragraph_items': 'The QA Engineer will develop automation testing for UI/UX using scripted and or automated frameworks on existing and new web applications and systems, Identify opportunities for automation within software processes. Design and execute QA tests using scripts that automatically test functionality. Run tests for databases, systems, networks, applications, hardware and software Accountabilities, Actions and Expected Measurable Results Existing web applications and systems QA automation testing and reporting along with unit testing III. Minimum Qualifications and Job Requirements | All must be met to be considered. BS Degree in Computer Science or related field; or equivalent training/experience It is the policy of Meredith to provide equal employment opportunity (EEO) to all persons regardless of age, color, national origin, citizenship status, physical or mental disability, race, religion, creed, gender, sex, sexual orientation, gender identity and/or expression, genetic information, marital status, status with regard to public assistance, veteran status, or any other characteristic protected by federal, state or local law. In addition, Meredith will provide reasonable accommodations for qualified individuals with disabilities. Meredith participates in the federal E-Verify program to confirm the identity and employment authorization of all newly hired employees. For further information about the E-Verify program, please click here: http://www.uscis.gov/e-verify/employees ', '_id': ObjectId('5d16b0b2d7b8f7a30ccd2393')}\n"
     ]
    },
    {
     "ename": "KeyboardInterrupt",
     "evalue": "",
     "output_type": "error",
     "traceback": [
      "\u001b[0;31m---------------------------------------------------------------------------\u001b[0m",
      "\u001b[0;31mKeyboardInterrupt\u001b[0m                         Traceback (most recent call last)",
      "\u001b[0;32m<ipython-input-47-cdbf887f25c8>\u001b[0m in \u001b[0;36m<module>\u001b[0;34m\u001b[0m\n\u001b[1;32m     15\u001b[0m     \u001b[0msoup\u001b[0m \u001b[0;34m=\u001b[0m \u001b[0mBeautifulSoup\u001b[0m\u001b[0;34m(\u001b[0m\u001b[0mpage\u001b[0m\u001b[0;34m.\u001b[0m\u001b[0mtext\u001b[0m\u001b[0;34m,\u001b[0m \u001b[0;34m'html.parser'\u001b[0m\u001b[0;34m)\u001b[0m\u001b[0;34m\u001b[0m\u001b[0;34m\u001b[0m\u001b[0m\n\u001b[1;32m     16\u001b[0m     \u001b[0mjob_title\u001b[0m\u001b[0;34m,\u001b[0m \u001b[0mcompany_name\u001b[0m\u001b[0;34m,\u001b[0m \u001b[0msalary\u001b[0m\u001b[0;34m,\u001b[0m \u001b[0mlisted_items\u001b[0m\u001b[0;34m,\u001b[0m \u001b[0mparagraph_items\u001b[0m \u001b[0;34m=\u001b[0m \u001b[0mget_job_info\u001b[0m\u001b[0;34m(\u001b[0m\u001b[0msoup\u001b[0m\u001b[0;34m)\u001b[0m\u001b[0;34m\u001b[0m\u001b[0;34m\u001b[0m\u001b[0m\n\u001b[0;32m---> 17\u001b[0;31m     \u001b[0mtime\u001b[0m\u001b[0;34m.\u001b[0m\u001b[0msleep\u001b[0m\u001b[0;34m(\u001b[0m\u001b[0mnp\u001b[0m\u001b[0;34m.\u001b[0m\u001b[0mrandom\u001b[0m\u001b[0;34m.\u001b[0m\u001b[0mpoisson\u001b[0m\u001b[0;34m(\u001b[0m\u001b[0;36m100\u001b[0m\u001b[0;34m)\u001b[0m\u001b[0;34m/\u001b[0m\u001b[0;36m50\u001b[0m\u001b[0;34m)\u001b[0m\u001b[0;34m\u001b[0m\u001b[0;34m\u001b[0m\u001b[0m\n\u001b[0m\u001b[1;32m     18\u001b[0m \u001b[0;34m\u001b[0m\u001b[0m\n\u001b[1;32m     19\u001b[0m     \u001b[0mnew_item\u001b[0m\u001b[0;34m[\u001b[0m\u001b[0;34m'url'\u001b[0m\u001b[0;34m]\u001b[0m \u001b[0;34m=\u001b[0m \u001b[0murl\u001b[0m\u001b[0;34m\u001b[0m\u001b[0;34m\u001b[0m\u001b[0m\n",
      "\u001b[0;31mKeyboardInterrupt\u001b[0m: "
     ]
    }
   ],
   "source": [
    "i = 0\n",
    "\n",
    "pickle_in = open('individual_listings__LosAngeles', 'rb')\n",
    "listings_urls = pickle.load(pickle_in)\n",
    "pickle_in.close()\n",
    "\n",
    "listings_urls = [item for sublist in listings_urls for item in sublist]\n",
    "listings_urls = list(set(listings_urls))\n",
    "\n",
    "for url in listings_urls:\n",
    "\n",
    "    new_item = {}\n",
    "\n",
    "    page = requests.get(url)\n",
    "    soup = BeautifulSoup(page.text, 'html.parser')\n",
    "    job_title, company_name, salary, listed_items, paragraph_items = get_job_info(soup)\n",
    "    time.sleep(np.random.poisson(100)/50)\n",
    "\n",
    "    new_item['url'] = url\n",
    "    new_item['job_title'] = job_title \n",
    "    new_item['company_name'] = company_name\n",
    "    new_item['salary'] = salary\n",
    "    new_item['listed_items'] = listed_items\n",
    "    new_item['paragraph_items'] = paragraph_items\n",
    "\n",
    "    time.sleep(np.random.poisson(100)/50)\n",
    "\n",
    "    db.Los_Angeles_Jobs.insert_one(new_item)\n",
    "\n",
    "    if i%10 == 0:\n",
    "        print(i)\n",
    "\n",
    "    i += 1\n",
    "\n",
    "    print(new_item)\n",
    "\n",
    "    del new_item\n",
    "    del soup\n",
    "    del job_title\n",
    "    del company_name\n",
    "    del salary\n",
    "    del listed_items\n",
    "    del paragraph_items"
   ]
  },
  {
   "cell_type": "code",
   "execution_count": 45,
   "metadata": {},
   "outputs": [],
   "source": [
    "pickle_in = open('individual_listings__LosAngeles', 'rb')\n",
    "listings_urls = pickle.load(pickle_in)\n",
    "pickle_in.close()"
   ]
  },
  {
   "cell_type": "code",
   "execution_count": null,
   "metadata": {},
   "outputs": [],
   "source": []
  }
 ],
 "metadata": {
  "kernelspec": {
   "display_name": "Python 3",
   "language": "python",
   "name": "python3"
  },
  "language_info": {
   "codemirror_mode": {
    "name": "ipython",
    "version": 3
   },
   "file_extension": ".py",
   "mimetype": "text/x-python",
   "name": "python",
   "nbconvert_exporter": "python",
   "pygments_lexer": "ipython3",
   "version": "3.7.3"
  }
 },
 "nbformat": 4,
 "nbformat_minor": 2
}
