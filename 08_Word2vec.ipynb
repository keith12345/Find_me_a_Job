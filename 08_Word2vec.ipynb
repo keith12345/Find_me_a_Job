{
 "cells": [
  {
   "cell_type": "code",
   "execution_count": 1,
   "metadata": {},
   "outputs": [],
   "source": [
    "import numpy as np\n",
    "import pandas as pd\n",
    "\n",
    "from sklearn.feature_extraction.text import TfidfVectorizer"
   ]
  },
  {
   "cell_type": "code",
   "execution_count": 13,
   "metadata": {},
   "outputs": [],
   "source": [
    "df = pd.read_pickle('Data/clean_seattle_ngram_df')"
   ]
  },
  {
   "cell_type": "code",
   "execution_count": 3,
   "metadata": {},
   "outputs": [
    {
     "data": {
      "text/plain": [
       "2908"
      ]
     },
     "execution_count": 3,
     "metadata": {},
     "output_type": "execute_result"
    }
   ],
   "source": [
    "len(df)"
   ]
  },
  {
   "cell_type": "markdown",
   "metadata": {},
   "source": [
    "## Testing word2vec"
   ]
  },
  {
   "cell_type": "code",
   "execution_count": 4,
   "metadata": {},
   "outputs": [],
   "source": [
    "import gensim\n",
    "from gensim.models import Word2Vec\n",
    "import nltk\n",
    "from nltk import word_tokenize\n",
    "from nltk.util import ngrams"
   ]
  },
  {
   "cell_type": "code",
   "execution_count": 6,
   "metadata": {},
   "outputs": [],
   "source": [
    "google_vec_file = '../../downloads/GoogleNews-vectors-negative300.bin.gz'\n",
    "model = gensim.models.KeyedVectors.load_word2vec_format(google_vec_file, binary=True)"
   ]
  },
  {
   "cell_type": "code",
   "execution_count": 7,
   "metadata": {},
   "outputs": [],
   "source": [
    "def document_vector(word2vec_model, doc):\n",
    "    # remove out-of-vocabulary words\n",
    "    doc = [word for word in doc if word in word2vec_model.vocab]\n",
    "    return np.mean(word2vec_model[doc], axis=0)"
   ]
  },
  {
   "cell_type": "code",
   "execution_count": 14,
   "metadata": {},
   "outputs": [],
   "source": [
    "new_df = pd.DataFrame(df.listed_items.str.split().apply(lambda x:document_vector(model,x)).tolist())"
   ]
  },
  {
   "cell_type": "code",
   "execution_count": 15,
   "metadata": {},
   "outputs": [
    {
     "data": {
      "text/html": [
       "<div>\n",
       "<style scoped>\n",
       "    .dataframe tbody tr th:only-of-type {\n",
       "        vertical-align: middle;\n",
       "    }\n",
       "\n",
       "    .dataframe tbody tr th {\n",
       "        vertical-align: top;\n",
       "    }\n",
       "\n",
       "    .dataframe thead th {\n",
       "        text-align: right;\n",
       "    }\n",
       "</style>\n",
       "<table border=\"1\" class=\"dataframe\">\n",
       "  <thead>\n",
       "    <tr style=\"text-align: right;\">\n",
       "      <th></th>\n",
       "      <th>0</th>\n",
       "      <th>1</th>\n",
       "      <th>2</th>\n",
       "      <th>3</th>\n",
       "      <th>4</th>\n",
       "      <th>5</th>\n",
       "      <th>6</th>\n",
       "      <th>7</th>\n",
       "      <th>8</th>\n",
       "      <th>9</th>\n",
       "      <th>...</th>\n",
       "      <th>290</th>\n",
       "      <th>291</th>\n",
       "      <th>292</th>\n",
       "      <th>293</th>\n",
       "      <th>294</th>\n",
       "      <th>295</th>\n",
       "      <th>296</th>\n",
       "      <th>297</th>\n",
       "      <th>298</th>\n",
       "      <th>299</th>\n",
       "    </tr>\n",
       "  </thead>\n",
       "  <tbody>\n",
       "    <tr>\n",
       "      <th>0</th>\n",
       "      <td>-0.043954</td>\n",
       "      <td>0.006841</td>\n",
       "      <td>-0.012748</td>\n",
       "      <td>0.086496</td>\n",
       "      <td>-0.072769</td>\n",
       "      <td>0.051799</td>\n",
       "      <td>0.012462</td>\n",
       "      <td>-0.038766</td>\n",
       "      <td>0.001871</td>\n",
       "      <td>0.026753</td>\n",
       "      <td>...</td>\n",
       "      <td>-0.033144</td>\n",
       "      <td>0.073153</td>\n",
       "      <td>-0.048096</td>\n",
       "      <td>0.029056</td>\n",
       "      <td>-0.026505</td>\n",
       "      <td>-0.065226</td>\n",
       "      <td>-0.019361</td>\n",
       "      <td>-0.019926</td>\n",
       "      <td>-0.029024</td>\n",
       "      <td>0.080978</td>\n",
       "    </tr>\n",
       "    <tr>\n",
       "      <th>1</th>\n",
       "      <td>-0.024538</td>\n",
       "      <td>0.038110</td>\n",
       "      <td>-0.007562</td>\n",
       "      <td>0.078291</td>\n",
       "      <td>-0.070621</td>\n",
       "      <td>0.028412</td>\n",
       "      <td>0.016901</td>\n",
       "      <td>-0.041611</td>\n",
       "      <td>0.033585</td>\n",
       "      <td>-0.003457</td>\n",
       "      <td>...</td>\n",
       "      <td>-0.059037</td>\n",
       "      <td>0.065489</td>\n",
       "      <td>-0.045640</td>\n",
       "      <td>0.006345</td>\n",
       "      <td>-0.056374</td>\n",
       "      <td>-0.025098</td>\n",
       "      <td>-0.009946</td>\n",
       "      <td>-0.011670</td>\n",
       "      <td>-0.024268</td>\n",
       "      <td>0.011055</td>\n",
       "    </tr>\n",
       "    <tr>\n",
       "      <th>2</th>\n",
       "      <td>-0.021182</td>\n",
       "      <td>0.014005</td>\n",
       "      <td>-0.016987</td>\n",
       "      <td>0.073280</td>\n",
       "      <td>-0.083369</td>\n",
       "      <td>0.045548</td>\n",
       "      <td>0.058467</td>\n",
       "      <td>-0.071952</td>\n",
       "      <td>0.028607</td>\n",
       "      <td>0.017894</td>\n",
       "      <td>...</td>\n",
       "      <td>-0.052045</td>\n",
       "      <td>0.058682</td>\n",
       "      <td>-0.053583</td>\n",
       "      <td>0.016762</td>\n",
       "      <td>-0.035119</td>\n",
       "      <td>-0.007481</td>\n",
       "      <td>0.033360</td>\n",
       "      <td>-0.041760</td>\n",
       "      <td>-0.034840</td>\n",
       "      <td>-0.008889</td>\n",
       "    </tr>\n",
       "    <tr>\n",
       "      <th>3</th>\n",
       "      <td>-0.042905</td>\n",
       "      <td>0.027499</td>\n",
       "      <td>-0.018928</td>\n",
       "      <td>0.046546</td>\n",
       "      <td>-0.055220</td>\n",
       "      <td>0.025817</td>\n",
       "      <td>0.024054</td>\n",
       "      <td>-0.059249</td>\n",
       "      <td>0.034471</td>\n",
       "      <td>0.059649</td>\n",
       "      <td>...</td>\n",
       "      <td>0.005800</td>\n",
       "      <td>0.075993</td>\n",
       "      <td>-0.072442</td>\n",
       "      <td>0.022553</td>\n",
       "      <td>-0.017957</td>\n",
       "      <td>-0.022994</td>\n",
       "      <td>-0.000438</td>\n",
       "      <td>0.020644</td>\n",
       "      <td>-0.013739</td>\n",
       "      <td>0.009377</td>\n",
       "    </tr>\n",
       "    <tr>\n",
       "      <th>4</th>\n",
       "      <td>-0.038040</td>\n",
       "      <td>0.010736</td>\n",
       "      <td>0.013825</td>\n",
       "      <td>0.056030</td>\n",
       "      <td>-0.059880</td>\n",
       "      <td>0.059433</td>\n",
       "      <td>0.047275</td>\n",
       "      <td>-0.045370</td>\n",
       "      <td>0.042770</td>\n",
       "      <td>-0.010478</td>\n",
       "      <td>...</td>\n",
       "      <td>-0.007771</td>\n",
       "      <td>0.090637</td>\n",
       "      <td>-0.089893</td>\n",
       "      <td>0.021157</td>\n",
       "      <td>-0.085240</td>\n",
       "      <td>-0.039400</td>\n",
       "      <td>-0.004144</td>\n",
       "      <td>0.003218</td>\n",
       "      <td>-0.019267</td>\n",
       "      <td>-0.007268</td>\n",
       "    </tr>\n",
       "  </tbody>\n",
       "</table>\n",
       "<p>5 rows × 300 columns</p>\n",
       "</div>"
      ],
      "text/plain": [
       "        0         1         2         3         4         5         6    \\\n",
       "0 -0.043954  0.006841 -0.012748  0.086496 -0.072769  0.051799  0.012462   \n",
       "1 -0.024538  0.038110 -0.007562  0.078291 -0.070621  0.028412  0.016901   \n",
       "2 -0.021182  0.014005 -0.016987  0.073280 -0.083369  0.045548  0.058467   \n",
       "3 -0.042905  0.027499 -0.018928  0.046546 -0.055220  0.025817  0.024054   \n",
       "4 -0.038040  0.010736  0.013825  0.056030 -0.059880  0.059433  0.047275   \n",
       "\n",
       "        7         8         9      ...          290       291       292  \\\n",
       "0 -0.038766  0.001871  0.026753    ...    -0.033144  0.073153 -0.048096   \n",
       "1 -0.041611  0.033585 -0.003457    ...    -0.059037  0.065489 -0.045640   \n",
       "2 -0.071952  0.028607  0.017894    ...    -0.052045  0.058682 -0.053583   \n",
       "3 -0.059249  0.034471  0.059649    ...     0.005800  0.075993 -0.072442   \n",
       "4 -0.045370  0.042770 -0.010478    ...    -0.007771  0.090637 -0.089893   \n",
       "\n",
       "        293       294       295       296       297       298       299  \n",
       "0  0.029056 -0.026505 -0.065226 -0.019361 -0.019926 -0.029024  0.080978  \n",
       "1  0.006345 -0.056374 -0.025098 -0.009946 -0.011670 -0.024268  0.011055  \n",
       "2  0.016762 -0.035119 -0.007481  0.033360 -0.041760 -0.034840 -0.008889  \n",
       "3  0.022553 -0.017957 -0.022994 -0.000438  0.020644 -0.013739  0.009377  \n",
       "4  0.021157 -0.085240 -0.039400 -0.004144  0.003218 -0.019267 -0.007268  \n",
       "\n",
       "[5 rows x 300 columns]"
      ]
     },
     "execution_count": 15,
     "metadata": {},
     "output_type": "execute_result"
    }
   ],
   "source": [
    "new_df.head()"
   ]
  },
  {
   "cell_type": "code",
   "execution_count": 17,
   "metadata": {},
   "outputs": [],
   "source": [
    "new_df.to_pickle('Data/clean_seattle_word2vec')"
   ]
  },
  {
   "cell_type": "code",
   "execution_count": null,
   "metadata": {},
   "outputs": [],
   "source": []
  }
 ],
 "metadata": {
  "kernelspec": {
   "display_name": "Python 3",
   "language": "python",
   "name": "python3"
  },
  "language_info": {
   "codemirror_mode": {
    "name": "ipython",
    "version": 3
   },
   "file_extension": ".py",
   "mimetype": "text/x-python",
   "name": "python",
   "nbconvert_exporter": "python",
   "pygments_lexer": "ipython3",
   "version": "3.7.2"
  }
 },
 "nbformat": 4,
 "nbformat_minor": 2
}
