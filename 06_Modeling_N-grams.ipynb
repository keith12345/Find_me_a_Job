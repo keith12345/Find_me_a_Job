{
 "cells": [
  {
   "cell_type": "code",
   "execution_count": 7,
   "metadata": {},
   "outputs": [],
   "source": [
    "import numpy as np\n",
    "\n",
    "import nltk\n",
    "import pandas as pd\n",
    "import gensim\n",
    "\n",
    "from sklearn.decomposition import NMF\n",
    "from sklearn.feature_extraction.text import TfidfVectorizer, CountVectorizer"
   ]
  },
  {
   "cell_type": "code",
   "execution_count": 2,
   "metadata": {},
   "outputs": [],
   "source": [
    "df = pd.read_pickle('Data/clean_seattle')"
   ]
  },
  {
   "cell_type": "code",
   "execution_count": 3,
   "metadata": {},
   "outputs": [
    {
     "data": {
      "text/plain": [
       "2908"
      ]
     },
     "execution_count": 3,
     "metadata": {},
     "output_type": "execute_result"
    }
   ],
   "source": [
    "len(df)"
   ]
  },
  {
   "cell_type": "markdown",
   "metadata": {},
   "source": [
    "## Unigrams"
   ]
  },
  {
   "cell_type": "markdown",
   "metadata": {},
   "source": [
    "## N-grams"
   ]
  },
  {
   "cell_type": "markdown",
   "metadata": {},
   "source": [
    "1. create ngrams for corpus  \n",
    "* create ngrams for individual documents  \n",
    "* get value counts of ngram appearances\n",
    "* check which ngrams appear most in the entire corpus - set arbitrary cutoff for number of bigrams based on quality\n",
    "* Remove redundant bigrams, trigrams, and quadgrams\n",
    "* check which of those selected ngrams are in each document\n",
    "* combine with existing documents"
   ]
  },
  {
   "cell_type": "markdown",
   "metadata": {},
   "source": [
    "### Combine documents and split into one list of words"
   ]
  },
  {
   "cell_type": "code",
   "execution_count": 8,
   "metadata": {},
   "outputs": [],
   "source": [
    "def sent_to_words(sentences):\n",
    "    for sentence in sentences:\n",
    "        yield(gensim.utils.simple_preprocess(str(sentence), deacc=True))\n"
   ]
  },
  {
   "cell_type": "code",
   "execution_count": 10,
   "metadata": {},
   "outputs": [],
   "source": [
    "clean_sents = list(sent_to_words(df.listed_items))\n",
    "all_words = [item for sublist in clean_sents for item in sublist]"
   ]
  },
  {
   "cell_type": "markdown",
   "metadata": {},
   "source": [
    "### Create ngrams for corpus"
   ]
  },
  {
   "cell_type": "markdown",
   "metadata": {},
   "source": [
    "#### Bigrams"
   ]
  },
  {
   "cell_type": "code",
   "execution_count": 63,
   "metadata": {},
   "outputs": [
    {
     "data": {
      "text/plain": [
       "457518"
      ]
     },
     "execution_count": 63,
     "metadata": {},
     "output_type": "execute_result"
    }
   ],
   "source": [
    "bigrams = ['_'.join(x) for x in zip(all_words, all_words[1:])]\n",
    "len(bigrams)"
   ]
  },
  {
   "cell_type": "code",
   "execution_count": 71,
   "metadata": {},
   "outputs": [
    {
     "data": {
      "text/plain": [
       "['year_experi',\n",
       " 'comput_scienc',\n",
       " 'machin_learn',\n",
       " 'bachelor_degre',\n",
       " 'communic_skill']"
      ]
     },
     "execution_count": 71,
     "metadata": {},
     "output_type": "execute_result"
    }
   ],
   "source": [
    "top_bigrams = pd.Series(bigrams).value_counts()[:100].index\n",
    "list(top_bigrams[:5])"
   ]
  },
  {
   "cell_type": "markdown",
   "metadata": {},
   "source": [
    "#### Trigrams"
   ]
  },
  {
   "cell_type": "code",
   "execution_count": 62,
   "metadata": {},
   "outputs": [
    {
     "data": {
      "text/plain": [
       "457517"
      ]
     },
     "execution_count": 62,
     "metadata": {},
     "output_type": "execute_result"
    }
   ],
   "source": [
    "trigrams = ['_'.join(x) for x in zip(all_words, all_words[1:], all_words[2:])]\n",
    "len(trigrams)"
   ]
  },
  {
   "cell_type": "markdown",
   "metadata": {},
   "source": [
    "Looks like medic_dental_vision appears a lot... I'll make a note to get rid of that one."
   ]
  },
  {
   "cell_type": "code",
   "execution_count": 70,
   "metadata": {},
   "outputs": [
    {
     "data": {
      "text/plain": [
       "['degre_comput_scienc',\n",
       " 'comput_scienc_relat',\n",
       " 'bachelor_degre_comput',\n",
       " 'written_communic_skill',\n",
       " 'scienc_relat_field']"
      ]
     },
     "execution_count": 70,
     "metadata": {},
     "output_type": "execute_result"
    }
   ],
   "source": [
    "top_trigrams = pd.Series(trigrams).value_counts()[:50].index\n",
    "list(top_trigrams[:5])"
   ]
  },
  {
   "cell_type": "markdown",
   "metadata": {},
   "source": [
    "#### Quadgrams"
   ]
  },
  {
   "cell_type": "code",
   "execution_count": 72,
   "metadata": {},
   "outputs": [
    {
     "data": {
      "text/plain": [
       "457516"
      ]
     },
     "execution_count": 72,
     "metadata": {},
     "output_type": "execute_result"
    }
   ],
   "source": [
    "quadgrams = ['_'.join(x) for x in zip(all_words, all_words[1:], all_words[2:], all_words[3:])]\n",
    "len(quadgrams)"
   ]
  },
  {
   "cell_type": "markdown",
   "metadata": {},
   "source": [
    "Think about finding a way to handle the fact that these and similar items are treated as three separate items:\n",
    "* verbal_written_communic_skill        203\n",
    "* written_verbal_communic_skill        194\n",
    "* excel_verbal_written_communic        121"
   ]
  },
  {
   "cell_type": "code",
   "execution_count": 78,
   "metadata": {},
   "outputs": [
    {
     "data": {
      "text/plain": [
       "['bachelor_degre_comput_scienc',\n",
       " 'comput_scienc_relat_field',\n",
       " 'degre_comput_scienc_relat',\n",
       " 'verbal_written_communic_skill',\n",
       " 'written_verbal_communic_skill']"
      ]
     },
     "execution_count": 78,
     "metadata": {},
     "output_type": "execute_result"
    }
   ],
   "source": [
    "top_quadgrams = pd.Series(quadgrams).value_counts().index[:20]\n",
    "list(top_quadgrams)[:5]"
   ]
  },
  {
   "cell_type": "markdown",
   "metadata": {},
   "source": [
    "### Remove redundant bigrams, trigrams, and quadgrams and combine to create a single list"
   ]
  },
  {
   "cell_type": "code",
   "execution_count": 92,
   "metadata": {},
   "outputs": [
    {
     "name": "stdout",
     "output_type": "stream",
     "text": [
      "There are  56 non redundant bigrams\n"
     ]
    },
    {
     "data": {
      "text/plain": [
       "['machin_learn',\n",
       " 'best_practic',\n",
       " 'project_manag',\n",
       " 'product_manag',\n",
       " 'experi_build']"
      ]
     },
     "execution_count": 92,
     "metadata": {},
     "output_type": "execute_result"
    }
   ],
   "source": [
    "non_redundant_bigrams = []\n",
    "trigrams_string = ' '.join(top_trigrams)\n",
    "\n",
    "for bigram in top_bigrams:\n",
    "    if bigram in trigrams_string:\n",
    "        pass\n",
    "    else:\n",
    "        non_redundant_bigrams.append(bigram)\n",
    "print('There are ', len(non_redundant_bigrams), 'non-redundant bigrams')\n",
    "non_redundant_bigrams[:5]"
   ]
  },
  {
   "cell_type": "code",
   "execution_count": 93,
   "metadata": {},
   "outputs": [
    {
     "name": "stdout",
     "output_type": "stream",
     "text": [
      "There are  30 non-redundant bigrams\n"
     ]
    },
    {
     "data": {
      "text/plain": [
       "['problem_solv_skill',\n",
       " 'fast_pace_environ',\n",
       " 'year_relev_experi',\n",
       " 'communic_skill_abil',\n",
       " 'comput_scienc_fundament']"
      ]
     },
     "execution_count": 93,
     "metadata": {},
     "output_type": "execute_result"
    }
   ],
   "source": [
    "non_redundant_trigrams = []\n",
    "quadgrams_string = ' '.join(top_quadgrams)\n",
    "\n",
    "for trigram in top_trigrams:\n",
    "    if trigram in quadgrams_string:\n",
    "        pass\n",
    "    else:\n",
    "        non_redundant_trigrams.append(trigram)\n",
    "print('There are ', len(non_redundant_trigrams), 'non-redundant bigrams')\n",
    "non_redundant_trigrams[:5]"
   ]
  },
  {
   "cell_type": "code",
   "execution_count": 96,
   "metadata": {},
   "outputs": [],
   "source": [
    "top_ngrams = ' '.join([' '.join(non_redundant_bigrams), ' '.join(non_redundant_trigrams), ' '.join(top_quadgrams)])"
   ]
  },
  {
   "cell_type": "markdown",
   "metadata": {},
   "source": [
    "### Convert documents to ngrams"
   ]
  },
  {
   "cell_type": "code",
   "execution_count": 97,
   "metadata": {},
   "outputs": [],
   "source": [
    "def to_ngram(text):\n",
    "    \n",
    "    out = []\n",
    "    \n",
    "    for i, j in zip(text.split(), text.split()[1:]):\n",
    "        bigram = '_'.join([i, j])\n",
    "        out.append(bigram)\n",
    "        \n",
    "    for i, j, k in zip(text.split(), text.split()[1:], text.split()[2:]):\n",
    "        trigram = '_'.join([i, j, k])\n",
    "        out.append(trigram)\n",
    "        \n",
    "    for i, j, k, l in zip(text.split(), text.split()[1:],\n",
    "                          text.split()[2:], text.split()[3:]):\n",
    "        quadgram = '_'.join([i, j, k, l])\n",
    "        out.append(quadgram) \n",
    "        \n",
    "    return out        "
   ]
  },
  {
   "cell_type": "code",
   "execution_count": 101,
   "metadata": {},
   "outputs": [
    {
     "data": {
      "text/html": [
       "<div>\n",
       "<style scoped>\n",
       "    .dataframe tbody tr th:only-of-type {\n",
       "        vertical-align: middle;\n",
       "    }\n",
       "\n",
       "    .dataframe tbody tr th {\n",
       "        vertical-align: top;\n",
       "    }\n",
       "\n",
       "    .dataframe thead th {\n",
       "        text-align: right;\n",
       "    }\n",
       "</style>\n",
       "<table border=\"1\" class=\"dataframe\">\n",
       "  <thead>\n",
       "    <tr style=\"text-align: right;\">\n",
       "      <th></th>\n",
       "      <th>listed_items</th>\n",
       "    </tr>\n",
       "  </thead>\n",
       "  <tbody>\n",
       "    <tr>\n",
       "      <th>0</th>\n",
       "      <td>[develop_high, high_scalabl, scalabl_classifi,...</td>\n",
       "    </tr>\n",
       "    <tr>\n",
       "      <th>1</th>\n",
       "      <td>[play_pivot, pivot_role, role_modern, modern_s...</td>\n",
       "    </tr>\n",
       "    <tr>\n",
       "      <th>2</th>\n",
       "      <td>[act_contribut, contribut_ux, ux_design, desig...</td>\n",
       "    </tr>\n",
       "    <tr>\n",
       "      <th>3</th>\n",
       "      <td>[manag_6, 6_8, 8_technic, technic_product, pro...</td>\n",
       "    </tr>\n",
       "    <tr>\n",
       "      <th>4</th>\n",
       "      <td>[lead_grow, grow_appli, appli_scientist, scien...</td>\n",
       "    </tr>\n",
       "  </tbody>\n",
       "</table>\n",
       "</div>"
      ],
      "text/plain": [
       "                                        listed_items\n",
       "0  [develop_high, high_scalabl, scalabl_classifi,...\n",
       "1  [play_pivot, pivot_role, role_modern, modern_s...\n",
       "2  [act_contribut, contribut_ux, ux_design, desig...\n",
       "3  [manag_6, 6_8, 8_technic, technic_product, pro...\n",
       "4  [lead_grow, grow_appli, appli_scientist, scien..."
      ]
     },
     "execution_count": 101,
     "metadata": {},
     "output_type": "execute_result"
    }
   ],
   "source": [
    "ngram_df = pd.DataFrame(df.listed_items.apply(to_ngram))\n",
    "ngram_df.head()"
   ]
  },
  {
   "cell_type": "markdown",
   "metadata": {},
   "source": [
    "### Find matching ngrams"
   ]
  },
  {
   "cell_type": "code",
   "execution_count": 105,
   "metadata": {},
   "outputs": [],
   "source": [
    "def check_matching_ngrams(doc_ngrams):\n",
    "    \n",
    "    matching_ngrams = []\n",
    "    \n",
    "    for ngram in doc_ngrams:\n",
    "        if ngram in top_ngrams:\n",
    "            matching_ngrams.append(ngram)\n",
    "        else:\n",
    "            pass\n",
    "    return ' '.join(matching_ngrams)"
   ]
  },
  {
   "cell_type": "code",
   "execution_count": 106,
   "metadata": {},
   "outputs": [
    {
     "data": {
      "text/html": [
       "<div>\n",
       "<style scoped>\n",
       "    .dataframe tbody tr th:only-of-type {\n",
       "        vertical-align: middle;\n",
       "    }\n",
       "\n",
       "    .dataframe tbody tr th {\n",
       "        vertical-align: top;\n",
       "    }\n",
       "\n",
       "    .dataframe thead th {\n",
       "        text-align: right;\n",
       "    }\n",
       "</style>\n",
       "<table border=\"1\" class=\"dataframe\">\n",
       "  <thead>\n",
       "    <tr style=\"text-align: right;\">\n",
       "      <th></th>\n",
       "      <th>listed_items</th>\n",
       "    </tr>\n",
       "  </thead>\n",
       "  <tbody>\n",
       "    <tr>\n",
       "      <th>0</th>\n",
       "      <td>machin_learn machin_learn degre_comput comput_...</td>\n",
       "    </tr>\n",
       "    <tr>\n",
       "      <th>1</th>\n",
       "      <td>best_practic softwar_develop demonstr_abil fas...</td>\n",
       "    </tr>\n",
       "    <tr>\n",
       "      <th>2</th>\n",
       "      <td>busi_requir cross_function cross_function desi...</td>\n",
       "    </tr>\n",
       "    <tr>\n",
       "      <th>3</th>\n",
       "      <td>product_manag product_manag softwar_develop bu...</td>\n",
       "    </tr>\n",
       "    <tr>\n",
       "      <th>4</th>\n",
       "      <td>machin_learn long_term solv_complex softwar_en...</td>\n",
       "    </tr>\n",
       "  </tbody>\n",
       "</table>\n",
       "</div>"
      ],
      "text/plain": [
       "                                        listed_items\n",
       "0  machin_learn machin_learn degre_comput comput_...\n",
       "1  best_practic softwar_develop demonstr_abil fas...\n",
       "2  busi_requir cross_function cross_function desi...\n",
       "3  product_manag product_manag softwar_develop bu...\n",
       "4  machin_learn long_term solv_complex softwar_en..."
      ]
     },
     "execution_count": 106,
     "metadata": {},
     "output_type": "execute_result"
    }
   ],
   "source": [
    "matching_ngram_df = pd.DataFrame(ngram_df.listed_items.apply(check_matching_ngrams))\n",
    "matching_ngram_df.head()"
   ]
  },
  {
   "cell_type": "markdown",
   "metadata": {},
   "source": [
    "### Combine ngrams with document text"
   ]
  },
  {
   "cell_type": "code",
   "execution_count": 109,
   "metadata": {},
   "outputs": [],
   "source": [
    "df['listed_items'] = df.listed_items + matching_ngram_df.listed_items"
   ]
  },
  {
   "cell_type": "markdown",
   "metadata": {},
   "source": [
    "## Testing TF-IDF NMF with new ngrams"
   ]
  },
  {
   "cell_type": "code",
   "execution_count": 111,
   "metadata": {},
   "outputs": [],
   "source": [
    "from sklearn.feature_extraction.text import TfidfVectorizer"
   ]
  },
  {
   "cell_type": "code",
   "execution_count": 114,
   "metadata": {},
   "outputs": [
    {
     "data": {
      "text/plain": [
       "(2908, 10171)"
      ]
     },
     "execution_count": 114,
     "metadata": {},
     "output_type": "execute_result"
    }
   ],
   "source": [
    "tf_idf = TfidfVectorizer(max_df=0.95)\n",
    "tf_idf_array = tf_idf.fit_transform(df.listed_items).toarray()\n",
    "tf_idf_df = pd.DataFrame(tf_idf_array,columns=tf_idf.get_feature_names())\n",
    "tf_idf_df.shape"
   ]
  },
  {
   "cell_type": "code",
   "execution_count": 115,
   "metadata": {},
   "outputs": [],
   "source": [
    "nmf_model = NMF(n_components=10, random_state=42)\n",
    "nmf = nmf_model.fit_transform(tf_idf_df)"
   ]
  },
  {
   "cell_type": "code",
   "execution_count": 116,
   "metadata": {},
   "outputs": [],
   "source": [
    "W = nmf\n",
    "H = nmf_model.components_"
   ]
  },
  {
   "cell_type": "markdown",
   "metadata": {},
   "source": [
    "The W factor contains the document membership weights relative to each of the k topics. Each row corresponds to a single document, and each column correspond to a topic."
   ]
  },
  {
   "cell_type": "code",
   "execution_count": 117,
   "metadata": {},
   "outputs": [
    {
     "data": {
      "text/plain": [
       "(2908, 10)"
      ]
     },
     "execution_count": 117,
     "metadata": {},
     "output_type": "execute_result"
    }
   ],
   "source": [
    "W.shape"
   ]
  },
  {
   "cell_type": "markdown",
   "metadata": {},
   "source": [
    "The H factor contains the term weights relative to each of the k topics. In this case, each row corresponds to a topic, and each column corresponds to a unique term in the corpus vocabulary."
   ]
  },
  {
   "cell_type": "code",
   "execution_count": 118,
   "metadata": {},
   "outputs": [
    {
     "data": {
      "text/plain": [
       "(10, 10171)"
      ]
     },
     "execution_count": 118,
     "metadata": {},
     "output_type": "execute_result"
    }
   ],
   "source": [
    "H.shape"
   ]
  },
  {
   "cell_type": "code",
   "execution_count": 119,
   "metadata": {},
   "outputs": [],
   "source": [
    "top_indices = np.argsort(H[1,:])[::-1]"
   ]
  },
  {
   "cell_type": "code",
   "execution_count": 120,
   "metadata": {},
   "outputs": [],
   "source": [
    "def get_descriptor(terms, H, topic_index, top):\n",
    "    #reverse sort the values to sort the indices\n",
    "    top_indices = np.argsort(H[topic_index,:])[::-1]\n",
    "    top_terms = []\n",
    "    for term_index in top_indices[0:top]:\n",
    "        top_terms.append(terms[term_index])\n",
    "    return top_terms"
   ]
  },
  {
   "cell_type": "code",
   "execution_count": 121,
   "metadata": {},
   "outputs": [],
   "source": [
    "def print_top_words(model, feature_names, n_top_words):\n",
    "    for topic_idx, topic in enumerate(model.components_):\n",
    "        print(\"Topic #%d:\" % topic_idx)\n",
    "        print(\" \".join([feature_names[i]\n",
    "                        for i in topic.argsort()[:-n_top_words - 1:-1]]))\n",
    "    print()"
   ]
  },
  {
   "cell_type": "code",
   "execution_count": 122,
   "metadata": {},
   "outputs": [
    {
     "name": "stdout",
     "output_type": "stream",
     "text": [
      "Topic #0:\n",
      "experi softwar year engin softwar_develop comput degre_comput_scienc degre_comput develop scienc\n",
      "Topic #1:\n",
      "comput_scienc_fundament scienc_fundament fundament comput_scienc scienc comput object_orient complex_analysi orient_design object_orient_design\n",
      "Topic #2:\n",
      "learn machin machin_learn model experi statist languag phd algorithm comput\n",
      "Topic #3:\n",
      "busi analyt statist analysi model sql report experi quantit insight\n",
      "Topic #4:\n",
      "requir project support document process manufactur system manag assist provid\n",
      "Topic #5:\n",
      "design product experi research user engin prototyp ux end develop\n",
      "Topic #6:\n",
      "test autom develop experi qualiti qa softwar framework methodolog bug\n",
      "Topic #7:\n",
      "servic system experi cloud network technolog secur build azur solut\n",
      "Topic #8:\n",
      "abil skill project manag communic busi excel strong technic written\n",
      "Topic #9:\n",
      "market product custom sale manag busi strategi partner execut drive\n",
      "\n"
     ]
    }
   ],
   "source": [
    "print_top_words(nmf_model,tf_idf_model.get_feature_names(),10)"
   ]
  },
  {
   "cell_type": "code",
   "execution_count": null,
   "metadata": {},
   "outputs": [],
   "source": []
  }
 ],
 "metadata": {
  "kernelspec": {
   "display_name": "Python 3",
   "language": "python",
   "name": "python3"
  },
  "language_info": {
   "codemirror_mode": {
    "name": "ipython",
    "version": 3
   },
   "file_extension": ".py",
   "mimetype": "text/x-python",
   "name": "python",
   "nbconvert_exporter": "python",
   "pygments_lexer": "ipython3",
   "version": "3.7.2"
  }
 },
 "nbformat": 4,
 "nbformat_minor": 2
}
