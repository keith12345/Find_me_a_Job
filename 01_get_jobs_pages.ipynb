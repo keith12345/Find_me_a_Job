{
 "cells": [
  {
   "cell_type": "code",
   "execution_count": null,
   "metadata": {},
   "outputs": [],
   "source": [
    "#####a 9 456"
   ]
  },
  {
   "cell_type": "code",
   "execution_count": 23,
   "metadata": {},
   "outputs": [],
   "source": [
    "import numpy as np\n",
    "\n",
    "import selenium\n",
    "from selenium import webdriver\n",
    "import requests\n",
    "from bs4 import BeautifulSoup\n",
    "import pickle\n",
    "\n",
    "import time\n",
    "import pprint\n",
    "\n",
    "import os"
   ]
  },
  {
   "cell_type": "code",
   "execution_count": 3,
   "metadata": {},
   "outputs": [],
   "source": [
    "os.chdir('Data')"
   ]
  },
  {
   "cell_type": "code",
   "execution_count": 4,
   "metadata": {},
   "outputs": [],
   "source": [
    "def get_soup(url):\n",
    "    driver = webdriver.Chrome(executable_path='/anaconda3/bin/chromedriver')\n",
    "    driver.get(url)\n",
    "    html = driver.page_source\n",
    "    soup = BeautifulSoup(html, 'html.parser')\n",
    "    driver.close()\n",
    "    return soup"
   ]
  },
  {
   "cell_type": "code",
   "execution_count": 18,
   "metadata": {},
   "outputs": [],
   "source": [
    "soup = get_soup('https://www.indeed.com/jobs?q=data+scientist&l=New+York')"
   ]
  },
  {
   "cell_type": "code",
   "execution_count": 5,
   "metadata": {},
   "outputs": [],
   "source": [
    "def grab_job_links(soup):\n",
    "    urls = []\n",
    "    for link in soup.find_all('h2', {'class': 'jobtitle'}):\n",
    "        partial_url = link.a.get('href')\n",
    "        url = 'https://ca.indeed.com' + partial_url\n",
    "        urls.append(url)\n",
    "    return urls"
   ]
  },
  {
   "cell_type": "code",
   "execution_count": 6,
   "metadata": {},
   "outputs": [],
   "source": [
    "def grab_job_links(base_url):\n",
    "    urls = []\n",
    "    \n",
    "    soup = get_soup(base_url)\n",
    "    \n",
    "    for link in soup.find_all('h2', {'class': 'jobtitle'}):\n",
    "        try:\n",
    "            partial_url = link.a.get('href')\n",
    "            url = 'https://www.indeed.com' + partial_url\n",
    "            urls.append(url)\n",
    "\n",
    "        except:\n",
    "            continue\n",
    "        \n",
    "    return urls"
   ]
  },
  {
   "cell_type": "code",
   "execution_count": 8,
   "metadata": {},
   "outputs": [],
   "source": []
  },
  {
   "cell_type": "markdown",
   "metadata": {},
   "source": [
    "# Chicago"
   ]
  },
  {
   "cell_type": "code",
   "execution_count": 9,
   "metadata": {},
   "outputs": [],
   "source": [
    "pickle_in = open('urls_to_query__Chicago','rb')\n",
    "job_listing_urls = pickle.load(pickle_in)\n",
    "pickle_in.close()"
   ]
  },
  {
   "cell_type": "code",
   "execution_count": 10,
   "metadata": {},
   "outputs": [],
   "source": [
    "urls = []\n",
    "for job_listing_url in job_listing_urls:\n",
    "    urls.append(grab_job_links(job_listing_url))\n",
    "    \n",
    "    time.sleep(np.random.poisson(100)/50)\n",
    "\n",
    "pickle_out = open(\"individual_listings__chicago\",\"wb\")\n",
    "pickle.dump(urls, pickle_out)\n",
    "pickle_out.close()"
   ]
  },
  {
   "cell_type": "markdown",
   "metadata": {},
   "source": [
    "# SF"
   ]
  },
  {
   "cell_type": "code",
   "execution_count": 11,
   "metadata": {},
   "outputs": [],
   "source": [
    "pickle_in = open('urls_to_query__SanFranciscoBayArea','rb')\n",
    "sf_job_listing_urls = pickle.load(pickle_in)\n",
    "pickle_in.close()"
   ]
  },
  {
   "cell_type": "code",
   "execution_count": 12,
   "metadata": {},
   "outputs": [],
   "source": [
    "urls = []\n",
    "for job_listing_url in sf_job_listing_urls:\n",
    "    urls.append(grab_job_links(job_listing_url))\n",
    "    \n",
    "    time.sleep(np.random.poisson(100)/50)\n",
    "\n",
    "pickle_out = open(\"individual_listings__SanFranciscoBayArea\",\"wb\")\n",
    "pickle.dump(urls, pickle_out)\n",
    "pickle_out.close()"
   ]
  },
  {
   "cell_type": "markdown",
   "metadata": {},
   "source": [
    "# New York"
   ]
  },
  {
   "cell_type": "code",
   "execution_count": 13,
   "metadata": {},
   "outputs": [],
   "source": [
    "pickle_in = open('urls_to_query__NewYork','rb')\n",
    "ny_job_listing_urls = pickle.load(pickle_in)\n",
    "pickle_in.close()"
   ]
  },
  {
   "cell_type": "code",
   "execution_count": 14,
   "metadata": {},
   "outputs": [],
   "source": [
    "urls = []\n",
    "for job_listing_url in ny_job_listing_urls:\n",
    "    urls.append(grab_job_links(job_listing_url))\n",
    "    \n",
    "    time.sleep(np.random.poisson(100)/50)\n",
    "\n",
    "pickle_out = open(\"individual_listings__NewYork\",\"wb\")\n",
    "pickle.dump(urls, pickle_out)\n",
    "pickle_out.close()"
   ]
  },
  {
   "cell_type": "markdown",
   "metadata": {},
   "source": [
    "# LA"
   ]
  },
  {
   "cell_type": "code",
   "execution_count": 15,
   "metadata": {},
   "outputs": [],
   "source": [
    "pickle_in = open('urls_to_query__LosAngeles','rb')\n",
    "la_job_listing_urls = pickle.load(pickle_in)\n",
    "pickle_in.close()"
   ]
  },
  {
   "cell_type": "code",
   "execution_count": 16,
   "metadata": {},
   "outputs": [],
   "source": [
    "urls = []\n",
    "for job_listing_url in la_job_listing_urls:\n",
    "    urls.append(grab_job_links(job_listing_url))\n",
    "    \n",
    "    time.sleep(np.random.poisson(100)/50)\n",
    "\n",
    "pickle_out = open(\"individual_listings__LosAngeles\",\"wb\")\n",
    "pickle.dump(urls, pickle_out)\n",
    "pickle_out.close()"
   ]
  },
  {
   "cell_type": "markdown",
   "metadata": {},
   "source": [
    "# Seattle"
   ]
  },
  {
   "cell_type": "code",
   "execution_count": 25,
   "metadata": {},
   "outputs": [],
   "source": [
    "pickle_in = open('urls_to_query__Seattle','rb')\n",
    "sa_job_listing_urls = pickle.load(pickle_in)\n",
    "pickle_in.close()"
   ]
  },
  {
   "cell_type": "code",
   "execution_count": 26,
   "metadata": {},
   "outputs": [],
   "source": [
    "urls = []\n",
    "for job_listing_url in sa_job_listing_urls:\n",
    "    urls.append(grab_job_links(job_listing_url))\n",
    "    \n",
    "    time.sleep(np.random.poisson(100)/50)\n",
    "\n",
    "pickle_out = open(\"individual_listings__Seattle\",\"wb\")\n",
    "pickle.dump(urls, pickle_out)\n",
    "pickle_out.close()"
   ]
  },
  {
   "cell_type": "markdown",
   "metadata": {},
   "source": [
    "## Looking at Links"
   ]
  },
  {
   "cell_type": "code",
   "execution_count": 17,
   "metadata": {},
   "outputs": [],
   "source": [
    "pickle_in = open('individual_listings__chicago','rb')\n",
    "Chicago_job_links = pickle.load(pickle_in)\n",
    "pickle_in.close()"
   ]
  },
  {
   "cell_type": "code",
   "execution_count": 18,
   "metadata": {},
   "outputs": [],
   "source": [
    "pickle_in = open('individual_listings__SanFranciscoBayArea','rb')\n",
    "SF_job_links = pickle.load(pickle_in)\n",
    "pickle_in.close()"
   ]
  },
  {
   "cell_type": "code",
   "execution_count": 19,
   "metadata": {},
   "outputs": [],
   "source": [
    "pickle_in = open('individual_listings__NewYork','rb')\n",
    "NY_job_links = pickle.load(pickle_in)\n",
    "pickle_in.close()"
   ]
  },
  {
   "cell_type": "code",
   "execution_count": 20,
   "metadata": {},
   "outputs": [],
   "source": [
    "pickle_in = open('individual_listings__LosAngeles','rb')\n",
    "LA_job_links = pickle.load(pickle_in)\n",
    "pickle_in.close()"
   ]
  },
  {
   "cell_type": "code",
   "execution_count": 21,
   "metadata": {},
   "outputs": [],
   "source": [
    "pickle_in = open('individual_listings__Seattle','rb')\n",
    "SA_job_links = pickle.load(pickle_in)\n",
    "pickle_in.close()"
   ]
  },
  {
   "cell_type": "code",
   "execution_count": 26,
   "metadata": {},
   "outputs": [],
   "source": [
    "pp = pprint.PrettyPrinter()"
   ]
  },
  {
   "cell_type": "code",
   "execution_count": 28,
   "metadata": {},
   "outputs": [
    {
     "name": "stdout",
     "output_type": "stream",
     "text": [
      "'https://www.indeed.com/rc/clk?jk=e954b433367813e5&fccid=5acb3ef7d5f88321&vjs=3'\n",
      "'https://www.indeed.com/company/Retrace-Labs/jobs/Data-Scientist-c6addb997485c790?fccid=3b8917bd1a013414&vjs=3'\n",
      "'https://www.indeed.com/rc/clk?jk=cf5053055ba52a6a&fccid=dc461f3a0cfc5bbb&vjs=3'\n",
      "'https://www.indeed.com/rc/clk?jk=7bd2ad2ec8e3456b&fccid=dd616958bd9ddc12&vjs=3'\n",
      "'https://www.indeed.com/rc/clk?jk=ca79ed435ca66c1e&fccid=734cb5a01ee60f80&vjs=3'\n"
     ]
    }
   ],
   "source": [
    "pp.pprint(Chicago_job_links[0][0])\n",
    "pp.pprint(SF_job_links[0][0])\n",
    "pp.pprint(NY_job_links[0][0])\n",
    "pp.pprint(LA_job_links[0][0])\n",
    "pp.pprint(SA_job_links[0][0])"
   ]
  },
  {
   "cell_type": "code",
   "execution_count": null,
   "metadata": {},
   "outputs": [],
   "source": []
  }
 ],
 "metadata": {
  "kernelspec": {
   "display_name": "Python 3",
   "language": "python",
   "name": "python3"
  },
  "language_info": {
   "codemirror_mode": {
    "name": "ipython",
    "version": 3
   },
   "file_extension": ".py",
   "mimetype": "text/x-python",
   "name": "python",
   "nbconvert_exporter": "python",
   "pygments_lexer": "ipython3",
   "version": "3.7.2"
  }
 },
 "nbformat": 4,
 "nbformat_minor": 2
}
