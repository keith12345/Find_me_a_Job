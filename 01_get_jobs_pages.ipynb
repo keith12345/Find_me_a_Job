{
 "cells": [
  {
   "cell_type": "code",
   "execution_count": 1,
   "metadata": {},
   "outputs": [],
   "source": [
    "import numpy as np\n",
    "\n",
    "import selenium\n",
    "from selenium import webdriver\n",
    "import requests\n",
    "from bs4 import BeautifulSoup\n",
    "import pickle\n",
    "import psycopg2\n",
    "\n",
    "import time\n",
    "import os"
   ]
  },
  {
   "cell_type": "code",
   "execution_count": 2,
   "metadata": {},
   "outputs": [],
   "source": [
    "os.chdir('Data')"
   ]
  },
  {
   "cell_type": "code",
   "execution_count": 3,
   "metadata": {},
   "outputs": [],
   "source": [
    "def get_soup(url):\n",
    "    chrome_options = webdriver.chrome.options.Options()\n",
    "    chrome_options.add_argument('--headless')\n",
    "    chrome_options.add_argument('--no-sandbox')\n",
    "    chrome_options.add_argument('--disable-dev-shm-usage')\n",
    "    driver = webdriver.Chrome(\n",
    "        executable_path='../../../anaconda3/bin/chromedriver',\n",
    "        options=chrome_options)\n",
    "    driver.get(url)\n",
    "    html = driver.page_source\n",
    "    soup = BeautifulSoup(html, 'html.parser')\n",
    "    driver.close()\n",
    "    return soup"
   ]
  },
  {
   "cell_type": "code",
   "execution_count": 4,
   "metadata": {},
   "outputs": [],
   "source": [
    "def grab_job_links(base_url):\n",
    "    urls = []\n",
    "    \n",
    "    soup = get_soup(base_url)\n",
    "        \n",
    "    for link in soup.find_all('div', {'class': 'title'}):\n",
    "        try:\n",
    "            partial_url = link.a.get('href')\n",
    "            url = 'https://www.indeed.com' + partial_url\n",
    "            urls.append(url)\n",
    "\n",
    "        except:\n",
    "            continue\n",
    "\n",
    "    return urls"
   ]
  },
  {
   "cell_type": "code",
   "execution_count": 3,
   "metadata": {},
   "outputs": [],
   "source": [
    "def grab_job_links(base_url):\n",
    "\n",
    "    soup = get_soup(base_url)\n",
    "    \n",
    "    urls = []\n",
    "            \n",
    "    for link in soup.find_all('div', {'class': 'title'}):\n",
    "        try:\n",
    "            partial_url = link.a.get('href')\n",
    "            url = 'https://www.indeed.com' + partial_url\n",
    "            urls.append(url)\n",
    "\n",
    "        except:\n",
    "            continue\n",
    "        \n",
    "    return urls"
   ]
  },
  {
   "cell_type": "code",
   "execution_count": 4,
   "metadata": {},
   "outputs": [],
   "source": [
    "def get_jobs_pages(pickle_ins, pickle_outs):\n",
    "    \n",
    "    for p_in, p_out in zip(pickle_ins, pickle_outs):\n",
    "        pickle_in = open(p_in, 'rb')\n",
    "        job_listing_urls = pickle.load(pickle_in)\n",
    "        pickle_in.close()\n",
    "        \n",
    "        urls = []\n",
    "        for job_listing_url in job_listing_urls:\n",
    "            urls.append(grab_job_links(job_listing_url))\n",
    "\n",
    "            time.sleep(np.random.poisson(100)/50)\n",
    "\n",
    "        pickle_out = open(p_out, 'wb')\n",
    "        pickle.dump(urls, pickle_out)\n",
    "        pickle_out.close()"
   ]
  },
  {
   "cell_type": "code",
   "execution_count": 5,
   "metadata": {},
   "outputs": [],
   "source": [
    "pickle_ins = ['urls_to_query__LosAngeles',\n",
    "              'urls_to_query__NewYork,+NY&_ga=',\n",
    "              'urls_to_query__SanFranciscoBayArea%2C+CA',\n",
    "              'urls_to_query__Seattle',\n",
    "              'urls_to_query__Chicago']\n",
    "pickle_outs = ['individual_listings__LosAngeles',\n",
    "               'individual_listings__NewYork',\n",
    "               'individual_listings__SanFranciscoBayArea',\n",
    "               'individual_listings__Seattle',\n",
    "               'individual_listings__chicago']"
   ]
  },
  {
   "cell_type": "code",
   "execution_count": null,
   "metadata": {},
   "outputs": [],
   "source": [
    "get_jobs_pages(pickle_ins, pickle_outs)"
   ]
  }
 ],
 "metadata": {
  "kernelspec": {
   "display_name": "Python 3",
   "language": "python",
   "name": "python3"
  },
  "language_info": {
   "codemirror_mode": {
    "name": "ipython",
    "version": 3
   },
   "file_extension": ".py",
   "mimetype": "text/x-python",
   "name": "python",
   "nbconvert_exporter": "python",
   "pygments_lexer": "ipython3",
   "version": "3.7.3"
  }
 },
 "nbformat": 4,
 "nbformat_minor": 4
}
