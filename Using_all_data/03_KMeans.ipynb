{
 "cells": [
  {
   "cell_type": "code",
   "execution_count": 1,
   "metadata": {},
   "outputs": [],
   "source": [
    "import numpy as np\n",
    "import pandas as pd\n",
    "\n",
    "import matplotlib.pyplot as plt\n",
    "import seaborn as sns\n",
    "\n",
    "from sklearn.cluster import KMeans"
   ]
  },
  {
   "cell_type": "code",
   "execution_count": 2,
   "metadata": {},
   "outputs": [],
   "source": [
    "df = pd.read_pickle('../Data/00_clean_custom_ngram')"
   ]
  },
  {
   "cell_type": "code",
   "execution_count": 3,
   "metadata": {},
   "outputs": [
    {
     "data": {
      "text/html": [
       "<div>\n",
       "<style scoped>\n",
       "    .dataframe tbody tr th:only-of-type {\n",
       "        vertical-align: middle;\n",
       "    }\n",
       "\n",
       "    .dataframe tbody tr th {\n",
       "        vertical-align: top;\n",
       "    }\n",
       "\n",
       "    .dataframe thead th {\n",
       "        text-align: right;\n",
       "    }\n",
       "</style>\n",
       "<table border=\"1\" class=\"dataframe\">\n",
       "  <thead>\n",
       "    <tr style=\"text-align: right;\">\n",
       "      <th></th>\n",
       "      <th>company_name</th>\n",
       "      <th>job_title</th>\n",
       "      <th>listed_items</th>\n",
       "      <th>url</th>\n",
       "    </tr>\n",
       "  </thead>\n",
       "  <tbody>\n",
       "    <tr>\n",
       "      <th>0</th>\n",
       "      <td>New York Stem Cell Foundation</td>\n",
       "      <td>PhD Scientist, Neurodegenerative Disease Brain...</td>\n",
       "      <td>develop analyze 2d 3d cellular model neurodege...</td>\n",
       "      <td>https://www.indeed.com/rc/clk?jk=60fa6b914b658...</td>\n",
       "    </tr>\n",
       "    <tr>\n",
       "      <th>2</th>\n",
       "      <td>Blue Mesa Health</td>\n",
       "      <td>Front-End Angular Developer</td>\n",
       "      <td>write develop analyze elevate well structured ...</td>\n",
       "      <td>https://www.indeed.com/rc/clk?jk=9aa1678a96dd6...</td>\n",
       "    </tr>\n",
       "    <tr>\n",
       "      <th>3</th>\n",
       "      <td>Mayor's Office of Contract Services</td>\n",
       "      <td>Analyst, Learning Management [JO 380385 &amp; 378151]</td>\n",
       "      <td>provide high quality support user city procure...</td>\n",
       "      <td>https://www.indeed.com/company/Mayor's-Office-...</td>\n",
       "    </tr>\n",
       "    <tr>\n",
       "      <th>5</th>\n",
       "      <td>ADP</td>\n",
       "      <td>Senior Strategy Analyst</td>\n",
       "      <td>structure solution complex business problem pr...</td>\n",
       "      <td>https://www.indeed.com/rc/clk?jk=bb01d61a65e12...</td>\n",
       "    </tr>\n",
       "    <tr>\n",
       "      <th>7</th>\n",
       "      <td>Avanade</td>\n",
       "      <td>Azure Data Engineer</td>\n",
       "      <td>translate business requirement technical solut...</td>\n",
       "      <td>https://www.indeed.com/rc/clk?jk=e6b5fa9fc5b0e...</td>\n",
       "    </tr>\n",
       "  </tbody>\n",
       "</table>\n",
       "</div>"
      ],
      "text/plain": [
       "                          company_name  \\\n",
       "0        New York Stem Cell Foundation   \n",
       "2                     Blue Mesa Health   \n",
       "3  Mayor's Office of Contract Services   \n",
       "5                                  ADP   \n",
       "7                              Avanade   \n",
       "\n",
       "                                           job_title  \\\n",
       "0  PhD Scientist, Neurodegenerative Disease Brain...   \n",
       "2                        Front-End Angular Developer   \n",
       "3  Analyst, Learning Management [JO 380385 & 378151]   \n",
       "5                            Senior Strategy Analyst   \n",
       "7                                Azure Data Engineer   \n",
       "\n",
       "                                        listed_items  \\\n",
       "0  develop analyze 2d 3d cellular model neurodege...   \n",
       "2  write develop analyze elevate well structured ...   \n",
       "3  provide high quality support user city procure...   \n",
       "5  structure solution complex business problem pr...   \n",
       "7  translate business requirement technical solut...   \n",
       "\n",
       "                                                 url  \n",
       "0  https://www.indeed.com/rc/clk?jk=60fa6b914b658...  \n",
       "2  https://www.indeed.com/rc/clk?jk=9aa1678a96dd6...  \n",
       "3  https://www.indeed.com/company/Mayor's-Office-...  \n",
       "5  https://www.indeed.com/rc/clk?jk=bb01d61a65e12...  \n",
       "7  https://www.indeed.com/rc/clk?jk=e6b5fa9fc5b0e...  "
      ]
     },
     "execution_count": 3,
     "metadata": {},
     "output_type": "execute_result"
    }
   ],
   "source": [
    "df.head()"
   ]
  },
  {
   "cell_type": "code",
   "execution_count": 4,
   "metadata": {},
   "outputs": [],
   "source": [
    "from sklearn.feature_extraction.text import TfidfVectorizer"
   ]
  },
  {
   "cell_type": "markdown",
   "metadata": {},
   "source": [
    "### TF-IDF - KMeans"
   ]
  },
  {
   "cell_type": "code",
   "execution_count": 5,
   "metadata": {},
   "outputs": [
    {
     "data": {
      "text/plain": [
       "(11643, 32392)"
      ]
     },
     "execution_count": 5,
     "metadata": {},
     "output_type": "execute_result"
    }
   ],
   "source": [
    "tf_idf = TfidfVectorizer(max_df=0.95)\n",
    "tf_idf_array = tf_idf.fit_transform(df.listed_items).toarray()\n",
    "tf_idf_df = pd.DataFrame(tf_idf_array,columns=tf_idf.get_feature_names())\n",
    "tf_idf_df.shape"
   ]
  },
  {
   "cell_type": "code",
   "execution_count": 6,
   "metadata": {},
   "outputs": [
    {
     "data": {
      "text/plain": [
       "array([[0., 0., 0., ..., 0., 0., 0.],\n",
       "       [0., 0., 0., ..., 0., 0., 0.],\n",
       "       [0., 0., 0., ..., 0., 0., 0.],\n",
       "       ...,\n",
       "       [0., 0., 0., ..., 0., 0., 0.],\n",
       "       [0., 0., 0., ..., 0., 0., 0.],\n",
       "       [0., 0., 0., ..., 0., 0., 0.]])"
      ]
     },
     "execution_count": 6,
     "metadata": {},
     "output_type": "execute_result"
    }
   ],
   "source": [
    "tf_idf_df.values"
   ]
  },
  {
   "cell_type": "code",
   "execution_count": null,
   "metadata": {},
   "outputs": [],
   "source": [
    "inertia = []\n",
    "i = 2\n",
    "while i <= 10:\n",
    "    num_clusters = i\n",
    "    km = KMeans(n_clusters=num_clusters,n_jobs=-1,verbose=3)\n",
    "    km.fit(tf_idf_df.values)\n",
    "    inertia.append(km.inertia_)\n",
    "    i += 1"
   ]
  },
  {
   "cell_type": "code",
   "execution_count": 15,
   "metadata": {},
   "outputs": [
    {
     "data": {
      "text/plain": [
       "<matplotlib.collections.PathCollection at 0x7f369d6cd080>"
      ]
     },
     "execution_count": 15,
     "metadata": {},
     "output_type": "execute_result"
    },
    {
     "data": {
      "image/png": "[encoded data removed]",
      "text/plain": [
       "<Figure size 432x288 with 1 Axes>"
      ]
     },
     "metadata": {
      "needs_background": "light"
     },
     "output_type": "display_data"
    }
   ],
   "source": [
    "plt.plot(range(2,11,1),inertia)\n",
    "plt.scatter(range(2,11,1),inertia)"
   ]
  },
  {
   "cell_type": "code",
   "execution_count": null,
   "metadata": {},
   "outputs": [],
   "source": [
    "inertia = []\n",
    "i = 2\n",
    "while i <= 25:\n",
    "    num_clusters = i\n",
    "    km = KMeans(n_clusters=num_clusters,n_jobs=-1,n_init=5)\n",
    "    km.fit(tf_idf_df.values)\n",
    "    inertia.append(km.inertia_)\n",
    "    i += 1"
   ]
  },
  {
   "cell_type": "code",
   "execution_count": null,
   "metadata": {},
   "outputs": [],
   "source": [
    "plt.grid()\n",
    "plt.plot(range(2,26,1),inertia)\n",
    "plt.scatter(range(2,26,1),inertia)"
   ]
  },
  {
   "cell_type": "markdown",
   "metadata": {},
   "source": [
    "### Word2vec"
   ]
  },
  {
   "cell_type": "code",
   "execution_count": null,
   "metadata": {},
   "outputs": [],
   "source": [
    "df = pd.read_pickle('../Data/00_clean_data')"
   ]
  },
  {
   "cell_type": "code",
   "execution_count": null,
   "metadata": {},
   "outputs": [],
   "source": [
    "inertia = []\n",
    "i = 2\n",
    "while i <= 25:\n",
    "    num_clusters = i\n",
    "    km = KMeans(n_clusters=num_clusters,n_jobs=-1,n_init=5)\n",
    "    km.fit(df.values)\n",
    "    inertia.append(km.inertia_)\n",
    "    i += 1"
   ]
  },
  {
   "cell_type": "code",
   "execution_count": null,
   "metadata": {},
   "outputs": [],
   "source": [
    "plt.grid()\n",
    "plt.plot(range(2,26,1),inertia)\n",
    "plt.scatter(range(2,26,1),inertia)"
   ]
  },
  {
   "cell_type": "code",
   "execution_count": null,
   "metadata": {},
   "outputs": [],
   "source": []
  }
 ],
 "metadata": {
  "kernelspec": {
   "display_name": "Python 3",
   "language": "python",
   "name": "python3"
  },
  "language_info": {
   "codemirror_mode": {
    "name": "ipython",
    "version": 3
   },
   "file_extension": ".py",
   "mimetype": "text/x-python",
   "name": "python",
   "nbconvert_exporter": "python",
   "pygments_lexer": "ipython3",
   "version": "3.7.2"
  }
 },
 "nbformat": 4,
 "nbformat_minor": 2
}
