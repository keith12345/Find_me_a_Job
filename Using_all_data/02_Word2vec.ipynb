{
 "cells": [
  {
   "cell_type": "code",
   "execution_count": 1,
   "metadata": {},
   "outputs": [],
   "source": [
    "import numpy as np\n",
    "import pandas as pd"
   ]
  },
  {
   "cell_type": "code",
   "execution_count": 2,
   "metadata": {},
   "outputs": [],
   "source": [
    "df = pd.read_pickle('../Data/00_clean_data')"
   ]
  },
  {
   "cell_type": "code",
   "execution_count": 3,
   "metadata": {},
   "outputs": [
    {
     "data": {
      "text/plain": [
       "3416"
      ]
     },
     "execution_count": 3,
     "metadata": {},
     "output_type": "execute_result"
    }
   ],
   "source": [
    "len(df)"
   ]
  },
  {
   "cell_type": "markdown",
   "metadata": {},
   "source": [
    "## Testing word2vec"
   ]
  },
  {
   "cell_type": "code",
   "execution_count": 4,
   "metadata": {},
   "outputs": [],
   "source": [
    "import gensim\n",
    "from gensim.models import Word2Vec"
   ]
  },
  {
   "cell_type": "code",
   "execution_count": 5,
   "metadata": {},
   "outputs": [],
   "source": [
    "google_vec_file = '../../../downloads/GoogleNews-vectors-negative300.bin.gz'\n",
    "model = gensim.models.KeyedVectors.load_word2vec_format(google_vec_file, binary=True)"
   ]
  },
  {
   "cell_type": "code",
   "execution_count": 6,
   "metadata": {},
   "outputs": [],
   "source": [
    "def document_vector(word2vec_model, doc):\n",
    "    # remove out-of-vocabulary words\n",
    "    doc = [word for word in doc if word in word2vec_model.vocab]\n",
    "    try:\n",
    "        out = np.mean(word2vec_model[doc], axis=0)\n",
    "    except:\n",
    "        out = ''\n",
    "    return out"
   ]
  },
  {
   "cell_type": "code",
   "execution_count": 7,
   "metadata": {},
   "outputs": [],
   "source": [
    "blank_indeces = df[df.listed_items==''].index\n",
    "df = df.drop(blank_indeces)"
   ]
  },
  {
   "cell_type": "code",
   "execution_count": 8,
   "metadata": {},
   "outputs": [],
   "source": [
    "new_df = (pd.DataFrame(df.listed_items.str.split()\n",
    "                       .apply(lambda x:document_vector(model,x))\n",
    "                       .tolist()))"
   ]
  },
  {
   "cell_type": "code",
   "execution_count": 9,
   "metadata": {},
   "outputs": [
    {
     "data": {
      "text/html": [
       "<div>\n",
       "<style scoped>\n",
       "    .dataframe tbody tr th:only-of-type {\n",
       "        vertical-align: middle;\n",
       "    }\n",
       "\n",
       "    .dataframe tbody tr th {\n",
       "        vertical-align: top;\n",
       "    }\n",
       "\n",
       "    .dataframe thead th {\n",
       "        text-align: right;\n",
       "    }\n",
       "</style>\n",
       "<table border=\"1\" class=\"dataframe\">\n",
       "  <thead>\n",
       "    <tr style=\"text-align: right;\">\n",
       "      <th></th>\n",
       "      <th>0</th>\n",
       "      <th>1</th>\n",
       "      <th>2</th>\n",
       "      <th>3</th>\n",
       "      <th>4</th>\n",
       "      <th>5</th>\n",
       "      <th>6</th>\n",
       "      <th>7</th>\n",
       "      <th>8</th>\n",
       "      <th>9</th>\n",
       "      <th>...</th>\n",
       "      <th>290</th>\n",
       "      <th>291</th>\n",
       "      <th>292</th>\n",
       "      <th>293</th>\n",
       "      <th>294</th>\n",
       "      <th>295</th>\n",
       "      <th>296</th>\n",
       "      <th>297</th>\n",
       "      <th>298</th>\n",
       "      <th>299</th>\n",
       "    </tr>\n",
       "  </thead>\n",
       "  <tbody>\n",
       "    <tr>\n",
       "      <th>0</th>\n",
       "      <td>-0.008716</td>\n",
       "      <td>-0.009617</td>\n",
       "      <td>-0.017235</td>\n",
       "      <td>0.066274</td>\n",
       "      <td>-0.017418</td>\n",
       "      <td>0.036216</td>\n",
       "      <td>0.085374</td>\n",
       "      <td>-0.082560</td>\n",
       "      <td>0.086931</td>\n",
       "      <td>0.014311</td>\n",
       "      <td>...</td>\n",
       "      <td>-0.059596</td>\n",
       "      <td>0.052170</td>\n",
       "      <td>-0.079021</td>\n",
       "      <td>0.027459</td>\n",
       "      <td>0.009404</td>\n",
       "      <td>0.033943</td>\n",
       "      <td>0.032501</td>\n",
       "      <td>-0.011881</td>\n",
       "      <td>0.000280</td>\n",
       "      <td>0.008985</td>\n",
       "    </tr>\n",
       "    <tr>\n",
       "      <th>1</th>\n",
       "      <td>-0.007004</td>\n",
       "      <td>-0.006092</td>\n",
       "      <td>-0.014539</td>\n",
       "      <td>0.040156</td>\n",
       "      <td>-0.068122</td>\n",
       "      <td>0.057329</td>\n",
       "      <td>0.057733</td>\n",
       "      <td>-0.051211</td>\n",
       "      <td>0.090838</td>\n",
       "      <td>0.008518</td>\n",
       "      <td>...</td>\n",
       "      <td>-0.079121</td>\n",
       "      <td>0.071753</td>\n",
       "      <td>-0.055537</td>\n",
       "      <td>0.012770</td>\n",
       "      <td>-0.062044</td>\n",
       "      <td>0.003124</td>\n",
       "      <td>0.034727</td>\n",
       "      <td>-0.009555</td>\n",
       "      <td>-0.004427</td>\n",
       "      <td>0.008526</td>\n",
       "    </tr>\n",
       "    <tr>\n",
       "      <th>2</th>\n",
       "      <td>-0.008476</td>\n",
       "      <td>-0.017564</td>\n",
       "      <td>-0.017886</td>\n",
       "      <td>0.051025</td>\n",
       "      <td>-0.054537</td>\n",
       "      <td>0.078179</td>\n",
       "      <td>-0.017863</td>\n",
       "      <td>-0.049610</td>\n",
       "      <td>-0.012706</td>\n",
       "      <td>0.012679</td>\n",
       "      <td>...</td>\n",
       "      <td>-0.121897</td>\n",
       "      <td>-0.001438</td>\n",
       "      <td>-0.019393</td>\n",
       "      <td>0.071744</td>\n",
       "      <td>-0.000327</td>\n",
       "      <td>0.002122</td>\n",
       "      <td>0.015581</td>\n",
       "      <td>-0.093252</td>\n",
       "      <td>-0.051049</td>\n",
       "      <td>0.112634</td>\n",
       "    </tr>\n",
       "    <tr>\n",
       "      <th>3</th>\n",
       "      <td>-0.068820</td>\n",
       "      <td>-0.007900</td>\n",
       "      <td>-0.021636</td>\n",
       "      <td>0.023571</td>\n",
       "      <td>-0.083808</td>\n",
       "      <td>0.046665</td>\n",
       "      <td>0.061643</td>\n",
       "      <td>-0.031981</td>\n",
       "      <td>0.105674</td>\n",
       "      <td>-0.002361</td>\n",
       "      <td>...</td>\n",
       "      <td>-0.082856</td>\n",
       "      <td>0.047541</td>\n",
       "      <td>-0.030797</td>\n",
       "      <td>0.014122</td>\n",
       "      <td>-0.048394</td>\n",
       "      <td>0.034096</td>\n",
       "      <td>0.050432</td>\n",
       "      <td>-0.007038</td>\n",
       "      <td>-0.020158</td>\n",
       "      <td>-0.028236</td>\n",
       "    </tr>\n",
       "    <tr>\n",
       "      <th>4</th>\n",
       "      <td>0.008239</td>\n",
       "      <td>0.021923</td>\n",
       "      <td>-0.018511</td>\n",
       "      <td>0.067806</td>\n",
       "      <td>-0.069240</td>\n",
       "      <td>0.056645</td>\n",
       "      <td>0.066426</td>\n",
       "      <td>-0.059670</td>\n",
       "      <td>0.062236</td>\n",
       "      <td>0.035144</td>\n",
       "      <td>...</td>\n",
       "      <td>-0.119926</td>\n",
       "      <td>0.057060</td>\n",
       "      <td>-0.092961</td>\n",
       "      <td>-0.022175</td>\n",
       "      <td>-0.039331</td>\n",
       "      <td>0.010416</td>\n",
       "      <td>0.041186</td>\n",
       "      <td>-0.031306</td>\n",
       "      <td>-0.029764</td>\n",
       "      <td>-0.012899</td>\n",
       "    </tr>\n",
       "  </tbody>\n",
       "</table>\n",
       "<p>5 rows × 300 columns</p>\n",
       "</div>"
      ],
      "text/plain": [
       "        0         1         2         3         4         5         6    \\\n",
       "0 -0.008716 -0.009617 -0.017235  0.066274 -0.017418  0.036216  0.085374   \n",
       "1 -0.007004 -0.006092 -0.014539  0.040156 -0.068122  0.057329  0.057733   \n",
       "2 -0.008476 -0.017564 -0.017886  0.051025 -0.054537  0.078179 -0.017863   \n",
       "3 -0.068820 -0.007900 -0.021636  0.023571 -0.083808  0.046665  0.061643   \n",
       "4  0.008239  0.021923 -0.018511  0.067806 -0.069240  0.056645  0.066426   \n",
       "\n",
       "        7         8         9      ...          290       291       292  \\\n",
       "0 -0.082560  0.086931  0.014311    ...    -0.059596  0.052170 -0.079021   \n",
       "1 -0.051211  0.090838  0.008518    ...    -0.079121  0.071753 -0.055537   \n",
       "2 -0.049610 -0.012706  0.012679    ...    -0.121897 -0.001438 -0.019393   \n",
       "3 -0.031981  0.105674 -0.002361    ...    -0.082856  0.047541 -0.030797   \n",
       "4 -0.059670  0.062236  0.035144    ...    -0.119926  0.057060 -0.092961   \n",
       "\n",
       "        293       294       295       296       297       298       299  \n",
       "0  0.027459  0.009404  0.033943  0.032501 -0.011881  0.000280  0.008985  \n",
       "1  0.012770 -0.062044  0.003124  0.034727 -0.009555 -0.004427  0.008526  \n",
       "2  0.071744 -0.000327  0.002122  0.015581 -0.093252 -0.051049  0.112634  \n",
       "3  0.014122 -0.048394  0.034096  0.050432 -0.007038 -0.020158 -0.028236  \n",
       "4 -0.022175 -0.039331  0.010416  0.041186 -0.031306 -0.029764 -0.012899  \n",
       "\n",
       "[5 rows x 300 columns]"
      ]
     },
     "execution_count": 9,
     "metadata": {},
     "output_type": "execute_result"
    }
   ],
   "source": [
    "new_df.head()"
   ]
  },
  {
   "cell_type": "code",
   "execution_count": 10,
   "metadata": {},
   "outputs": [],
   "source": [
    "new_df.to_pickle('../Data/00_all_data_word2vec')"
   ]
  },
  {
   "cell_type": "code",
   "execution_count": null,
   "metadata": {},
   "outputs": [],
   "source": []
  }
 ],
 "metadata": {
  "kernelspec": {
   "display_name": "Python 3",
   "language": "python",
   "name": "python3"
  },
  "language_info": {
   "codemirror_mode": {
    "name": "ipython",
    "version": 3
   },
   "file_extension": ".py",
   "mimetype": "text/x-python",
   "name": "python",
   "nbconvert_exporter": "python",
   "pygments_lexer": "ipython3",
   "version": "3.7.2"
  }
 },
 "nbformat": 4,
 "nbformat_minor": 2
}
